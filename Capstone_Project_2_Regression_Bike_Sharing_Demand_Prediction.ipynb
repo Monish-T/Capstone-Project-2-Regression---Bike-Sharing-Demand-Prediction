{
  "nbformat": 4,
  "nbformat_minor": 0,
  "metadata": {
    "colab": {
      "private_outputs": true,
      "provenance": [],
      "collapsed_sections": [
        "vncDsAP0Gaoa",
        "yQaldy8SH6Dl",
        "mDgbUHAGgjLW",
        "x71ZqKXriCWQ",
        "7hBIi_osiCS2",
        "JlHwYmJAmNHm",
        "H0kj-8xxnORC",
        "nA9Y7ga8ng1Z",
        "dauF4eBmngu3",
        "zP_sETfVrtvx",
        "qGNz1GO5r0fh",
        "yashJGsauI3T",
        "18zhUeOz0c2j",
        "ji6s4AGP2SAT",
        "72umh5Iq6ztO",
        "MSa1f5Uengrz",
        "GF8Ens_Soomf",
        "KSlN3yHqYklG",
        "n3dbpmDWp1ck",
        "Ag9LCva-p1cl",
        "NC_X3p0fY2L0",
        "q29F0dvdveiT",
        "EXh0U9oCveiU",
        "OXtVJdmeTrg4",
        "yLjJCtPM0KBk",
        "Iwf50b-R2tYG",
        "GMQiZwjn3iu7",
        "WVIkgGqN3qsr",
        "XkPnILGE3zoT",
        "Hlsf0x5436Go",
        "mT9DMSJo4nBL",
        "c49ITxTc407N",
        "OeJFEK0N496M",
        "9ExmJH0g5HBk",
        "cJNqERVU536h",
        "k5UmGsbsOxih",
        "T0VqWOYE6DLQ",
        "qBMux9mC6MCf",
        "P1XJ9OREExlT",
        "VFOzZv6IFROw",
        "TIqpNgepFxVj",
        "wF66uuyD2HZk",
        "dJ2tPlVmpsJ0",
        "7AN1z2sKpx6M",
        "h_CCil-SKHpo",
        "KH5McJBi2d8v",
        "iW_Lq9qf2h6X",
        "-Kee-DAl2viO",
        "gCX9965dhzqZ",
        "gIfDvo9L0UH2"
      ]
    },
    "kernelspec": {
      "name": "python3",
      "display_name": "Python 3"
    },
    "language_info": {
      "name": "python"
    }
  },
  "cells": [
    {
      "cell_type": "markdown",
      "source": [
        "# **Project Name**    -  Bike Sharing Demand Prediction\n",
        "\n"
      ],
      "metadata": {
        "id": "vncDsAP0Gaoa"
      }
    },
    {
      "cell_type": "markdown",
      "source": [
        "##### **Project Type**    - Regression\n",
        "##### **Contribution**    - Individual\n",
        "##### **Name** -  Monish TIlwani"
      ],
      "metadata": {
        "id": "beRrZCGUAJYm"
      }
    },
    {
      "cell_type": "markdown",
      "source": [
        "# **Project Summary -**"
      ],
      "metadata": {
        "id": "FJNUwmbgGyua"
      }
    },
    {
      "cell_type": "markdown",
      "source": [
        "Currently Rental bike are being Introduced in many Urban Cities. Bike sharing is a convenient and eco-friendly mode of transportation that allows people to rent bikes from one location and return them to another. Bike sharing systems are becoming increasingly popular in urban areas, as they provide a low-cost and flexible alternative to public transit or private vehicles.\n",
        "\n",
        "However, bike sharing systems also face challenges such as balancing the supply and demand of bikes across different time periods for every hour, ensuring the availability and lessening the waiting time. and maintenance of bikes, and optimizing the pricing and promotion strategies.\n",
        "\n",
        "The goal of this project is to develop a machine learning model that can predict the hourly demand of bikes in the city, using historical data and other relevant features.\n",
        "\n",
        "The main steps of the project are:\n",
        "\n",
        "1. Basic EDA (Exploratory Data Analysis).: I have performed basic EDA to understand the data and its characteristics.\n",
        "\n",
        " also, have used Univariate - BI variate - and Multivarite analysis to Understanding the correlation between variables and to explore distribution and intercation of variables.\n",
        "\n",
        " also have also used visualization techniques such as histograms, boxplots, scatterplots, heatmaps, etc. to display the results of EDA.\n",
        "\n",
        "2. Hypothesis testing. I have performed hypothesis testing to test the relationship between the variables. \n",
        "\n",
        "  also have used statistical tests such as t-test, ANOVA, chi-square test. to compare the means or proportions of different groups or categories.\n",
        "\n",
        "\n",
        "3. Feature Engineering and Data Preprocessing. : to create and select the most relevant and informative features for the model. \n",
        "\n",
        "  also have used methods such as correlation analysis variance threshold, etc. to select the best Numerical features for the model. For Categorical variable the result of Hypothesis testing is used.\n",
        "\n",
        "  also have also performed data cleaning, Scaling and transformation to prepare the data for modeling.\n",
        "\n",
        "4. ML Model Development and Evaluation : In this project Have developed and evaluated different machine learning Models. Have used both Distance based algorithm Linear and Polynomial Regression. Also have used Tree Based Algorithm. \n",
        "\n",
        "  Used Different techniques such as cross-validation, grid search, regularization, etc. to optimize the model parameters and performance.\n",
        "\n",
        "  evaluated the model performance using metrics such as mean squared error (MSE), root mean squared error (RMSE), r2 and Adjusted r2.\n",
        "\n",
        "5. Model Interpretation and Explanation : explained the model predictions using methods such as SHAP values.\n",
        "\n",
        "  It helped to analyzes the effect of different factors on the demand and identifies the key drivers and patterns of bike sharing demand.\n",
        "\n",
        "6. pickle file format for deployment process. : save the final model in a pickle file format, which is a binary file that can store any Python object. \n",
        "\n",
        "  The pickle file format allows the model to be easily loaded and used for deployment process."
      ],
      "metadata": {
        "id": "F6v_1wHtG2nS"
      }
    },
    {
      "cell_type": "markdown",
      "source": [
        "# **GitHub Link -**"
      ],
      "metadata": {
        "id": "w6K7xa23Elo4"
      }
    },
    {
      "cell_type": "markdown",
      "source": [
        "https://github.com/Monish-T/Capstone-Project-2-Regression---Bike-Sharing-Demand-Prediction.git"
      ],
      "metadata": {
        "id": "h1o69JH3Eqqn"
      }
    },
    {
      "cell_type": "markdown",
      "source": [
        "# **Problem Statement**\n"
      ],
      "metadata": {
        "id": "yQaldy8SH6Dl"
      }
    },
    {
      "cell_type": "markdown",
      "source": [
        "Currently Rental bike are being Introduced in many Urban Cities. Bike sharing is a convenient and eco-friendly mode of transportation that allows people to rent bikes from one location and return them to another. Bike sharing systems are becoming increasingly popular in urban areas, as they provide a low-cost and flexible alternative to public transit or private vehicles. \n",
        "\n",
        "However, bike sharing systems also face challenges such as balancing the supply and demand of bikes across different time periods for every hour, ensuring the availability and lessening the waiting time. and maintenance of bikes, and optimizing the pricing and promotion strategies.\n",
        "\n",
        "The goal of this project is to develop a machine learning model that can predict the hourly demand of bikes in the city, using historical data and other relevant features. \n"
      ],
      "metadata": {
        "id": "DpeJGUA3kjGy"
      }
    },
    {
      "cell_type": "markdown",
      "source": [
        "# **General Guidelines** : -  "
      ],
      "metadata": {
        "id": "mDgbUHAGgjLW"
      }
    },
    {
      "cell_type": "markdown",
      "source": [
        "1.   Well-structured, formatted, and commented code is required. \n",
        "2.   Exception Handling, Production Grade Code & Deployment Ready Code will be a plus. Those students will be awarded some additional credits. \n",
        "     \n",
        "     The additional credits will have advantages over other students during Star Student selection.\n",
        "       \n",
        "             [ Note: - Deployment Ready Code is defined as, the whole .ipynb notebook should be executable in one go\n",
        "                       without a single error logged. ]\n",
        "\n",
        "3.   Each and every logic should have proper comments.\n",
        "4. You may add as many number of charts you want. Make Sure for each and every chart the following format should be answered.\n",
        "        \n",
        "\n",
        "```\n",
        "# Chart visualization code\n",
        "```\n",
        "            \n",
        "\n",
        "*   Why did you pick the specific chart?\n",
        "*   What is/are the insight(s) found from the chart?\n",
        "* Will the gained insights help creating a positive business impact? \n",
        "Are there any insights that lead to negative growth? Justify with specific reason.\n",
        "\n",
        "5. You have to create at least 15 logical & meaningful charts having important insights.\n",
        "\n",
        "\n",
        "[ Hints : - Do the Vizualization in  a structured way while following \"UBM\" Rule. \n",
        "\n",
        "U - Univariate Analysis,\n",
        "\n",
        "B - Bivariate Analysis (Numerical - Categorical, Numerical - Numerical, Categorical - Categorical)\n",
        "\n",
        "M - Multivariate Analysis\n",
        " ]\n",
        "\n",
        "\n",
        "\n",
        "\n",
        "\n",
        "6. You may add more ml algorithms for model creation. Make sure for each and every algorithm, the following format should be answered.\n",
        "\n",
        "\n",
        "*   Explain the ML Model used and it's performance using Evaluation metric Score Chart.\n",
        "\n",
        "\n",
        "*   Cross- Validation & Hyperparameter Tuning\n",
        "\n",
        "*   Have you seen any improvement? Note down the improvement with updates Evaluation metric Score Chart.\n",
        "\n",
        "*   Explain each evaluation metric's indication towards business and the business impact pf the ML model used.\n",
        "\n",
        "\n",
        "\n",
        "\n",
        "\n",
        "\n",
        "\n",
        "\n",
        "\n",
        "\n",
        "\n",
        "\n",
        "\n",
        "\n",
        "\n",
        "\n",
        "\n",
        "\n"
      ],
      "metadata": {
        "id": "ZrxVaUj-hHfC"
      }
    },
    {
      "cell_type": "markdown",
      "source": [
        "# ***Let's Begin !***"
      ],
      "metadata": {
        "id": "O_i_v8NEhb9l"
      }
    },
    {
      "cell_type": "markdown",
      "source": [
        "## ***1. Know Your Data***"
      ],
      "metadata": {
        "id": "HhfV-JJviCcP"
      }
    },
    {
      "cell_type": "markdown",
      "source": [
        "### Import Libraries"
      ],
      "metadata": {
        "id": "Y3lxredqlCYt"
      }
    },
    {
      "cell_type": "code",
      "source": [
        "# Import Libraries\n",
        "import numpy as np\n",
        "import pandas as pd\n",
        "import seaborn as sns\n",
        "import matplotlib.pyplot as plt\n",
        "%matplotlib inline\n",
        "\n",
        "import datetime as dt\n",
        "\n",
        "from scipy.stats import ttest_ind\n",
        "from scipy.stats import norm\n",
        "from scipy.stats import f\n",
        "\n",
        "from statsmodels.stats.outliers_influence import variance_inflation_factor as VIF\n",
        "\n",
        "import statsmodels.api as sm\n",
        "from statsmodels.formula.api import ols\n",
        "\n",
        "from sklearn.preprocessing import StandardScaler\n",
        "\n",
        "from sklearn.model_selection import train_test_split\n",
        "\n",
        "from sklearn.linear_model import LinearRegression\n",
        "from sklearn.metrics import r2_score,mean_squared_error\n",
        "from sklearn.linear_model import ElasticNet\n",
        "from sklearn.model_selection import GridSearchCV\n",
        "from sklearn.model_selection import RandomizedSearchCV\n",
        "from sklearn.preprocessing import PolynomialFeatures\n",
        "\n",
        "from sklearn.preprocessing import LabelEncoder\n",
        "\n",
        "from sklearn.linear_model import Lasso,Ridge\n",
        "from sklearn.tree import DecisionTreeRegressor\n",
        "from sklearn.ensemble import RandomForestRegressor\n",
        "from sklearn.ensemble import GradientBoostingRegressor\n",
        "import xgboost as xgb\n",
        "from lightgbm import LGBMRegressor\n",
        "\n",
        "!pip install shap\n",
        "import shap "
      ],
      "metadata": {
        "id": "M8Vqi-pPk-HR"
      },
      "execution_count": null,
      "outputs": []
    },
    {
      "cell_type": "markdown",
      "source": [
        "### Dataset Loading"
      ],
      "metadata": {
        "id": "3RnN4peoiCZX"
      }
    },
    {
      "cell_type": "code",
      "source": [
        "# Mounting the Drive\n",
        "from google.colab import drive\n",
        "drive.mount('/content/drive/')"
      ],
      "metadata": {
        "id": "6bGVhPEBpLmL"
      },
      "execution_count": null,
      "outputs": []
    },
    {
      "cell_type": "code",
      "source": [
        "# Load Dataset\n",
        "file_location = '/content/drive/MyDrive/Alma Better/Capstone Projects/Capstone Project 2 : Regression - Bike Sharing Demand Prediction/SeoulBikeData.csv'\n",
        "dataset = pd.read_csv(file_location,\n",
        "                      encoding='iso-8859-1',\n",
        "                      engine='python',\n",
        "                      parse_dates=['Date'],\n",
        "                      dayfirst=True)\n",
        "\n",
        "pipe_df = pd.read_csv(file_location,\n",
        "                      encoding='iso-8859-1',\n",
        "                      engine='python',\n",
        "                      parse_dates=['Date'],\n",
        "                      dayfirst=True)"
      ],
      "metadata": {
        "id": "4CkvbW_SlZ_R"
      },
      "execution_count": null,
      "outputs": []
    },
    {
      "cell_type": "markdown",
      "source": [
        "### Dataset First View"
      ],
      "metadata": {
        "id": "x71ZqKXriCWQ"
      }
    },
    {
      "cell_type": "code",
      "source": [
        "# Dataset First Look\n",
        "dataset.head()"
      ],
      "metadata": {
        "id": "LWNFOSvLl09H"
      },
      "execution_count": null,
      "outputs": []
    },
    {
      "cell_type": "markdown",
      "source": [
        "### Dataset Rows & Columns count"
      ],
      "metadata": {
        "id": "7hBIi_osiCS2"
      }
    },
    {
      "cell_type": "code",
      "source": [
        "# Dataset Rows & Columns count\n",
        "print(f'Number of Rows : {dataset.shape[0]}')\n",
        "print(f'Number of columns : {dataset.shape[1]}')"
      ],
      "metadata": {
        "id": "Kllu7SJgmLij"
      },
      "execution_count": null,
      "outputs": []
    },
    {
      "cell_type": "markdown",
      "source": [
        "### Dataset Information"
      ],
      "metadata": {
        "id": "JlHwYmJAmNHm"
      }
    },
    {
      "cell_type": "code",
      "source": [
        "# Dataset Info\n",
        "dataset.info()"
      ],
      "metadata": {
        "id": "e9hRXRi6meOf"
      },
      "execution_count": null,
      "outputs": []
    },
    {
      "cell_type": "markdown",
      "source": [
        "#### Duplicate Values"
      ],
      "metadata": {
        "id": "35m5QtbWiB9F"
      }
    },
    {
      "cell_type": "code",
      "source": [
        "# Dataset Duplicate Value Count\n",
        "len(dataset[dataset.duplicated()])"
      ],
      "metadata": {
        "id": "1sLdpKYkmox0"
      },
      "execution_count": null,
      "outputs": []
    },
    {
      "cell_type": "markdown",
      "source": [
        "No duplicate values"
      ],
      "metadata": {
        "id": "PhZ3e7Xyp7Nx"
      }
    },
    {
      "cell_type": "markdown",
      "source": [
        "#### Missing Values/Null Values"
      ],
      "metadata": {
        "id": "PoPl-ycgm1ru"
      }
    },
    {
      "cell_type": "code",
      "source": [
        "# Missing Values/Null Values Count\n",
        "null_df = pd.DataFrame(dataset.isna().sum())\n",
        "null_df"
      ],
      "metadata": {
        "id": "GgHWkxvamxVg"
      },
      "execution_count": null,
      "outputs": []
    },
    {
      "cell_type": "code",
      "source": [
        "# Visualizing the missing values\n",
        "# Checking Null Value by plotting Heatmap\n",
        "sns.heatmap(dataset.isnull(), cbar=False)"
      ],
      "metadata": {
        "id": "3q5wnI3om9sJ"
      },
      "execution_count": null,
      "outputs": []
    },
    {
      "cell_type": "markdown",
      "source": [
        "### What did you know about your dataset?"
      ],
      "metadata": {
        "id": "H0kj-8xxnORC"
      }
    },
    {
      "cell_type": "markdown",
      "source": [
        "> Findings about the given Dataset:\n",
        "\n",
        "1.   Number of Rows : 8760\n",
        "\n",
        "  Number of columns : 14\n",
        "2.   No columns have missing values.\n",
        "3.   No Duplicate values.\n",
        "\n",
        "\n"
      ],
      "metadata": {
        "id": "gfoNAAC-nUe_"
      }
    },
    {
      "cell_type": "markdown",
      "source": [
        "## ***2. Understanding Your Variables***"
      ],
      "metadata": {
        "id": "nA9Y7ga8ng1Z"
      }
    },
    {
      "cell_type": "code",
      "source": [
        "# Dataset Columns\n",
        "dataset.columns.to_list()"
      ],
      "metadata": {
        "id": "j7xfkqrt5Ag5"
      },
      "execution_count": null,
      "outputs": []
    },
    {
      "cell_type": "code",
      "source": [
        "# Dataset Describe\n",
        "dataset.describe()"
      ],
      "metadata": {
        "id": "DnOaZdaE5Q5t"
      },
      "execution_count": null,
      "outputs": []
    },
    {
      "cell_type": "code",
      "source": [
        "# Dataset Describe for all columns\n",
        "dataset.describe(include='all')"
      ],
      "metadata": {
        "id": "JVII0kLwqpjh"
      },
      "execution_count": null,
      "outputs": []
    },
    {
      "cell_type": "markdown",
      "source": [
        "### Variables Description "
      ],
      "metadata": {
        "id": "PBTbrJXOngz2"
      }
    },
    {
      "cell_type": "markdown",
      "source": [
        "1. **Date -**  datetime datatype. \n",
        "    \n",
        "    From - 2017-12-01 to 2018-11-30.\n",
        "\n",
        "    365 days (1 year).\n",
        "2. **Rented Bike Count -** Numbers of Bikes rented in a particular given hour.\n",
        "\n",
        "3. **Hour -** Particular Given hour of a day. 0-23 hours.\n",
        "\n",
        "4. **Temperature(°C) -** Temperature during the given hour of the day.\n",
        "\n",
        "5. **Humidity(%) -** Percentage of Humidity during the given hour of the day.\n",
        "\n",
        "6. **Wind speed (m/s) -** Average Wind Speed During the the given Hour of the day.\n",
        "\n",
        "7. **Visibility (10m) -** Visibility measured for 10m. for the given hour\n",
        "\n",
        "8. **Dew point temperature(°C) -** Measured in celcius for the given hour.\n",
        "\n",
        "9. **Solar Radiation (MJ/m2) -** Measaured for the given Hour.\n",
        "\n",
        "10. **Rainfall(mm) -** Total Rainfall measaured in mm for the given Hour.\n",
        "\n",
        "11. **Snowfall (cm) -** Total Snowfall measured in cm for the given hour.\n",
        "\n",
        "12. **Seasons -** Complete year Divided into Four Seasons. Spring, Summer, fall, Winter.\n",
        "\n",
        "13. **Holiday -** Wether it is a Holiday or a Normal Working Day.\n",
        "\n",
        "14. **Functioning Day -** Wether the day is Functioing Day for the company or a Non Functioning day."
      ],
      "metadata": {
        "id": "aJV4KIxSnxay"
      }
    },
    {
      "cell_type": "markdown",
      "source": [
        "### Check Unique Values for each variable."
      ],
      "metadata": {
        "id": "u3PMJOP6ngxN"
      }
    },
    {
      "cell_type": "code",
      "source": [
        "# Check Unique Values for each variable. \n",
        "# printing the count of unique values in each column\n",
        "# creating a empty dataframe to store the values \n",
        "uni_df = pd.DataFrame()\n",
        "# saving the column list in 1st column\n",
        "uni_df['Variable'] = dataset.describe(include='all').columns.to_list()\n",
        "# saving the number of unique variables in 2nd column\n",
        "uni_df['Num of Unique values'] = uni_df['Variable'].apply(lambda x : dataset[x].nunique())\n",
        "uni_df"
      ],
      "metadata": {
        "id": "zms12Yq5n-jE"
      },
      "execution_count": null,
      "outputs": []
    },
    {
      "cell_type": "code",
      "source": [
        "# printing the unique variable\n",
        "# creating a list with all column names\n",
        "column_list = dataset.columns.tolist()\n",
        "#creating a for loop to print unique variables of each column\n",
        "for col in column_list:\n",
        "  print(f\"Unique values of column {col} are : \\n {dataset[col].unique()} \\n \\n\")"
      ],
      "metadata": {
        "id": "Ik0HO1t5rD-j"
      },
      "execution_count": null,
      "outputs": []
    },
    {
      "cell_type": "markdown",
      "source": [
        "## 3. ***Data Wrangling***"
      ],
      "metadata": {
        "id": "dauF4eBmngu3"
      }
    },
    {
      "cell_type": "markdown",
      "source": [
        "### Data Wrangling Code"
      ],
      "metadata": {
        "id": "bKJF3rekwFvQ"
      }
    },
    {
      "cell_type": "code",
      "source": [
        "# Write your code to make your dataset analysis ready.\n",
        "# Creating a copy of dataframe\n",
        "df = dataset.copy()"
      ],
      "metadata": {
        "id": "wk-9a2fpoLcV"
      },
      "execution_count": null,
      "outputs": []
    },
    {
      "cell_type": "markdown",
      "source": [
        "#### Basic Box plots to find Outliers"
      ],
      "metadata": {
        "id": "zP_sETfVrtvx"
      }
    },
    {
      "cell_type": "code",
      "source": [
        "# Write your code to make your dataset analysis ready.\n",
        "# plotting box plot. To check if there are any outliers in the data.\n",
        "# creating a list of numerical variable names.\n",
        "numerical_var = df.describe().columns.to_list()\n",
        "# iterating over column names to plot graph for each numerical column. \n",
        "for col in numerical_var:\n",
        "  # setting size of graph.\n",
        "  fig = plt.figure(figsize=(5,4))\n",
        "  # plotting the graph\n",
        "  sns.boxplot(x=dataset[col])\n",
        "  # adding grid for better visualization\n",
        "  plt.grid()\n",
        "plt.show()"
      ],
      "metadata": {
        "id": "FTX7bNfQrgT6"
      },
      "execution_count": null,
      "outputs": []
    },
    {
      "cell_type": "code",
      "source": [
        "# Bar plots for categorical variable\n",
        "\n",
        "# creating List of categorical variable names\n",
        "categorical_features = df.describe(include=['object','category']).columns.to_list()\n",
        "categorical_features\n",
        "\n",
        "# plotting the bar plot for all categorical columns\n",
        "for col in categorical_features:\n",
        "  counts = df[col].value_counts().sort_index()\n",
        "  fig= plt.figure(figsize=(7,5))\n",
        "  ax = fig.gca()\n",
        "  counts.plot.bar(ax = ax, color='steelblue')\n",
        "  ax.set_title(col + ' counts')\n",
        "  ax.set_xlabel(col)\n",
        "  ax.set_ylabel('Frequency')\n",
        "  plt.grid()\n",
        "plt.show()"
      ],
      "metadata": {
        "id": "vLQARSCMEXGP"
      },
      "execution_count": null,
      "outputs": []
    },
    {
      "cell_type": "code",
      "source": [
        "# Box plot for all categorical variable \n",
        "for col in categorical_features:\n",
        "    fig = plt.figure(figsize=(6, 5))\n",
        "    ax = fig.gca()\n",
        "    df.boxplot(column = 'Rented Bike Count', by = col, ax = ax)\n",
        "    ax.set_title('Label by ' + col)\n",
        "    ax.set_ylabel(\"Avg Hourly Booking\")\n",
        "    plt.grid(which='both',alpha=0.5,linestyle='--')\n",
        "plt.show()"
      ],
      "metadata": {
        "id": "kw_Tnqp2FvXC"
      },
      "execution_count": null,
      "outputs": []
    },
    {
      "cell_type": "markdown",
      "source": [
        "#### Univariate analysis for target variable"
      ],
      "metadata": {
        "id": "qGNz1GO5r0fh"
      }
    },
    {
      "cell_type": "code",
      "source": [
        "df['Rented Bike Count'].value_counts().sort_index()"
      ],
      "metadata": {
        "id": "_tkzBHHor1oK"
      },
      "execution_count": null,
      "outputs": []
    },
    {
      "cell_type": "markdown",
      "source": [
        "Rented Bike Count for an hour varies from 0 to 3556"
      ],
      "metadata": {
        "id": "U0DjtshosT0h"
      }
    },
    {
      "cell_type": "code",
      "source": [
        "# Finding the mean and median values of the Bikes rented in an Hour  \n",
        "\n",
        "min_bikes = df['Rented Bike Count'].min()\n",
        "max_bikes = df['Rented Bike Count'].max()\n",
        "mean_bikes = df['Rented Bike Count'].mean()\n",
        "median_bikes = df['Rented Bike Count'].median()\n",
        "\n",
        "print(f\"Minimum Bikes Rented per hour = {min_bikes}\")\n",
        "print(f\"Maximum Bikes Rented per hour = {max_bikes}\")\n",
        "print(f\"Average (mean) Bikes Rented per hour = {mean_bikes}\")\n",
        "print(f\"Average (median) Bikes Rented per hour = {median_bikes}\")"
      ],
      "metadata": {
        "id": "AYoywKMZsUqd"
      },
      "execution_count": null,
      "outputs": []
    },
    {
      "cell_type": "markdown",
      "source": [
        "#### Univariate analysis for Independent variables\n"
      ],
      "metadata": {
        "id": "yashJGsauI3T"
      }
    },
    {
      "cell_type": "markdown",
      "source": [
        "##### Univariate analysis for Independent variables - Numerical Column"
      ],
      "metadata": {
        "id": "jUTlgsd0uJmB"
      }
    },
    {
      "cell_type": "code",
      "source": [
        "col_list = df.describe().columns.to_list()\n",
        "univariate_analysis_df = pd.DataFrame(columns=['var_name','min_value','max_value','median','mean'])\n",
        "for i,col in enumerate(col_list):\n",
        "  univariate_analysis_df.loc[i] = [col,df[col].min(),df[col].max(),df[col].median(),df[col].mean()]\n",
        "univariate_analysis_df"
      ],
      "metadata": {
        "id": "WtGsU4VCuOQy"
      },
      "execution_count": null,
      "outputs": []
    },
    {
      "cell_type": "markdown",
      "source": [
        "##### Univariate analysis for Independent variables - Categorical Column"
      ],
      "metadata": {
        "id": "HBt03AJhzGfT"
      }
    },
    {
      "cell_type": "code",
      "source": [
        "# Hours per season \n",
        "seasons_df = df['Seasons'].value_counts().reset_index().rename(columns={'index':'season','Seasons':'Number of Hours'})\n",
        "seasons_df"
      ],
      "metadata": {
        "id": "Lsrsw7x7zHWv"
      },
      "execution_count": null,
      "outputs": []
    },
    {
      "cell_type": "code",
      "source": [
        "# Holiday and No holiday hours\n",
        "holiday_df =  df['Holiday'].value_counts().reset_index().rename(columns={'index':'Title','Holiday':'Number of Hours'})\n",
        "holiday_df"
      ],
      "metadata": {
        "id": "vRiZLMiPzpKy"
      },
      "execution_count": null,
      "outputs": []
    },
    {
      "cell_type": "code",
      "source": [
        "# functioning and non functioning hours\n",
        "df['Functioning Day'].value_counts().reset_index().rename(columns={'index':'Functioning Day Title','Functioning Day':'Number of Hours'})"
      ],
      "metadata": {
        "id": "Zbu1KwQ7z8YN"
      },
      "execution_count": null,
      "outputs": []
    },
    {
      "cell_type": "markdown",
      "source": [
        "#### Bivariate analysis with target variable\n",
        "\n"
      ],
      "metadata": {
        "id": "kJSiGrDn0Wa7"
      }
    },
    {
      "cell_type": "markdown",
      "source": [
        "##### Bivariate analysis with target variable and numerical variables"
      ],
      "metadata": {
        "id": "18zhUeOz0c2j"
      }
    },
    {
      "cell_type": "code",
      "source": [
        "# Change in  Bike rent count w.r.t change in hour of the day\n",
        "hourly_avg_bikes_rent_df = df.groupby(['Hour'])['Rented Bike Count'].mean().reset_index().rename(columns={'index':'Hour Of the day','Functioning Day':'Avg Bikes rented'})\n",
        "hourly_avg_bikes_rent_df"
      ],
      "metadata": {
        "id": "FYsX6JOx0ZSg"
      },
      "execution_count": null,
      "outputs": []
    },
    {
      "cell_type": "markdown",
      "source": [
        "Highest Bikes rented during the day is between 6PM to 7PM. "
      ],
      "metadata": {
        "id": "Ny6E0IYFT2od"
      }
    },
    {
      "cell_type": "code",
      "source": [
        "# Bike rent hourly AVg trend w.r.t temperaure \n",
        "df.groupby(['Temperature(°C)'])['Rented Bike Count'].mean().sort_values().reset_index().rename(columns={'index':'Temperatuure','Temperature(°C)':'Temperature','Rented Bike Count':'Avg Bike Rented'})"
      ],
      "metadata": {
        "id": "JmVVPPB-01ew"
      },
      "execution_count": null,
      "outputs": []
    },
    {
      "cell_type": "markdown",
      "source": [
        "As the Temperature rises the Average number of bookings increase. "
      ],
      "metadata": {
        "id": "vjD4hhvFULmb"
      }
    },
    {
      "cell_type": "code",
      "source": [
        "# Bike rent hourly AVg trend w.r.t Dew point temperature(°C) \n",
        "df.groupby(['Dew point temperature(°C)'])['Rented Bike Count'].mean().reset_index().rename(columns={'index':'Temperatuure','Rented Bike Count':'Avg Bike Rented'})"
      ],
      "metadata": {
        "id": "bKsZf68Z1IVY"
      },
      "execution_count": null,
      "outputs": []
    },
    {
      "cell_type": "markdown",
      "source": [
        "As the Dew Point Temperature increses the Average number of Bikes Rented also increase."
      ],
      "metadata": {
        "id": "xZn6QJ9bUX1L"
      }
    },
    {
      "cell_type": "code",
      "source": [
        "# Bike rent hourly AVg trend w.r.t Dew point Humidity(%) \n",
        "df.groupby(['Humidity(%)'])['Rented Bike Count'].mean().reset_index().rename(columns={'index':'Temperatuure','Rented Bike Count':'Avg Bike Rented'})"
      ],
      "metadata": {
        "id": "YKC-Y7ic1T7f"
      },
      "execution_count": null,
      "outputs": []
    },
    {
      "cell_type": "markdown",
      "source": [
        "Reverse trend between Humidity and Avg bikes rented per hour. As the Humidity Increases the Avg Biked Rented Decreases."
      ],
      "metadata": {
        "id": "b_NXZOQCUkr9"
      }
    },
    {
      "cell_type": "code",
      "source": [
        "# Bike rent hourly AVg trend w.r.t Wind speed (m/s) \n",
        "df.groupby(['Wind speed (m/s)'])['Rented Bike Count'].mean().reset_index().rename(columns={'index':'Temperatuure','Rented Bike Count':'Avg Bike Rented'})"
      ],
      "metadata": {
        "id": "A1SqDWZM1cYv"
      },
      "execution_count": null,
      "outputs": []
    },
    {
      "cell_type": "markdown",
      "source": [
        "No particular relation can be derived."
      ],
      "metadata": {
        "id": "NMKdVitZU38P"
      }
    },
    {
      "cell_type": "code",
      "source": [
        "# Bike rent hourly AVg trend w.r.t Wind speed (Visibility (10m)) \n",
        "df.groupby(['Visibility (10m)'])['Rented Bike Count'].mean().reset_index().rename(columns={'index':'Temperatuure','Rented Bike Count':'Avg Bike Rented'})"
      ],
      "metadata": {
        "id": "AtanhTvd1jjf"
      },
      "execution_count": null,
      "outputs": []
    },
    {
      "cell_type": "markdown",
      "source": [
        "As the Visibilty decreses the Avg Bikes Rented per Hour also decrease."
      ],
      "metadata": {
        "id": "s_Is_OEpU-0Y"
      }
    },
    {
      "cell_type": "code",
      "source": [
        "# Bike rent hourly AVg trend w.r.t Solar Radiation (MJ/m2) \n",
        "df.groupby(['Solar Radiation (MJ/m2)'])['Rented Bike Count'].mean().reset_index().rename(columns={'index':'Temperatuure','Rented Bike Count':'Avg Bike Rented'})"
      ],
      "metadata": {
        "id": "g1nhLE-S1wuH"
      },
      "execution_count": null,
      "outputs": []
    },
    {
      "cell_type": "markdown",
      "source": [
        "As the Solar radiation increseas the Avg biked rented per hour also Increase."
      ],
      "metadata": {
        "id": "Rka_uGBLVKDT"
      }
    },
    {
      "cell_type": "code",
      "source": [
        "# Bike rent hourly AVg trend w.r.t Rainfall(mm) \n",
        "df.groupby(['Rainfall(mm)'])['Rented Bike Count'].mean().reset_index().rename(columns={'index':'Temperatuure','Rented Bike Count':'Avg Bike Rented'})"
      ],
      "metadata": {
        "id": "pdF4zaf2197P"
      },
      "execution_count": null,
      "outputs": []
    },
    {
      "cell_type": "markdown",
      "source": [
        "No Rainfall Hour have higher average compared to the Hours having rainfall.\n",
        "Also as the rain intensifies the avg booking tend to decrease."
      ],
      "metadata": {
        "id": "0hqsNYqhVTua"
      }
    },
    {
      "cell_type": "code",
      "source": [
        "# Bike rent hourly AVg trend w.r.t Snowfall (cm)\n",
        "df.groupby(['Snowfall (cm)'])['Rented Bike Count'].mean().reset_index().rename(columns={'Rented Bike Count':'Avg Bike Rented'})"
      ],
      "metadata": {
        "id": "uWt-7TS82HP3"
      },
      "execution_count": null,
      "outputs": []
    },
    {
      "cell_type": "markdown",
      "source": [
        "Significant Decrease in the Avg bike rented per hour in the hours with snowfall and without snowfall. Also as the snowfall intensifies the Avg bikes rented have decreasing trend.4"
      ],
      "metadata": {
        "id": "-KvUNyRvVkq_"
      }
    },
    {
      "cell_type": "markdown",
      "source": [
        "##### Bivariate analysis with target variable and categorical variables"
      ],
      "metadata": {
        "id": "ji6s4AGP2SAT"
      }
    },
    {
      "cell_type": "code",
      "source": [
        "# Bike rent hourly AVg trend w.r.t Seasons\n",
        "df.groupby(['Seasons'])['Rented Bike Count'].mean().reset_index().rename(columns={'Rented Bike Count':'Avg Bike Rented'})"
      ],
      "metadata": {
        "id": "-IKIcokf2O3A"
      },
      "execution_count": null,
      "outputs": []
    },
    {
      "cell_type": "markdown",
      "source": [
        "Highest Avg hourly Bikes rented during summer. 1034\n",
        "Lowest Avg hourly Bikes rented during winter. 225."
      ],
      "metadata": {
        "id": "Y5U2Y40EV5vY"
      }
    },
    {
      "cell_type": "code",
      "source": [
        "# Bike rent hourly AVg trend w.r.t Holiday and normal day\n",
        "df.groupby(['Holiday'])['Rented Bike Count'].mean().reset_index().rename(columns={'Rented Bike Count':'Avg Bike Rented'})"
      ],
      "metadata": {
        "id": "6ZnhQVIh2cSo"
      },
      "execution_count": null,
      "outputs": []
    },
    {
      "cell_type": "markdown",
      "source": [
        "Avg. Bikes rented per hour is high for a normal working day compared to a holiday."
      ],
      "metadata": {
        "id": "l2D0EPjvX4oC"
      }
    },
    {
      "cell_type": "code",
      "source": [
        "# Bike rent hourly AVg trend w.r.t Functioning Day' and no funstioning day\n",
        "df.groupby(['Functioning Day'])['Rented Bike Count'].mean().reset_index().rename(columns={'Rented Bike Count':'Avg Bike Rented'})"
      ],
      "metadata": {
        "id": "o5l-AmYQ2gyM"
      },
      "execution_count": null,
      "outputs": []
    },
    {
      "cell_type": "markdown",
      "source": [
        "##### Bivariate analysis - creating new column\n"
      ],
      "metadata": {
        "id": "Ljtgao0s23ao"
      }
    },
    {
      "cell_type": "code",
      "source": [
        "# Create a new variable month from date column for doing month wise analysis\n",
        "df['month'] = df['Date'].dt.month\n",
        "# Bike rent hourly AVg trend w.r.t Month\n",
        "df.groupby(['month'])['Rented Bike Count'].mean().reset_index().rename(columns={'Rented Bike Count':'Avg Bike Rented'})"
      ],
      "metadata": {
        "id": "Q73d1ljP3fx_"
      },
      "execution_count": null,
      "outputs": []
    },
    {
      "cell_type": "markdown",
      "source": [
        "Create a new variable month from date column for doing month wise analysis.\n",
        "\n",
        "Month of July has Highest Avg. Bikes rented."
      ],
      "metadata": {
        "id": "lgv54h98Yl7l"
      }
    },
    {
      "cell_type": "code",
      "source": [
        " # Create a new variable weekday from date column for doing weekday vs weekend wise analysis\n",
        "df['week_day'] = df['Date'].dt.dayofweek.apply(lambda x : 0 if any([x==5,x==6]) else 1)\n",
        "# Bike rent hourly AVg trend w.r.t weekday and weekend\n",
        "df.groupby(['week_day'])['Rented Bike Count'].mean().reset_index().rename(columns={'Rented Bike Count':'Avg Bike Rented'})"
      ],
      "metadata": {
        "id": "J8P5Iq8A4OQA"
      },
      "execution_count": null,
      "outputs": []
    },
    {
      "cell_type": "markdown",
      "source": [
        "Create a new variable month from date column for weekday from date column for doing weekday vs weekend wise analysis\n",
        "\n",
        "Week Days have Higher Avg. Bikes rented per hour compared to week ends."
      ],
      "metadata": {
        "id": "5bl28G_xY-Ut"
      }
    },
    {
      "cell_type": "markdown",
      "source": [
        "#### multi-variate analysis with target variable\n",
        "\n"
      ],
      "metadata": {
        "id": "72umh5Iq6ztO"
      }
    },
    {
      "cell_type": "code",
      "source": [
        "# Bike rent hourly AVg trend holiday/working day and funstioning day/non functioining day\n",
        "df.groupby(['Holiday','Functioning Day'])['Rented Bike Count'].mean().unstack()"
      ],
      "metadata": {
        "id": "RSpLzNDK5EJ0"
      },
      "execution_count": null,
      "outputs": []
    },
    {
      "cell_type": "markdown",
      "source": [],
      "metadata": {
        "id": "0xRCZaxfZN2x"
      }
    },
    {
      "cell_type": "code",
      "source": [
        "# Bike rent hourly AVg trend holiday/working day and seasons\n",
        "df.groupby(['Seasons','Holiday'])['Rented Bike Count'].mean().unstack()"
      ],
      "metadata": {
        "id": "YveKvK3d58uL"
      },
      "execution_count": null,
      "outputs": []
    },
    {
      "cell_type": "markdown",
      "source": [
        "Comparing Average hourly Bikes rented for different seasons wrt holiday vs working days.\n",
        "\n",
        "Avg. Bike rented decreases for Holiday for all seasons."
      ],
      "metadata": {
        "id": "9_eC4jnyZUqH"
      }
    },
    {
      "cell_type": "code",
      "source": [
        "# Bike rent hourly AVg trend holiday/working day and Months\n",
        "df.groupby(['Holiday','month'])['Rented Bike Count'].mean().unstack()"
      ],
      "metadata": {
        "id": "rtHstn6b7mMy"
      },
      "execution_count": null,
      "outputs": []
    },
    {
      "cell_type": "markdown",
      "source": [
        "Comparing Average hourly Bikes rented for different Months wrt holiday vs working days.\n",
        "\n",
        "Avg. Bike rented decreases for Holiday for all Months."
      ],
      "metadata": {
        "id": "drqyr8aTaXIA"
      }
    },
    {
      "cell_type": "code",
      "source": [
        "df.groupby(['Seasons','Hour'])['Rented Bike Count'].mean().unstack()"
      ],
      "metadata": {
        "id": "tWayljtuaJAQ"
      },
      "execution_count": null,
      "outputs": []
    },
    {
      "cell_type": "markdown",
      "source": [
        "### What all manipulations have you done and insights you found?"
      ],
      "metadata": {
        "id": "MSa1f5Uengrz"
      }
    },
    {
      "cell_type": "markdown",
      "source": [
        "Uni-Variate Analysis - Target Variable\n",
        "\n",
        "* Minimum Bikes Rented per hour = 0\n",
        "\n",
        "* Maximum Bikes Rented per hour = 3556\n",
        "\n",
        "* Average (mean) Bikes Rented per hour = 704.6020547945205\n",
        "\n",
        "* Average (median) Bikes Rented per hour = 504.5"
      ],
      "metadata": {
        "id": "MRnrbyOjQ7u1"
      }
    },
    {
      "cell_type": "markdown",
      "source": [
        "Uni-Variate Analysis - Input Features (Continous Variables)\n",
        "\n",
        "![image.png](data:image/png;base64,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)\n",
        "\n",
        "\n",
        "\n",
        "\n",
        "\n",
        "\n",
        "\n",
        "\n",
        "\n",
        "\n"
      ],
      "metadata": {
        "id": "LbyXE7I1olp8"
      }
    },
    {
      "cell_type": "markdown",
      "source": [
        "Uni Variate Analysis - Input feature (Categorical variable)\n",
        "\n",
        "![image.png](data:image/png;base64,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)\n",
        "\n",
        "All 4 Seasons have approximately equal number of Hours "
      ],
      "metadata": {
        "id": "tOM7ijxmRRfV"
      }
    },
    {
      "cell_type": "markdown",
      "source": [
        "![image.png](data:image/png;base64,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)\n",
        "\n",
        "432 Hours Correspond to 18 days of Holiday during the complete year."
      ],
      "metadata": {
        "id": "B9weSGnMSCp2"
      }
    },
    {
      "cell_type": "markdown",
      "source": [
        "![image.png](data:image/png;base64,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)\n",
        "\n",
        "Total of 16 non Functioning Days During the year. Resulting In Zero bike Rented in Non Functioning Days."
      ],
      "metadata": {
        "id": "4AyysT90SOUr"
      }
    },
    {
      "cell_type": "markdown",
      "source": [
        "Bi Variate Analysis (target variable analysis wrt numerical Features)\n",
        "\n",
        "* Highest Avg. Bikes rented during the day is between 6PM to 7PM.\n",
        "\n",
        "* As the Temperature rises the Average number of bookings increase.\n",
        "\n",
        "* As the Dew Point Temperature increses the Average number of Bikes Rented also increase.\n",
        "\n",
        "* Reverse trend between Humidity and Avg bikes rented per hour. As the Humidity Increases the Avg Biked Rented Decreases.\n",
        "\n",
        "* As the Visibilty decreses the Avg Bikes Rented per Hour also decrease.\n",
        "\n",
        "* As the Solar radiation increseas the Avg biked rented per hour also Increase.\n",
        "\n",
        "* No Rainfall Hour have higher average compared to the Hours having rainfall. Also as the rain intensifies the avg booking tend to decrease.\n",
        "\n",
        "* Significant Decrease in the Avg bike rented per hour in the hours with snowfall and without snowfall. Also as the snowfall intensifies the Avg bikes rented have decreasing trend.4\n",
        "\n",
        "Bivariate analysis with target variable and categorical variables\n",
        "\n",
        "* Highest Avg hourly Bikes rented during summer. 1034 Lowest Avg hourly Bikes rented during winter. 225.\n",
        "\n",
        "* Avg. Bikes rented per hour is high for a normal working day compared to a holiday.\n",
        "\n",
        "Bivariate analysis - creating new column\n",
        "\n",
        "* Create a new variable month from date column for doing month wise analysis.\n",
        "\n",
        "* Month of July has Highest Avg. Bikes rented.\n",
        "\n",
        "* Create a new variable month from date column for weekday from date column for doing weekday vs weekend wise analysis\n",
        "\n",
        "* Week Days have Higher Avg. Bikes rented per hour compared to week ends.\n",
        "\n",
        "multi-variate analysis with target variable\n",
        "\n",
        "* Comparing Average hourly Bikes rented for different seasons wrt holiday vs working days.\n",
        "\n",
        "* Avg. Bike rented decreases for Holiday for all seasons.\n",
        "\n",
        "* Comparing Average hourly Bikes rented for different Months wrt holiday vs working days.\n",
        "\n",
        "* Avg. Bike rented decreases for Holiday for all Months.\n"
      ],
      "metadata": {
        "id": "dqKgWcSqS1TY"
      }
    },
    {
      "cell_type": "markdown",
      "source": [
        "## ***4. Data Vizualization, Storytelling & Experimenting with charts : Understand the relationships between variables***"
      ],
      "metadata": {
        "id": "GF8Ens_Soomf"
      }
    },
    {
      "cell_type": "markdown",
      "source": [
        "#### Chart - 1"
      ],
      "metadata": {
        "id": "0wOQAZs5pc--"
      }
    },
    {
      "cell_type": "code",
      "source": [
        "# Chart - 1 visualization code\n",
        "# Distribution of Dependent variable\n",
        "\n",
        "# setting the chart size\n",
        "ax = plt.figure(figsize=(6,5))\n",
        "\n",
        "# setting the axis label for chart\n",
        "ax= sns.displot(data=df['Rented Bike Count'],kde=True)\n",
        "sk = round(df['Rented Bike Count'].skew(),2)\n",
        "ax.set(title=f'Bike Rent hourly Count Distribution, skew = {sk}')\n",
        "\n",
        "# adding visualizations to chart\n",
        "plt.minorticks_on()\n",
        "plt.axvline((df['Rented Bike Count']).mean(),color='g',ls='--',lw=2.5,label='MEAN')\n",
        "plt.axvline((df['Rented Bike Count']).median(),color='black',ls='--',lw=2.5,label='MEdian')\n",
        "plt.grid(which='both',alpha=0.3,linestyle='--')\n",
        "plt.show()"
      ],
      "metadata": {
        "id": "7v_ESjsspbW7"
      },
      "execution_count": null,
      "outputs": []
    },
    {
      "cell_type": "markdown",
      "source": [
        "##### 1. Why did you pick the specific chart?"
      ],
      "metadata": {
        "id": "K5QZ13OEpz2H"
      }
    },
    {
      "cell_type": "markdown",
      "source": [
        "As the analysis had to done to understand the behaviour of Target Variable.\n",
        "\n",
        "Distribution plot works perfect to show the Distribution of Bikes Rented Hourly.\n",
        "\n",
        "Also, Plotting the mean and median lines help us understand that which side is the Distribution skewed."
      ],
      "metadata": {
        "id": "XESiWehPqBRc"
      }
    },
    {
      "cell_type": "markdown",
      "source": [
        "##### 2. What is/are the insight(s) found from the chart?"
      ],
      "metadata": {
        "id": "lQ7QKXXCp7Bj"
      }
    },
    {
      "cell_type": "markdown",
      "source": [
        "We can understand the data is right Skewed. which means that median is less than the mean.\n",
        "\n",
        "Also, as the data is skewed we should Transform the data before caring out Linear predictive analysis."
      ],
      "metadata": {
        "id": "C_j1G7yiqdRP"
      }
    },
    {
      "cell_type": "markdown",
      "source": [
        "##### 3. Will the gained insights help creating a positive business impact? \n",
        "Are there any insights that lead to negative growth? Justify with specific reason."
      ],
      "metadata": {
        "id": "448CDAPjqfQr"
      }
    },
    {
      "cell_type": "markdown",
      "source": [
        "It shows that median value is less than the mean.\n",
        "\n",
        "For a new startup or increase in number of vehicles the median value should be considered as the main factor for demand prediction. Considering Mean could result in loss of Business. As mean is effected by higher(Outlier) values."
      ],
      "metadata": {
        "id": "3cspy4FjqxJW"
      }
    },
    {
      "cell_type": "markdown",
      "source": [
        "#### Chart - 2"
      ],
      "metadata": {
        "id": "KSlN3yHqYklG"
      }
    },
    {
      "cell_type": "code",
      "source": [
        "# Chart - 2 visualization code\n",
        "# Month wise trend for average hourly bikes rented\n",
        "monthly_avg_df = df.groupby(['month'])['Rented Bike Count'].mean().reset_index()\n",
        "monthly_avg_df\n",
        "# setting the chart size\n",
        "ax = plt.figure(figsize=(6,5))\n",
        "# setting the axis label for chart\n",
        "ax= sns.barplot(data=monthly_avg_df, x=\"month\",y=\"Rented Bike Count\",palette='flare')\n",
        "ax.set(title='Month wise average hourly bikes rented')\n",
        "# adding visualizations to chart\n",
        "ax.minorticks_on()\n",
        "plt.grid(which='both',alpha=0.3,linestyle='--')\n",
        "plt.show()"
      ],
      "metadata": {
        "id": "R4YgtaqtYklH"
      },
      "execution_count": null,
      "outputs": []
    },
    {
      "cell_type": "markdown",
      "source": [
        "##### 1. Why did you pick the specific chart?"
      ],
      "metadata": {
        "id": "t6dVpIINYklI"
      }
    },
    {
      "cell_type": "markdown",
      "source": [
        "To analysis the monthly trend effect of Avg. hourly Bikes rented."
      ],
      "metadata": {
        "id": "5aaW0BYyYklI"
      }
    },
    {
      "cell_type": "markdown",
      "source": [
        "##### 2. What is/are the insight(s) found from the chart?"
      ],
      "metadata": {
        "id": "ijmpgYnKYklI"
      }
    },
    {
      "cell_type": "markdown",
      "source": [
        "There is rising trend from start of the January to July.\n",
        "\n",
        "July having the Highest Avg Hourly Bookings.\n",
        "\n",
        "After July there is a negative Trend till the end of the Year.\n",
        "\n",
        "Also after October the Avg hourly bookings drop significantly."
      ],
      "metadata": {
        "id": "PSx9atu2YklI"
      }
    },
    {
      "cell_type": "markdown",
      "source": [
        "##### 3. Will the gained insights help creating a positive business impact? \n",
        "Are there any insights that lead to negative growth? Justify with specific reason."
      ],
      "metadata": {
        "id": "-JiQyfWJYklI"
      }
    },
    {
      "cell_type": "markdown",
      "source": [
        "The Trend can help Business understand the demand.\n",
        "\n",
        "If planning for venture or expansion or promotions the month of march can be considered as  the best time to start.\n",
        "\n",
        "But on the other hand any such steps during November to February can result in Negative effect on business."
      ],
      "metadata": {
        "id": "BcBbebzrYklV"
      }
    },
    {
      "cell_type": "markdown",
      "source": [
        "#### Chart - 3"
      ],
      "metadata": {
        "id": "EM7whBJCYoAo"
      }
    },
    {
      "cell_type": "code",
      "source": [
        "# Chart - 3 visualization code\n",
        "# Hour wise trend for average hourly bikes rented\n",
        "Hourly_avg_df = df.groupby(['Hour'])['Rented Bike Count'].mean().reset_index()\n",
        "Hourly_avg_df\n",
        "# setting the chart size\n",
        "ax = plt.figure(figsize=(6,5))\n",
        "# setting the axis label for chart\n",
        "ax= sns.barplot(data=Hourly_avg_df, x=\"Hour\",y=\"Rented Bike Count\",palette='flare')\n",
        "ax.set(title='Hour wise average hourly bikes rented')\n",
        "# adding visualizations to chart\n",
        "ax.minorticks_on()\n",
        "plt.grid(which='both',alpha=0.3,linestyle='--')\n",
        "plt.show()"
      ],
      "metadata": {
        "id": "t6GMdE67YoAp"
      },
      "execution_count": null,
      "outputs": []
    },
    {
      "cell_type": "markdown",
      "source": [
        "##### 1. Why did you pick the specific chart?"
      ],
      "metadata": {
        "id": "fge-S5ZAYoAp"
      }
    },
    {
      "cell_type": "markdown",
      "source": [
        "To analysis the hourly trend through out the day for Avg hourly Bookings."
      ],
      "metadata": {
        "id": "5dBItgRVYoAp"
      }
    },
    {
      "cell_type": "markdown",
      "source": [
        "##### 2. What is/are the insight(s) found from the chart?"
      ],
      "metadata": {
        "id": "85gYPyotYoAp"
      }
    },
    {
      "cell_type": "markdown",
      "source": [
        "Morning 6am to 8am there is a positive trend.\n",
        "\n",
        "After that there is a negative trend from 9am to 10am.\n",
        "\n",
        "The Trend is again Positive from 10am to 6pm. \n",
        "\n",
        "After 6pm there is a negative trend which is expected to continue till 5am next morning."
      ],
      "metadata": {
        "id": "4jstXR6OYoAp"
      }
    },
    {
      "cell_type": "markdown",
      "source": [
        "##### 3. Will the gained insights help creating a positive business impact? \n",
        "Are there any insights that lead to negative growth? Justify with specific reason."
      ],
      "metadata": {
        "id": "RoGjAbkUYoAp"
      }
    },
    {
      "cell_type": "markdown",
      "source": [
        "Hourly trend analysis can help business \n",
        "\n",
        "* Adjusting the pricing and availability of bikes accordingly.\n",
        "\n",
        "* Implementing dynamic pricing strategies that incentivize users to rent bikes during off-peak hours or return bikes.\n",
        "\n",
        "* Maintenance of bikes can be set such that it does not affect the business."
      ],
      "metadata": {
        "id": "zfJ8IqMcYoAp"
      }
    },
    {
      "cell_type": "markdown",
      "source": [
        "#### Chart - 4"
      ],
      "metadata": {
        "id": "4Of9eVA-YrdM"
      }
    },
    {
      "cell_type": "code",
      "source": [
        "# Chart - 4 visualization code\n",
        "# Temperature wise trend for average hourly bikes rented\n",
        "temp_int_df = df.copy()\n",
        "temp_int_df['Temp_round'] = temp_int_df['Temperature(°C)'].astype(int)\n",
        "\n",
        "Temp_avg_df = temp_int_df.groupby(['Temp_round'])['Rented Bike Count'].mean().reset_index()\n",
        "Temp_avg_df\n",
        "# setting the chart size\n",
        "ax = plt.figure(figsize=(12,5))\n",
        "\n",
        "\n",
        "# setting the axis label for chart\n",
        "ax= sns.barplot(data=Temp_avg_df, x=\"Temp_round\",y=\"Rented Bike Count\",palette='flare')\n",
        "ax.set(title='Temperature wise AVG hourly bikes rented')\n",
        "\n",
        "# adding visualizations to chart\n",
        "ax.set_xticks(ax.get_xticks()[1::2])\n",
        "ax.minorticks_on()\n",
        "plt.grid(which='both',alpha=0.3,linestyle='--')\n",
        "plt.show()"
      ],
      "metadata": {
        "id": "irlUoxc8YrdO"
      },
      "execution_count": null,
      "outputs": []
    },
    {
      "cell_type": "markdown",
      "source": [
        "##### 1. Why did you pick the specific chart?"
      ],
      "metadata": {
        "id": "iky9q4vBYrdO"
      }
    },
    {
      "cell_type": "markdown",
      "source": [
        "To analysis the effect of change in temperature on Average Hourly Bookings."
      ],
      "metadata": {
        "id": "aJRCwT6DYrdO"
      }
    },
    {
      "cell_type": "markdown",
      "source": [
        "##### 2. What is/are the insight(s) found from the chart?"
      ],
      "metadata": {
        "id": "F6T5p64dYrdO"
      }
    },
    {
      "cell_type": "markdown",
      "source": [
        "Bike Sharing Demand tends to increase as the temperature increases from negative to positive 22 celsius.\n",
        "\n",
        "Demand remains constant as the temperature changes from 22 to 32 Celsius.\n",
        "\n",
        "As the temperature increases above 32 Celsius we can see the negative effect of Higher temperatur on business as the demand decreases with increasing temperature. "
      ],
      "metadata": {
        "id": "Xx8WAJvtYrdO"
      }
    },
    {
      "cell_type": "markdown",
      "source": [
        "##### 3. Will the gained insights help creating a positive business impact? \n",
        "Are there any insights that lead to negative growth? Justify with specific reason."
      ],
      "metadata": {
        "id": "y-Ehk30pYrdP"
      }
    },
    {
      "cell_type": "markdown",
      "source": [
        "Temperature analysis can help Business Predict the Demand more Accurately.\n",
        "\n",
        "As a Business according to the wether forecast we can understand the change in demand and start promotions accordingly to tackle the impact of negative trend during winter or Hot Summer days."
      ],
      "metadata": {
        "id": "jLNxxz7MYrdP"
      }
    },
    {
      "cell_type": "markdown",
      "source": [
        "#### Chart - 5"
      ],
      "metadata": {
        "id": "bamQiAODYuh1"
      }
    },
    {
      "cell_type": "code",
      "source": [
        "# Chart - 5 visualization code\n",
        "# Humidity wise trend for average hourly bikes rented\n",
        "Humidity_avg_df = df.groupby(['Humidity(%)'])['Rented Bike Count'].mean().reset_index()\n",
        "Humidity_avg_df\n",
        "\n",
        "# setting the chart size\n",
        "ax = plt.figure(figsize=(18,5))\n",
        "\n",
        "# setting the axis label for chart\n",
        "ax= sns.barplot(data=Humidity_avg_df, x=\"Humidity(%)\",y=\"Rented Bike Count\",palette='flare')\n",
        "ax.set(title='Humidity wise AVG hourly bikes rented')\n",
        "\n",
        "# adding visualizations to chart\n",
        "ax.set_xticks(ax.get_xticks()[1::2])\n",
        "ax.minorticks_on()\n",
        "plt.grid(which='both',alpha=0.3,linestyle='--')\n",
        "plt.show()"
      ],
      "metadata": {
        "id": "TIJwrbroYuh3"
      },
      "execution_count": null,
      "outputs": []
    },
    {
      "cell_type": "markdown",
      "source": [
        "##### 1. Why did you pick the specific chart?"
      ],
      "metadata": {
        "id": "QHF8YVU7Yuh3"
      }
    },
    {
      "cell_type": "markdown",
      "source": [
        "To Analyse the effect of changing Humidity on Average Hourly Bikes Rented."
      ],
      "metadata": {
        "id": "dcxuIMRPYuh3"
      }
    },
    {
      "cell_type": "markdown",
      "source": [
        "##### 2. What is/are the insight(s) found from the chart?"
      ],
      "metadata": {
        "id": "GwzvFGzlYuh3"
      }
    },
    {
      "cell_type": "markdown",
      "source": [
        "We Already know that Humidity is inversely propotional to Temperature.\n",
        "\n",
        "But Here we see that there is a spike in Avg houlry bikes rented at lower Humidity but as the Humidity increases the Avg bikes rented have approximate Uniform Distribution for change in Humidity from 15% to 80%.\n",
        "\n",
        "As the Humidity Rises above 80% which happens in winters at low temperature. we can see that the Avg Hourly bookings drop significantly."
      ],
      "metadata": {
        "id": "uyqkiB8YYuh3"
      }
    },
    {
      "cell_type": "markdown",
      "source": [
        "##### 3. Will the gained insights help creating a positive business impact? \n",
        "Are there any insights that lead to negative growth? Justify with specific reason."
      ],
      "metadata": {
        "id": "qYpmQ266Yuh3"
      }
    },
    {
      "cell_type": "markdown",
      "source": [
        "Higher humidity tends to reduce the demand for bike sharing because it makes riding less comfortable and enjoyable for users.\n",
        "\n",
        "Lower humidity tends to increase the demand for bike sharing because it makes riding more comfortable and enjoyable for users.\n",
        "\n",
        "So, it can help a business in predicting the Demand."
      ],
      "metadata": {
        "id": "_WtzZ_hCYuh4"
      }
    },
    {
      "cell_type": "markdown",
      "source": [
        "#### Chart - 6"
      ],
      "metadata": {
        "id": "OH-pJp9IphqM"
      }
    },
    {
      "cell_type": "code",
      "source": [
        "# Chart - 6 visualization code\n",
        "# Season wise trend for average hourly bikes rented\n",
        "season_avg_df = df.groupby(['Seasons'])['Rented Bike Count'].mean().reset_index()\n",
        "\n",
        "# setting the chart size\n",
        "ax = plt.figure(figsize=(6,5))\n",
        "\n",
        "# setting the axis label for chart\n",
        "ax= sns.barplot(data=season_avg_df, x=\"Seasons\",y=\"Rented Bike Count\",palette='flare')\n",
        "ax.set(title='Season wise AVG hourly bikes rented')\n",
        "\n",
        "# adding visualizations to chart\n",
        "ax.minorticks_on()\n",
        "plt.grid(which='both',alpha=0.3,linestyle='--')\n",
        "plt.show()"
      ],
      "metadata": {
        "id": "kuRf4wtuphqN"
      },
      "execution_count": null,
      "outputs": []
    },
    {
      "cell_type": "markdown",
      "source": [
        "##### 1. Why did you pick the specific chart?"
      ],
      "metadata": {
        "id": "bbFf2-_FphqN"
      }
    },
    {
      "cell_type": "markdown",
      "source": [
        "To Understand the effect of Different Seasons on the Avg Hourly Bikes Rented. "
      ],
      "metadata": {
        "id": "loh7H2nzphqN"
      }
    },
    {
      "cell_type": "markdown",
      "source": [
        "##### 2. What is/are the insight(s) found from the chart?"
      ],
      "metadata": {
        "id": "_ouA3fa0phqN"
      }
    },
    {
      "cell_type": "markdown",
      "source": [
        "Avg Hourly Bikes Rented is Highest for the Summer seasons and the lowest for Winter Seasons.\n",
        "\n",
        "Bookings remain average for the Saesons Autumn and Spring."
      ],
      "metadata": {
        "id": "VECbqPI7phqN"
      }
    },
    {
      "cell_type": "markdown",
      "source": [
        "##### 3. Will the gained insights help creating a positive business impact? \n",
        "Are there any insights that lead to negative growth? Justify with specific reason."
      ],
      "metadata": {
        "id": "Seke61FWphqN"
      }
    },
    {
      "cell_type": "markdown",
      "source": [
        "Higher demand for bike sharing tends to occur during warmer, drier, and sunnier seasons or months when riding is more comfortable and enjoyable for users.\n",
        "\n",
        "Lower demand for bike sharing tends to occur during colder, wetter, and darker seasons when riding is less comfortable and enjoyable for users.\n",
        "\n",
        "So, if planning for Business expansion when the \"Winter Is Coming\", will result in negative impact on the Business."
      ],
      "metadata": {
        "id": "DW4_bGpfphqN"
      }
    },
    {
      "cell_type": "markdown",
      "source": [
        "#### Chart - 7"
      ],
      "metadata": {
        "id": "PIIx-8_IphqN"
      }
    },
    {
      "cell_type": "code",
      "source": [
        "# Chart - 7 visualization code\n",
        "# Holiday wise trend for average hourly bikes rented\n",
        "holiday_avg_df = df.groupby(['Holiday'])['Rented Bike Count'].mean().reset_index()\n",
        "\n",
        "# setting the chart size\n",
        "ax = plt.figure(figsize=(6,5))\n",
        "\n",
        "# setting the axis label for chart\n",
        "ax = sns.barplot(data=holiday_avg_df, x=\"Holiday\",y=\"Rented Bike Count\",palette='flare')\n",
        "ax.set(title='Holiday wise AVG Hourly bikes rented')\n",
        "\n",
        "# adding visualizations to chart\n",
        "ax.minorticks_on()\n",
        "plt.grid(which='both',alpha=0.3,linestyle='--')\n",
        "plt.show()"
      ],
      "metadata": {
        "id": "lqAIGUfyphqO"
      },
      "execution_count": null,
      "outputs": []
    },
    {
      "cell_type": "markdown",
      "source": [
        "##### 1. Why did you pick the specific chart?"
      ],
      "metadata": {
        "id": "t27r6nlMphqO"
      }
    },
    {
      "cell_type": "markdown",
      "source": [
        "To Analyses the effect on Avg Hourly bikes rented for a Holiday and a noremal functioning Day."
      ],
      "metadata": {
        "id": "iv6ro40sphqO"
      }
    },
    {
      "cell_type": "markdown",
      "source": [
        "##### 2. What is/are the insight(s) found from the chart?"
      ],
      "metadata": {
        "id": "r2jJGEOYphqO"
      }
    },
    {
      "cell_type": "markdown",
      "source": [
        "the average hourly bikes rented decreases significantly for a Holiday vs a Normal working day. As we can see from the graph the difference if of about 200 bikes less rented for every Hour."
      ],
      "metadata": {
        "id": "Po6ZPi4hphqO"
      }
    },
    {
      "cell_type": "markdown",
      "source": [
        "##### 3. Will the gained insights help creating a positive business impact? \n",
        "Are there any insights that lead to negative growth? Justify with specific reason."
      ],
      "metadata": {
        "id": "b0JNsNcRphqO"
      }
    },
    {
      "cell_type": "markdown",
      "source": [
        "We can see that avg. Bikes rented per hour drops significatly for a holiday.\n",
        "\n",
        "So if a business has to go through a non Functioning day for any reasons. It should select a Holiday as a non fuctioning day instead of a working day. "
      ],
      "metadata": {
        "id": "xvSq8iUTphqO"
      }
    },
    {
      "cell_type": "markdown",
      "source": [
        "#### Chart - 8"
      ],
      "metadata": {
        "id": "BZR9WyysphqO"
      }
    },
    {
      "cell_type": "code",
      "source": [
        "# Chart - 8 visualization code\n",
        "# rainfall wise trend for average hourly bikes rented\n",
        "rain_int_df = df.copy()\n",
        "rain_int_df['Rainfall(mm)'] = rain_int_df['Rainfall(mm)'].apply(np.ceil)\n",
        "\n",
        "# setting the chart size\n",
        "ax = plt.figure(figsize=(12,5))\n",
        "\n",
        "# setting the axis label for chart\n",
        "ax= sns.barplot(data=rain_int_df, x=\"Rainfall(mm)\",y=\"Rented Bike Count\",palette='flare')\n",
        "ax.set(title='Rainfall wise AVG hourly bikes rented')\n",
        "\n",
        "# adding visualizations to chart\n",
        "ax.set_xticks(ax.get_xticks()[1::2])\n",
        "ax.minorticks_on()\n",
        "plt.grid(which='both',alpha=0.3,linestyle='--')\n",
        "plt.show()"
      ],
      "metadata": {
        "id": "TdPTWpAVphqO"
      },
      "execution_count": null,
      "outputs": []
    },
    {
      "cell_type": "markdown",
      "source": [
        "##### 1. Why did you pick the specific chart?"
      ],
      "metadata": {
        "id": "jj7wYXLtphqO"
      }
    },
    {
      "cell_type": "markdown",
      "source": [
        "To Analyses the effect of Rainfall on Avg Hourly Bikes rented."
      ],
      "metadata": {
        "id": "Ob8u6rCTphqO"
      }
    },
    {
      "cell_type": "markdown",
      "source": [
        "##### 2. What is/are the insight(s) found from the chart?"
      ],
      "metadata": {
        "id": "eZrbJ2SmphqO"
      }
    },
    {
      "cell_type": "markdown",
      "source": [
        "We can clearly see that even for the slightest rainfall the average Bikes rented per hour Decreases Significantly. "
      ],
      "metadata": {
        "id": "mZtgC_hjphqO"
      }
    },
    {
      "cell_type": "markdown",
      "source": [
        "##### 3. Will the gained insights help creating a positive business impact? \n",
        "Are there any insights that lead to negative growth? Justify with specific reason."
      ],
      "metadata": {
        "id": "rFu4xreNphqO"
      }
    },
    {
      "cell_type": "markdown",
      "source": [
        "As we can see that Avg Bikes rented is effected significantly even for the slightest amount of rain. \n",
        "\n",
        "So, for predicted rainfall by the authorities for the comining days we can easily predict the effect on the Business and take steps accordingly.\n",
        "\n",
        "Also, if maintainance is to be carried out or a non functioning day is to be observed. Business should always select the days with heavy rainfalls."
      ],
      "metadata": {
        "id": "ey_0qi68phqO"
      }
    },
    {
      "cell_type": "markdown",
      "source": [
        "#### Chart - 9"
      ],
      "metadata": {
        "id": "YJ55k-q6phqO"
      }
    },
    {
      "cell_type": "code",
      "source": [
        "# Chart - 9 visualization code\n",
        "# snowfall wise trend for average hourly bikes rented\n",
        "snow_int_df = df.copy()\n",
        "snow_int_df['Snowfall (cm)'] = rain_int_df['Snowfall (cm)'].apply(np.ceil)\n",
        "\n",
        "# setting the chart size\n",
        "ax = plt.figure(figsize=(12,5))\n",
        "\n",
        "# setting the axis label for chart\n",
        "ax= sns.barplot(data=snow_int_df, x=\"Snowfall (cm)\",y=\"Rented Bike Count\",palette='flare')\n",
        "ax.set(title='Snowfall wise AVG hourly bikes rented')\n",
        "\n",
        "# adding visualizations to chart\n",
        "ax.set_xticks(ax.get_xticks()[1::2])\n",
        "ax.minorticks_on()\n",
        "plt.grid(which='both',alpha=0.3,linestyle='--')\n",
        "plt.show()"
      ],
      "metadata": {
        "id": "B2aS4O1ophqO"
      },
      "execution_count": null,
      "outputs": []
    },
    {
      "cell_type": "markdown",
      "source": [
        "##### 1. Why did you pick the specific chart?"
      ],
      "metadata": {
        "id": "gCFgpxoyphqP"
      }
    },
    {
      "cell_type": "markdown",
      "source": [
        "To analyses the effect of snowfall on average hourly bikes rented."
      ],
      "metadata": {
        "id": "TVxDimi2phqP"
      }
    },
    {
      "cell_type": "markdown",
      "source": [
        "##### 2. What is/are the insight(s) found from the chart?"
      ],
      "metadata": {
        "id": "OVtJsKN_phqQ"
      }
    },
    {
      "cell_type": "markdown",
      "source": [
        "We can clearly see that even for the slightest Snowfall the average Bikes rented per hour Decreases Significantly."
      ],
      "metadata": {
        "id": "ngGi97qjphqQ"
      }
    },
    {
      "cell_type": "markdown",
      "source": [
        "##### 3. Will the gained insights help creating a positive business impact? \n",
        "Are there any insights that lead to negative growth? Justify with specific reason."
      ],
      "metadata": {
        "id": "lssrdh5qphqQ"
      }
    },
    {
      "cell_type": "markdown",
      "source": [
        "As we can see that Avg Bikes rented is effected significantly even for the slightest amount of snowfall.\n",
        "\n",
        "So, for predicted snowfall by the authorities for the comining days we can easily predict the effect on the Business and take steps accordingly.\n",
        "\n",
        "Also, if maintainance is to be carried out or a non functioning day is to be observed. Business should always select the days with snowfall."
      ],
      "metadata": {
        "id": "tBpY5ekJphqQ"
      }
    },
    {
      "cell_type": "markdown",
      "source": [
        "#### Chart - 10"
      ],
      "metadata": {
        "id": "U2RJ9gkRphqQ"
      }
    },
    {
      "cell_type": "code",
      "source": [
        "# Chart - 10 visualization code\n",
        "\n",
        "# week_day wise trend for average hourly bikes rented\n",
        "week_day_avg_df = df.groupby(['week_day'])['Rented Bike Count'].mean().reset_index()\n",
        "\n",
        "# setting the chart size\n",
        "ax = plt.figure(figsize=(6,5))\n",
        "\n",
        "# setting the axis label for chart\n",
        "ax = sns.barplot(data=week_day_avg_df, x=\"week_day\",y=\"Rented Bike Count\",palette='flare')\n",
        "ax.set(title='week_day wise AVG Hourly bikes rented')\n",
        "\n",
        "# adding visualizations to chart\n",
        "ax.minorticks_on()\n",
        "plt.grid(which='both',alpha=0.3,linestyle='--')\n",
        "plt.show()"
      ],
      "metadata": {
        "id": "GM7a4YP4phqQ"
      },
      "execution_count": null,
      "outputs": []
    },
    {
      "cell_type": "markdown",
      "source": [
        "##### 1. Why did you pick the specific chart?"
      ],
      "metadata": {
        "id": "1M8mcRywphqQ"
      }
    },
    {
      "cell_type": "markdown",
      "source": [
        "To understand the Difference in Avg. hourly bikes rentedd for a weekday vs weekend. "
      ],
      "metadata": {
        "id": "8agQvks0phqQ"
      }
    },
    {
      "cell_type": "markdown",
      "source": [
        "##### 2. What is/are the insight(s) found from the chart?"
      ],
      "metadata": {
        "id": "tgIPom80phqQ"
      }
    },
    {
      "cell_type": "markdown",
      "source": [
        "As we can see that the Avg Hourly bikes rented for a weekend are less than the avg. hourly Bikes rented on a weekday. But we cannot analysis how wether the difference is significant or we can consider the bookings to uniform through out the week. We will carry out a Hypothesis testing for the same to understand wether the difference is significant or not."
      ],
      "metadata": {
        "id": "Qp13pnNzphqQ"
      }
    },
    {
      "cell_type": "markdown",
      "source": [
        "##### 3. Will the gained insights help creating a positive business impact? \n",
        "Are there any insights that lead to negative growth? Justify with specific reason."
      ],
      "metadata": {
        "id": "JMzcOPDDphqR"
      }
    },
    {
      "cell_type": "markdown",
      "source": [
        "As we can see that  there is difference in the avg hourly bookings on a weekday vs weekend. \n",
        "\n",
        "So, A business should provide incentives or discounts to encourage users to rent bikes during low-demand periods to avoid the effect on the business. "
      ],
      "metadata": {
        "id": "R4Ka1PC2phqR"
      }
    },
    {
      "cell_type": "markdown",
      "source": [
        "#### Chart - 11"
      ],
      "metadata": {
        "id": "x-EpHcCOp1ci"
      }
    },
    {
      "cell_type": "code",
      "source": [
        "# Chart - 11 visualization code\n",
        "# season and holiday combine trend comparision with avg hourly Bike rent\n",
        "sea_holi_avg_df = df.groupby(['Seasons','Holiday'])['Rented Bike Count'].mean().reset_index()\n",
        "sea_holi_avg_df\n",
        "\n",
        "# setting the chart size\n",
        "ax = plt.figure(figsize=(6,5))\n",
        "\n",
        "# setting the axis label for chart\n",
        "ax = sns.barplot(data=sea_holi_avg_df, x=\"Seasons\",y=\"Rented Bike Count\",palette='flare',hue='Holiday')\n",
        "ax.set(title='effect of season and holiday on AVG Hourly Bookings')\n",
        "\n",
        "# adding visualizations to chart\n",
        "ax.minorticks_on()\n",
        "plt.grid(which='both',alpha=0.3,linestyle='--')\n",
        "plt.show()"
      ],
      "metadata": {
        "id": "mAQTIvtqp1cj"
      },
      "execution_count": null,
      "outputs": []
    },
    {
      "cell_type": "markdown",
      "source": [
        "##### 1. Why did you pick the specific chart?"
      ],
      "metadata": {
        "id": "X_VqEhTip1ck"
      }
    },
    {
      "cell_type": "markdown",
      "source": [
        "To analyse the effect of Holiday and working day for all 4 seasons on avg Hourly bikes rented."
      ],
      "metadata": {
        "id": "-vsMzt_np1ck"
      }
    },
    {
      "cell_type": "markdown",
      "source": [
        "##### 2. What is/are the insight(s) found from the chart?"
      ],
      "metadata": {
        "id": "8zGJKyg5p1ck"
      }
    },
    {
      "cell_type": "markdown",
      "source": [
        "As we can see that Avg. Hourly bookings for a holiday are less than avg hourly bookings on a working day for all 4 Seasons. But we cannot signify wether the effect is significant or not. So we should carry out Two way ANOVA test to find wether the effect(Hypothesis) is significant or not. "
      ],
      "metadata": {
        "id": "ZYdMsrqVp1ck"
      }
    },
    {
      "cell_type": "markdown",
      "source": [
        "##### 3. Will the gained insights help creating a positive business impact? \n",
        "Are there any insights that lead to negative growth? Justify with specific reason."
      ],
      "metadata": {
        "id": "PVzmfK_Ep1ck"
      }
    },
    {
      "cell_type": "markdown",
      "source": [
        "As we can see that  there is difference in the avg hourly bookings on a Holiday vs aworking day.\n",
        "\n",
        "So, A business should provide incentives or discounts to encourage users to rent bikes during low-demand periods to avoid the effect on the business.\n",
        "\n",
        "Also, if there is no such significant difference then such kind of promotions can have negative impact on the business."
      ],
      "metadata": {
        "id": "druuKYZpp1ck"
      }
    },
    {
      "cell_type": "markdown",
      "source": [
        "#### Chart - 12"
      ],
      "metadata": {
        "id": "n3dbpmDWp1ck"
      }
    },
    {
      "cell_type": "code",
      "source": [
        "# Chart - 12 visualization code\n",
        "# season and weekday combine trend comparision with avg hourly Bike rent\n",
        "sea_week_avg_df = df.groupby(['Seasons','week_day'])['Rented Bike Count'].mean().reset_index()\n",
        "sea_week_avg_df\n",
        "\n",
        "# setting the chart size\n",
        "ax = plt.figure(figsize=(6,5))\n",
        "\n",
        "# setting the axis label for chart\n",
        "ax = sns.barplot(data=sea_week_avg_df, x=\"Seasons\",y=\"Rented Bike Count\",palette='flare',hue='week_day')\n",
        "ax.set(title='effect of season and weekday on AVG Hourly Bookings')\n",
        "\n",
        "# adding visualizations to chart\n",
        "ax.minorticks_on()\n",
        "plt.grid(which='both',alpha=0.3,linestyle='--')\n",
        "plt.show()"
      ],
      "metadata": {
        "id": "bwevp1tKp1ck"
      },
      "execution_count": null,
      "outputs": []
    },
    {
      "cell_type": "markdown",
      "source": [
        "##### 1. Why did you pick the specific chart?"
      ],
      "metadata": {
        "id": "ylSl6qgtp1ck"
      }
    },
    {
      "cell_type": "markdown",
      "source": [
        "To analyse the effect of weekday vs weekend for all 4 seasons on avg Hourly bikes rented."
      ],
      "metadata": {
        "id": "m2xqNkiQp1ck"
      }
    },
    {
      "cell_type": "markdown",
      "source": [
        "##### 2. What is/are the insight(s) found from the chart?"
      ],
      "metadata": {
        "id": "ZWILFDl5p1ck"
      }
    },
    {
      "cell_type": "markdown",
      "source": [
        "As we can see that Avg. Hourly bookings for a weekend are less than avg hourly bookings on a weekday for all 4 Seasons. But we cannot signify wether the effect is significant or not. So we should carry out Two way ANOVA test to find wether the effect(Hypothesis) is significant or not. "
      ],
      "metadata": {
        "id": "x-lUsV2mp1ck"
      }
    },
    {
      "cell_type": "markdown",
      "source": [
        "##### 3. Will the gained insights help creating a positive business impact? \n",
        "Are there any insights that lead to negative growth? Justify with specific reason."
      ],
      "metadata": {
        "id": "M7G43BXep1ck"
      }
    },
    {
      "cell_type": "markdown",
      "source": [
        "As we can see that  there is difference in the avg hourly bookings on a weekday vs weekend. \n",
        "\n",
        "So, A business should provide incentives or discounts to encourage users to rent bikes during low-demand periods to avoid the effect on the business.\n",
        "\n",
        "Also, if there is no such significant difference then such kind of promotions can have negative impact on the business."
      ],
      "metadata": {
        "id": "5wwDJXsLp1cl"
      }
    },
    {
      "cell_type": "markdown",
      "source": [
        "#### Chart - 13"
      ],
      "metadata": {
        "id": "Ag9LCva-p1cl"
      }
    },
    {
      "cell_type": "code",
      "source": [
        "# Chart - 13 visualization code\n",
        "ts_df = df[df['Functioning Day']=='Yes']\n",
        "\n",
        "# setting the chart size\n",
        "ax = plt.figure(figsize=(15,5))\n",
        "\n",
        "#plot col_1 against date\n",
        "ax = sns.lineplot(x=\"Date\", y=\"Rented Bike Count\", data=ts_df)\n",
        "ax.set(title='Time Series analysis of hourly bookings')\n",
        "\n",
        "#rotate x-axis labels by 25 degrees\n",
        "plt.xticks(rotation=25)\n",
        "# adding visualizations to chart\n",
        "ax.minorticks_on()\n",
        "plt.grid(which='both',alpha=0.3,linestyle='--')\n",
        "plt.show()"
      ],
      "metadata": {
        "id": "EUfxeq9-p1cl"
      },
      "execution_count": null,
      "outputs": []
    },
    {
      "cell_type": "markdown",
      "source": [
        "##### 1. Why did you pick the specific chart?"
      ],
      "metadata": {
        "id": "E6MkPsBcp1cl"
      }
    },
    {
      "cell_type": "markdown",
      "source": [
        "To examine trends and variations of a Avg bikes rented Hourly change in data over time."
      ],
      "metadata": {
        "id": "V22bRsFWp1cl"
      }
    },
    {
      "cell_type": "markdown",
      "source": [
        "##### 2. What is/are the insight(s) found from the chart?"
      ],
      "metadata": {
        "id": "2cELzS2fp1cl"
      }
    },
    {
      "cell_type": "markdown",
      "source": [
        "We can identify the trend, seasonality and noise components of the data and how they are interacting over time.\n",
        "\n",
        "We can compare the actual data with the expected data based on historical patterns or forecasts and detect any anomalies or deviations."
      ],
      "metadata": {
        "id": "ozQPc2_Ip1cl"
      }
    },
    {
      "cell_type": "markdown",
      "source": [
        "##### 3. Will the gained insights help creating a positive business impact? \n",
        "Are there any insights that lead to negative growth? Justify with specific reason."
      ],
      "metadata": {
        "id": "3MPXvC8up1cl"
      }
    },
    {
      "cell_type": "markdown",
      "source": [
        "If a business wants to compare its performance increase of decrease over the time. We can use Time series analyses to find the actual effect on business.\n",
        "\n",
        "Example: If Avg bikes rented per hour increase from the month of march, we can see that from Time Series analysis it was suppose to happen. We should further analyse wether the increase is significantly higher or lower compared to previous year percentage change."
      ],
      "metadata": {
        "id": "GL8l1tdLp1cl"
      }
    },
    {
      "cell_type": "markdown",
      "source": [
        "#### Chart - 14 - Correlation Heatmap"
      ],
      "metadata": {
        "id": "NC_X3p0fY2L0"
      }
    },
    {
      "cell_type": "code",
      "source": [
        "# Correlation Heatmap visualization code\n",
        "corr_df = df.copy()\n",
        "plt.figure(figsize=(15,6))\n",
        "\n",
        "# setting the axis for graph\n",
        "sns.heatmap(abs(corr_df.corr()), cmap=\"YlGnBu\", annot=True)\n",
        "plt.show()"
      ],
      "metadata": {
        "id": "xyC9zolEZNRQ"
      },
      "execution_count": null,
      "outputs": []
    },
    {
      "cell_type": "markdown",
      "source": [
        "##### 1. Why did you pick the specific chart?"
      ],
      "metadata": {
        "id": "UV0SzAkaZNRQ"
      }
    },
    {
      "cell_type": "markdown",
      "source": [
        "To find the Correlation between different variables."
      ],
      "metadata": {
        "id": "DVPuT8LYZNRQ"
      }
    },
    {
      "cell_type": "markdown",
      "source": [
        "##### 2. What is/are the insight(s) found from the chart?"
      ],
      "metadata": {
        "id": "YPEH6qLeZNRQ"
      }
    },
    {
      "cell_type": "markdown",
      "source": [
        "As we know that variables which are highly collinear have similar effect on the output variable. So We should actually consider only one variable in such condition which has higher effect(high correlation) with the output variable.\n",
        "\n",
        "* Temperature and Dew Point Temperature have similar effect(High correlation). Also, we know that they have similar effect on Human feelings resulting in similar effect on bikes rented per hour. Also we can see that Temperature can better define the effect of Hourly Bikes rented. So we should only select Temperature for our predictions."
      ],
      "metadata": {
        "id": "bfSqtnDqZNRR"
      }
    },
    {
      "cell_type": "markdown",
      "source": [
        "#### Chart - 15 - Pair Plot "
      ],
      "metadata": {
        "id": "q29F0dvdveiT"
      }
    },
    {
      "cell_type": "code",
      "source": [
        "# Pair Plot visualization code\n",
        "plt.figure(figsize=(15,15))\n",
        "# setting the axis for graph\n",
        "sns.pairplot(df[['Rented Bike Count','Dew point temperature(°C)','Temperature(°C)','Humidity(%)']])\n",
        "# adding visualizations to chart\n",
        "plt.minorticks_on()\n",
        "plt.grid(which='both',alpha=0.3,linestyle='--')\n",
        "plt.show()"
      ],
      "metadata": {
        "id": "o58-TEIhveiU"
      },
      "execution_count": null,
      "outputs": []
    },
    {
      "cell_type": "markdown",
      "source": [
        "##### 1. Why did you pick the specific chart?"
      ],
      "metadata": {
        "id": "EXh0U9oCveiU"
      }
    },
    {
      "cell_type": "markdown",
      "source": [
        "For Pairwise analysis of variables."
      ],
      "metadata": {
        "id": "eMmPjTByveiU"
      }
    },
    {
      "cell_type": "markdown",
      "source": [
        "## ***5. Hypothesis Testing***"
      ],
      "metadata": {
        "id": "OXtVJdmeTrg4"
      }
    },
    {
      "cell_type": "markdown",
      "source": [
        "### Based on your chart experiments, define three hypothetical statements from the dataset. In the next three questions, perform hypothesis testing to obtain final conclusion about the statements through your code and statistical testing."
      ],
      "metadata": {
        "id": "ojV4rg12Trg6"
      }
    },
    {
      "cell_type": "markdown",
      "source": [
        "1. Average Hourly bookings for Holidays are less than Average Hourly bookings for Normal working days.(Left tailed Hypothesis Testing)\n",
        "\n",
        "\n",
        "> From EDA we found that the average hourly booking for Holidays is less that working days. So we will perform a Two Sample t test to find wether the decrease in Avg. Bookings is significant or not.\n",
        "\n",
        "\n",
        "2. Average Hourly bookings for weekday are higher compared to weekend.(Right Tailed Hypothesis Testing)\n",
        "\n",
        "\n",
        "> Analysis of avg hourly bookings day wise. we found that weekdays have higher avg bookings. So to find wether the difference is significant we will perform a two sample t test.\n",
        "\n",
        "3. Average Hourly bookings for Autumn and Spring seasons are Different.(Two Tailed Hypothesis Testing)\n",
        "\n",
        "\n",
        "> Analysis of avg hourly bookings Seasons wise. we found that Autumn and spring have almost equal avg bookings. but the days are different for seasons. So to find wether the difference is significant we will perform a two sample t test.\n",
        "\n",
        "4. Variance in Average Hourly bookings for Autumn and Spring seasons is Same.(Two Tailed Hypothesis Testing)\n",
        "\n",
        "\n",
        "> Previous analysis and Hypothesis test for equal means for Autumn and Spring is done. Now we will check for the variance proportion by performing f test for two independent samples. \n",
        "\n",
        "\n",
        "\n",
        "> From the Result of 3rd and 4th hypothesis test we can further infer if we can consider Spring and Autumn as similar variable input for our Model.\n",
        "\n",
        "5. Two way anova test on Month and Seasons column on Rented bike count.\n",
        "\n",
        "\n"
      ],
      "metadata": {
        "id": "X_qK0IApTrg6"
      }
    },
    {
      "cell_type": "markdown",
      "source": [
        "### Functions for Hypothesis testing"
      ],
      "metadata": {
        "id": "lYm-4KVD4zPV"
      }
    },
    {
      "cell_type": "code",
      "source": [
        "# Function to calculate p_value from the value of statistic and type of test.\n",
        "\n",
        "import scipy.stats\n",
        "\n",
        "def p_values_acc_to_test_for_z_table(z, test):\n",
        "  # check the type of test\n",
        "  if test == \"left\":\n",
        "    return scipy.stats.norm.cdf(z)\n",
        "  elif test == \"right\":\n",
        "    return 1 - scipy.stats.norm.cdf(z)\n",
        "  elif test == \"two tailed\":\n",
        "    return 2 * (1 - scipy.stats.norm.cdf(abs(z)))\n",
        "  else:\n",
        "    print(\"Please enter a valid test type: left, right or two tailed.\")\n",
        "\n",
        "def p_value_from_t(t, df, test):\n",
        "  # check the type of test\n",
        "  if test == \"left\":\n",
        "    return scipy.stats.t.cdf(t, df)\n",
        "  elif test == \"right\":\n",
        "    return 1 - scipy.stats.t.cdf(t, df)\n",
        "  elif test == \"two tailed\":\n",
        "    return 2 * (1 - scipy.stats.t.cdf(abs(t), df))\n",
        "  else:\n",
        "    print(\"Please enter a valid test type: left, right or two tailed.\")\n",
        "\n",
        "# Function to return the result comparing p_value and alpha. Significance level\n",
        "def result(p_value,alpha=0.05):\n",
        "  if p_value > alpha:\n",
        "    return f\"Failed to reject the Null Hypothesis for p = {p_value} with the confidence level of {(1-alpha)*100}%.\"\n",
        "  else:\n",
        "    return f\"Null Hypothesis rejected Successfully for p = {p_value} with the confidence level of {(1-alpha)*100}%.\"\n",
        "\n",
        "def df_unequal(n1, n2, s1, s2):\n",
        "  # n1 and n2 are the sample sizes of the first and second group respectively\n",
        "  # s1 and s2 are the sample variances of the first and second group respectively\n",
        "  return ((s1**2/n1 + s2**2/n2)**2) / (((s1**2/n1)**2)/(n1-1) + ((s2**2/n2)**2)/(n2-1))\n",
        "\n",
        "\n",
        "# Function for Hypothesis testing of two sample means.\n",
        "def hypo_test_2sample_means(dataframe,col1,condition1,col2,condition2,tail_test,equal_var=True,alpha=0.05):\n",
        "\n",
        "  temp_df1 = dataframe[dataframe[col1]==condition1]                             # creating dataframe for 1st sample group\n",
        "  temp_list1 = temp_df1['Rented Bike Count'].to_numpy()                           # Coverting the required column to array\n",
        "\n",
        "  temp_df2 = dataframe[dataframe[col2]==condition2]                             # creating dataframe for 1st sample group\n",
        "  temp_list2 = temp_df2['Rented Bike Count'].to_numpy()                          # Coverting the required column to array\n",
        "\n",
        "  statistic,p_value = ttest_ind(temp_list1,temp_list2,equal_var=equal_var)      # Executing the test\n",
        "  from statistics import variance as var\n",
        "  if equal_var==True:\n",
        "    degree_of_freedom = len(temp_list1) + len(temp_list2) - 2\n",
        "  else:\n",
        "    degree_of_freedom = df_unequal(len(temp_list1),len(temp_list2),var(temp_list1),var(temp_list2))\n",
        "  \n",
        "  new_p_value = p_value_from_t(statistic,degree_of_freedom,tail_test)           # finding the p value according to the type to test\n",
        "  conclusion = result(new_p_value,alpha)\n",
        "  \n",
        "  print(conclusion)                                                             # printing the conclusion"
      ],
      "metadata": {
        "id": "CqVepKPA45-R"
      },
      "execution_count": null,
      "outputs": []
    },
    {
      "cell_type": "markdown",
      "source": [
        "### Hypothetical Statement - 1"
      ],
      "metadata": {
        "id": "CkSpGziHTrg7"
      }
    },
    {
      "cell_type": "markdown",
      "source": [
        "#### 1. State Your research hypothesis as a null hypothesis and alternate hypothesis."
      ],
      "metadata": {
        "id": "REF9ACBLTrg7"
      }
    },
    {
      "cell_type": "markdown",
      "source": [
        "Null Hypothesis(H_O) : mean_holiday - mean_working_day = 0 \n",
        "\n",
        "(There is no difference in the mean number of bikes rented on holidays and working days.)\n",
        "\n",
        "Alternate Hypothesis(H_A) : mean_holiday - mean_working_day < 0\n",
        "\n",
        "(there is a difference in the mean number of bikes rented on holidays and working days.\n",
        "\n",
        "Significance level : alpha = 0.05"
      ],
      "metadata": {
        "id": "iKGRvs2LTrg7"
      }
    },
    {
      "cell_type": "markdown",
      "source": [
        "#### 2. Perform an appropriate statistical test."
      ],
      "metadata": {
        "id": "gxyxlzThTrg8"
      }
    },
    {
      "cell_type": "code",
      "source": [
        "# Perform Statistical Test to obtain P-Value\n",
        "# we will perform hypothesis test for Two Sample means.\n",
        "hypo_test_2sample_means(dataframe=df,col1='Holiday',condition1='Holiday',col2='Holiday',condition2='No Holiday',tail_test='left',equal_var=False,alpha=0.05)\n",
        "# hypo_test_2sample_means(df1,'Holiday','Holiday','Holiday','No Holiday','left',False,0.05)"
      ],
      "metadata": {
        "id": "MLQ97_IvTrg8"
      },
      "execution_count": null,
      "outputs": []
    },
    {
      "cell_type": "code",
      "source": [
        "hypo_test_2sample_means(dataframe=df,col1='Holiday',condition1='Holiday',col2='Holiday',condition2='No Holiday',tail_test='left',equal_var=False,alpha=0.05)"
      ],
      "metadata": {
        "id": "O4Fi55d0ZwfL"
      },
      "execution_count": null,
      "outputs": []
    },
    {
      "cell_type": "markdown",
      "source": [
        "Test result for Business Significance : At the 0.05 level of significance, we do have strong evidence to conclude that working days results in higher mean hourly bikes rented compared to non working days."
      ],
      "metadata": {
        "id": "dbfJHxLc5hZP"
      }
    },
    {
      "cell_type": "markdown",
      "source": [
        "##### Which statistical test have you done to obtain P-Value?"
      ],
      "metadata": {
        "id": "y5tH3cdwTrg8"
      }
    },
    {
      "cell_type": "markdown",
      "source": [
        "We Have perform a Two Sample t test for independent samples considering that the populations donot have equal variance.(Left tailed Hypothesis Testing)\n"
      ],
      "metadata": {
        "id": "ae2-M0-8Trg8"
      }
    },
    {
      "cell_type": "markdown",
      "source": [
        "##### Why did you choose the specific statistical test?"
      ],
      "metadata": {
        "id": "gJRZFf6CTrg9"
      }
    },
    {
      "cell_type": "markdown",
      "source": [
        "From EDA we found that the average hourly booking for Holidays is less that working days. So we performed a Two Sample t test to find wether the decrease in Avg. Bookings is significant or not.\n",
        "\n",
        "considering that the populations donot have equal variance and is unknown to us.\n",
        "\n",
        "Left tailed Hypothesis Testing - As the consideration was the descrease was significant or not."
      ],
      "metadata": {
        "id": "Bq9wOrSfTrg9"
      }
    },
    {
      "cell_type": "markdown",
      "source": [
        "### Hypothetical Statement - 2"
      ],
      "metadata": {
        "id": "xmFwFc2kTrg9"
      }
    },
    {
      "cell_type": "markdown",
      "source": [
        "#### 1. State Your research hypothesis as a null hypothesis and alternate hypothesis."
      ],
      "metadata": {
        "id": "c6EfFjpHTrg9"
      }
    },
    {
      "cell_type": "markdown",
      "source": [
        "Null Hypothesis(H_O) : mean_weekday - mean_weekend = 0\n",
        "\n",
        "Alternate Hypothesis(H_A) : mean_weekday - mean_weekend > 0\n",
        "\n",
        "Significance level : alpha = 0.05"
      ],
      "metadata": {
        "id": "EKuCPaMlTrg-"
      }
    },
    {
      "cell_type": "markdown",
      "source": [
        "#### 2. Perform an appropriate statistical test."
      ],
      "metadata": {
        "id": "G9guqsWETrg-"
      }
    },
    {
      "cell_type": "code",
      "source": [
        "# Perform Statistical Test to obtain P-Value\n",
        "# we will perform hypothesis test for Two Sample means.\n",
        "hypo_test_2sample_means(dataframe=df,col1='week_day',condition1=1,col2='week_day',condition2=0,tail_test='right',equal_var=False,alpha=0.05)"
      ],
      "metadata": {
        "id": "4eO-fvOjTrg-"
      },
      "execution_count": null,
      "outputs": []
    },
    {
      "cell_type": "markdown",
      "source": [
        "Test result for Business Significance : At the 0.05 level of significance, we do have strong evidence to conclude that week days results in higher mean hourly bikes rented compared to weekends."
      ],
      "metadata": {
        "id": "Ol0jXoCzfifE"
      }
    },
    {
      "cell_type": "markdown",
      "source": [
        "##### Which statistical test have you done to obtain P-Value?"
      ],
      "metadata": {
        "id": "HJ7AHpxNTrg_"
      }
    },
    {
      "cell_type": "markdown",
      "source": [
        "We Have perform a Two Sample t test for independent samples considering that the populations donot have equal variance.(Right tailed Hypothesis Testing)"
      ],
      "metadata": {
        "id": "wfsTz7QeTrg_"
      }
    },
    {
      "cell_type": "markdown",
      "source": [
        "##### Why did you choose the specific statistical test?"
      ],
      "metadata": {
        "id": "XmApXmnkTrg_"
      }
    },
    {
      "cell_type": "markdown",
      "source": [
        "From EDA we found that the average hourly booking for Weekdays is higher that weekends. So we performed a Two Sample t test to find wether the increases in Avg. Bookings is significant or not.\n",
        "\n",
        "considering that the populations donot have equal variance and is unknown to us.\n",
        "\n",
        "Right tailed Hypothesis Testing - As the consideration was the descrease was significant or not."
      ],
      "metadata": {
        "id": "BJzNvxIrTrg_"
      }
    },
    {
      "cell_type": "markdown",
      "source": [
        "### Hypothetical Statement - 3"
      ],
      "metadata": {
        "id": "bJbffw7BTrg_"
      }
    },
    {
      "cell_type": "markdown",
      "source": [
        "#### 1. State Your research hypothesis as a null hypothesis and alternate hypothesis."
      ],
      "metadata": {
        "id": "QGHm5D-QTrg_"
      }
    },
    {
      "cell_type": "markdown",
      "source": [
        "Null Hypothesis(H_O) : mean_autumn - mean_spring = 0 \n",
        "\n",
        "Alternate Hypothesis(H_A) : mean_autumn - mean_spring != 0 \n",
        "\n",
        "Significance level : alpha = 0.05"
      ],
      "metadata": {
        "id": "JtL9Tj6TTrg_"
      }
    },
    {
      "cell_type": "markdown",
      "source": [
        "#### 2. Perform an appropriate statistical test."
      ],
      "metadata": {
        "id": "8Wedx22PTrg_"
      }
    },
    {
      "cell_type": "code",
      "source": [
        "# Perform Statistical Test to obtain P-Value\n",
        "# we will perform hypothesis test for Two Sample means.\n",
        "hypo_test_2sample_means(dataframe=df,col1='Seasons',condition1='Spring',col2='Seasons',condition2='Autumn',tail_test='two tailed',equal_var=False,alpha=0.05)"
      ],
      "metadata": {
        "id": "p2TKmjuHTrhA"
      },
      "execution_count": null,
      "outputs": []
    },
    {
      "cell_type": "code",
      "source": [
        "hypo_test_2sample_means(dataframe=df,col1='Seasons',condition1='Spring',col2='Seasons',condition2='Autumn',tail_test='two tailed',equal_var=False,alpha=0.05)"
      ],
      "metadata": {
        "id": "ugxNlDRCBrbz"
      },
      "execution_count": null,
      "outputs": []
    },
    {
      "cell_type": "markdown",
      "source": [
        "Test result for Business Significance : At the 0.05 level of significance, we do have strong evidence to conclude that spring and Autumn have different mean hourly bikes rented."
      ],
      "metadata": {
        "id": "wcSaVcZShyXb"
      }
    },
    {
      "cell_type": "markdown",
      "source": [
        "##### Which statistical test have you done to obtain P-Value?"
      ],
      "metadata": {
        "id": "OojkCNhOTrhA"
      }
    },
    {
      "cell_type": "markdown",
      "source": [
        "We Have perform a Two Sample t test for independent samples considering that the populations donot have equal variance.(two tailed Hypothesis Testing)"
      ],
      "metadata": {
        "id": "OmGsWlDUTrhB"
      }
    },
    {
      "cell_type": "markdown",
      "source": [
        "##### Why did you choose the specific statistical test?"
      ],
      "metadata": {
        "id": "BVaeY2aTTrhB"
      }
    },
    {
      "cell_type": "markdown",
      "source": [
        "From EDA we found that the average hourly booking for Autumn is approximate equal to mean of Spring. So we performed a Two Sample t test to find wether the Difference in Avg. Bookings is significant or not.\n",
        "\n",
        "considering that the populations donot have equal variance and is unknown to us.\n",
        "\n",
        "Two tailed Hypothesis Testing - As the consideration was the Difference was significant or not."
      ],
      "metadata": {
        "id": "edAmIqWJTrhB"
      }
    },
    {
      "cell_type": "markdown",
      "source": [
        "### Hypothetical Statement - 4"
      ],
      "metadata": {
        "id": "J7dXJbGU8H28"
      }
    },
    {
      "cell_type": "markdown",
      "source": [
        "#### 1. State Your research hypothesis as a null hypothesis and alternate hypothesis."
      ],
      "metadata": {
        "id": "ftMnAMsi8H28"
      }
    },
    {
      "cell_type": "markdown",
      "source": [
        "Null Hypothesis(H_O) : variance_autumn - variance_spring = 0\n",
        "\n",
        "Alternate Hypothesis(H_A) : variance_autumn - variance_spring != 0\n",
        "\n",
        "Significance level : alpha = 0.05"
      ],
      "metadata": {
        "id": "ncCOe_N-8H28"
      }
    },
    {
      "cell_type": "markdown",
      "source": [
        "#### 2. Perform an appropriate statistical test."
      ],
      "metadata": {
        "id": "QwXpyCHj8H28"
      }
    },
    {
      "cell_type": "code",
      "source": [
        "# Perform Statistical Test to obtain P-Value\n",
        "\n",
        " # creating dataframe for 1st sample group\n",
        "temp_df1 = df[df['Seasons']=='Autumn']\n",
        " # Coverting the required column to array\n",
        "temp_list1 = temp_df1['Rented Bike Count'].to_numpy()\n",
        "\n",
        " # creating dataframe for 2nd sample group\n",
        "temp_df2 = df[df['Seasons']=='Spring']\n",
        "# Coverting the required column to array\n",
        "temp_list2 = temp_df2['Rented Bike Count'].to_numpy()\n",
        "\n",
        "# Executing the test\n",
        "F = np.var(temp_list1) / np.var(temp_list2)\n",
        "dfn = len(temp_list1) - 1\n",
        "dfd = len(temp_list2) - 1\n",
        "p_value = f.cdf(F,dfn,dfd)\n",
        "\n",
        "# printing the conclusion\n",
        "print(result(p_value,alpha=0.05))"
      ],
      "metadata": {
        "id": "j6pVpctI8H28"
      },
      "execution_count": null,
      "outputs": []
    },
    {
      "cell_type": "markdown",
      "source": [
        "##### Which statistical test have you done to obtain P-Value?"
      ],
      "metadata": {
        "id": "Cppjw4bl8H29"
      }
    },
    {
      "cell_type": "markdown",
      "source": [
        "Answer Here."
      ],
      "metadata": {
        "id": "WQ8ILWh38H29"
      }
    },
    {
      "cell_type": "markdown",
      "source": [
        "##### Why did you choose the specific statistical test?"
      ],
      "metadata": {
        "id": "QZzXBlKG8H29"
      }
    },
    {
      "cell_type": "markdown",
      "source": [
        "Answer Here."
      ],
      "metadata": {
        "id": "bo9T2K4-8H29"
      }
    },
    {
      "cell_type": "markdown",
      "source": [
        "### Hypothetical Statement - 5"
      ],
      "metadata": {
        "id": "2fgNgjra1DdA"
      }
    },
    {
      "cell_type": "markdown",
      "source": [
        "#### 1. State Your research hypothesis as a null hypothesis and alternate hypothesis."
      ],
      "metadata": {
        "id": "0aiFlTXH1DdB"
      }
    },
    {
      "cell_type": "markdown",
      "source": [
        "Null hypothesis for seasons: There is no difference in the mean number of bike rentals among the four seasons.\n",
        "\n",
        "Null hypothesis for months: There is no difference in the mean number of bike rentals among the 12 months\n",
        "\n",
        "Null hypothesis for interaction: There is no interaction effect between seasons and months on the mean number of bike rentals.\n",
        "\n",
        "Alternative hypothesis for seasons: There is a difference in the mean number of bike rentals among the four seasons.\n",
        "\n",
        "Alternative hypothesis for months: There is a difference in the mean number of bike rentals among the 12 months.\n",
        "\n",
        "Alternative hypothesis for interaction: There is an interaction effect between seasons and months on the mean number of bike rentals.\n",
        "\n",
        "\n",
        "Let μij​ be the population mean number of bike rentals for season i and month j, where i=1,2,3,4 and j=1,2,...,12. Then you can write:\n",
        "\n",
        "Null hypothesis for seasons: μ1j​=μ2j​=μ3j​=μ4j​ for all j.\n",
        "\n",
        "Alternative hypothesis for seasons: μ1j​ != μ2j​ or μ1j ​!= μ3j​ or μ1j ​!= μ4j​ or μ2j​ != μ3j​ or μ2j ​!= μ4j​ or μ3j ​!= μ4j​ for some j.\n",
        "\n",
        "Null hypothesis for months: μi1​=μi2​=...=μi12​ for all i.\n",
        "\n",
        "Alternative hypothesis for months: μi1​ != μi2​ or μi1​ != μi3​ or … or μi1 ​!= μi12​ or μi2​ != μi3​ or … or μi11​ != μi12​ for some i.\n",
        "\n",
        "Null hypothesis for interaction: (μ11​−μ12​)=(μ21​−μ22​)=...=(μ41​−μ42​) and (μ11​−μ21​)=(μ12​−μ22​)=...=(μ14​−μ24​) and so on for all possible pairs of seasons and months.\n",
        "\n",
        "Alternative hypothesis for interaction: (μ11​−μ12​) != (μ21​−μ22​) or (μ11​−μ21​) != (μ12​−μ22​) or … or (μ34​−μ44​) != (μ31​−μ41) for some pair of seasons and months."
      ],
      "metadata": {
        "id": "KMFFR_Ej1DdB"
      }
    },
    {
      "cell_type": "markdown",
      "source": [
        "#### 2. Perform an appropriate statistical test."
      ],
      "metadata": {
        "id": "G8-yfvCe1DdB"
      }
    },
    {
      "cell_type": "code",
      "source": [
        "# Perform Statistical Test to obtain P-Value\n",
        "# Performing two-way ANOVA\n",
        "anova_df = df.copy()\n",
        "anova_df.rename(columns={'Rented Bike Count':'RBK'},inplace=True)\n",
        "model = ols('RBK ~ C(month) + C(Seasons) +C(month):C(Seasons)',data=anova_df).fit()\n",
        "result = sm.stats.anova_lm(model, type=2)\n",
        "  \n",
        "# Print the result\n",
        "print(result)"
      ],
      "metadata": {
        "id": "02yACOKE1DdB"
      },
      "execution_count": null,
      "outputs": []
    },
    {
      "cell_type": "markdown",
      "source": [
        "##### Which statistical test have you done to obtain P-Value?"
      ],
      "metadata": {
        "id": "9_nziROL1DdC"
      }
    },
    {
      "cell_type": "markdown",
      "source": [
        " Two-way ANOVA test of months and seasons on Rented bike count."
      ],
      "metadata": {
        "id": "tcoRan_61DdC"
      }
    },
    {
      "cell_type": "markdown",
      "source": [
        "##### Why did you choose the specific statistical test? and results of test."
      ],
      "metadata": {
        "id": "j4PFD5K-1DdC"
      }
    },
    {
      "cell_type": "markdown",
      "source": [
        "A two-way ANOVA was performed to analyze the effect of months and seasons on rented Bike count.\n",
        "\n",
        "The results showed that there was no statistically significant interaction effect between months and seasons (p = 1.000, which is greater than the significance level of 0.05).This means that you cannot reject the null hypothesis of no interaction effect between months and seasonson rented bike count.\n",
        " \n",
        "However, there was a statistically significant main effect of months on Rented bike count (p = 0.000, which is less than the significance level of 0.05).This means that you can reject the null hypothesis of no difference in mean values of the dependent variable among months.\n",
        "\n",
        "while there was no statistically significant main effect of seasons on Rented bike count (p = 0.985, which is greater than the significance level of 0.05). This means that you cannot reject the null hypothesis of no difference in mean values of the dependent variable among seasons"
      ],
      "metadata": {
        "id": "cFpTKoQm1DdC"
      }
    },
    {
      "cell_type": "markdown",
      "source": [
        "## ***6. Feature Engineering & Data Pre-processing***"
      ],
      "metadata": {
        "id": "yLjJCtPM0KBk"
      }
    },
    {
      "cell_type": "markdown",
      "source": [
        "### 1. Handling Missing Values"
      ],
      "metadata": {
        "id": "xiyOF9F70UgQ"
      }
    },
    {
      "cell_type": "code",
      "source": [
        "# Handling Missing Values & Missing Value Imputation\n",
        "null_df = pd.DataFrame(df.isna().sum())\n",
        "null_df"
      ],
      "metadata": {
        "id": "iRsAHk1K0fpS"
      },
      "execution_count": null,
      "outputs": []
    },
    {
      "cell_type": "markdown",
      "source": [
        "#### What all missing value imputation techniques have you used and why did you use those techniques?"
      ],
      "metadata": {
        "id": "7wuGOrhz0itI"
      }
    },
    {
      "cell_type": "markdown",
      "source": [
        "There are no missing values in the DataFrame."
      ],
      "metadata": {
        "id": "1ixusLtI0pqI"
      }
    },
    {
      "cell_type": "markdown",
      "source": [
        "### 2. Handling Outliers"
      ],
      "metadata": {
        "id": "id1riN9m0vUs"
      }
    },
    {
      "cell_type": "code",
      "source": [
        "# Handling Outliers & Outlier treatments\n",
        "\n",
        "# creating list of symmetric and non symmetric variables\n",
        "sym_feat = []\n",
        "non_sym_feat = []\n",
        "\n",
        "# variables having skewness > 0.5 are highly skewed and skewness <0.5 are symmetric variables\n",
        "for var in df.describe().columns.to_list()[2:-3]:\n",
        "  if abs(df[var].skew()) > 0.5:\n",
        "    non_sym_feat.append(var)\n",
        "  else:\n",
        "    sym_feat.append(var)"
      ],
      "metadata": {
        "id": "M6w2CzZf04JK"
      },
      "execution_count": null,
      "outputs": []
    },
    {
      "cell_type": "code",
      "source": [
        "# For Symmetric features defining upper and lower boundry\n",
        "def outlier_treatment_sym(tdf,feature):\n",
        "  upper_boundary = tdf[feature].mean() + 3*tdf[feature].std()\n",
        "  lower_boundary = tdf[feature].mean() - 3*tdf[feature].std()\n",
        "  return upper_boundary,lower_boundary\n",
        "\n",
        "# Restricting the data to lower and upper boundry\n",
        "for feature in sym_feat:\n",
        "  up_bound , lo_bound = outlier_treatment_sym(df,feature)\n",
        "  index_outlier = df[(df[feature] >= up_bound) | (df[feature] <= lo_bound)].index\n",
        "  df.drop(index_outlier , inplace=True)"
      ],
      "metadata": {
        "id": "NdS4OegCiPTx"
      },
      "execution_count": null,
      "outputs": []
    },
    {
      "cell_type": "code",
      "source": [
        "# for non Symmetric Features Defining the boundaries\n",
        "def outlier_treatment_non_sym(tdf,feature):\n",
        "  IQR = tdf[feature].quantile(0.75) - tdf[feature].quantile(0.25) + 1\n",
        "  upper_boundary = tdf[feature].quantile(0.75) + 3 * IQR\n",
        "  lower_boundary = tdf[feature].quantile(0.25) - 3 * IQR\n",
        "  return upper_boundary,lower_boundary\n",
        "\n",
        "# Restricting the data to lower and upper boundry\n",
        "for feature in non_sym_feat:\n",
        "  up_bound , lo_bound = outlier_treatment_non_sym(df,feature)\n",
        "  index_outlier = df[(df[feature] >= up_bound) | (df[feature] <= lo_bound)].index\n",
        "  df.drop(index_outlier , inplace=True)"
      ],
      "metadata": {
        "id": "Z2OIbQaYsQcN"
      },
      "execution_count": null,
      "outputs": []
    },
    {
      "cell_type": "markdown",
      "source": [
        "##### What all outlier treatment techniques have you used and why did you use those techniques?"
      ],
      "metadata": {
        "id": "578E2V7j08f6"
      }
    },
    {
      "cell_type": "markdown",
      "source": [
        "We have Used two different outlier techniques.\n",
        "\n",
        "* For symmetrically distributed data we have used Normal Distribution curve to find the outliers and any value above or below 3 standarad deviations is considered Outlier.\n",
        "\n",
        "* For non Symmetrically distributed data we have used IQR(Inter Quantile Range), to determine the outliers. Any value above 3IQR from 75th quantile and value below 3IQR from 25th Quantile is considered as a outlier. "
      ],
      "metadata": {
        "id": "uGZz5OrT1HH-"
      }
    },
    {
      "cell_type": "markdown",
      "source": [
        "### 3. Categorical Encoding"
      ],
      "metadata": {
        "id": "89xtkJwZ18nB"
      }
    },
    {
      "cell_type": "code",
      "source": [
        "# Encode your categorical columns\n",
        "\n",
        "df2 = df.copy()\n",
        "encoders_dict = {'Holiday':{'Holiday':1,'No Holiday':0},\n",
        "                 'Functioning Day':{'Yes':1,'No':0}}\n",
        "df2 = df2.replace(encoders_dict)\n",
        "df2 = pd.get_dummies(df2,columns=['Seasons'],prefix=None,drop_first=True)\n",
        "df2 = pd.get_dummies(df2,columns=['month'],prefix=None,drop_first=True)\n",
        "df2 = pd.get_dummies(df2,columns=['Hour'],prefix=None,drop_first=True)\n",
        "\n",
        "\n",
        "df3 = df.copy()\n",
        "label_encoder = LabelEncoder()\n",
        "# Encode labels in categorical columns\n",
        "df3['Seasons']= label_encoder.fit_transform(df3['Seasons'])\n",
        "df3['Holiday']= label_encoder.fit_transform(df3['Holiday'])\n",
        "df3['Functioning Day']= label_encoder.fit_transform(df3['Functioning Day'])\n",
        "# month and Hour columns is already label encoded"
      ],
      "metadata": {
        "id": "21JmIYMG2hEo"
      },
      "execution_count": null,
      "outputs": []
    },
    {
      "cell_type": "code",
      "source": [
        "df4=df2.copy()"
      ],
      "metadata": {
        "id": "7eQxIHCO_0i2"
      },
      "execution_count": null,
      "outputs": []
    },
    {
      "cell_type": "markdown",
      "source": [
        "#### What all categorical encoding techniques have you used & why did you use those techniques?"
      ],
      "metadata": {
        "id": "67NQN5KX2AMe"
      }
    },
    {
      "cell_type": "markdown",
      "source": [
        "Two Different type of Encoding is used by creating two dataframes. one hot encoding for linear models and label encoding for Tree based model.\n",
        "\n",
        "* One hot encoding is needed for feeding categorical data to linear models and SVMs with the linear kernels. This is because linear models assume that the numerical values are continuous and ordered, and that the distance between them is meaningful. One hot encoding avoids imposing an order on the categories, and allows the model to learn the weights for each category independently.\n",
        "\n",
        " Also, reason to remove one variable in one-hot encoding is to avoid multicollinearity. Multicollinearity can cause problems for linear regression, as it can make the model unstable and sensitive to noise.\n",
        "\n",
        "* Label encoding is used for tree-based models, such as decision trees and random forests, because they can handle categorical features and do not depend on the distance between the values. Label encoding is also more efficient and less memory-intensive than one hot encoding, especially when there are many categories in a feature like month and hour."
      ],
      "metadata": {
        "id": "UDaue5h32n_G"
      }
    },
    {
      "cell_type": "markdown",
      "source": [
        "### 4. Textual Data Preprocessing  (No textual Variable so skipping this part)\n",
        "(It's mandatory for textual dataset i.e., NLP, Sentiment Analysis, Text Clustering etc.)"
      ],
      "metadata": {
        "id": "Iwf50b-R2tYG"
      }
    },
    {
      "cell_type": "markdown",
      "source": [
        "#### 1. Expand Contraction"
      ],
      "metadata": {
        "id": "GMQiZwjn3iu7"
      }
    },
    {
      "cell_type": "code",
      "source": [
        "# Expand Contraction"
      ],
      "metadata": {
        "id": "PTouz10C3oNN"
      },
      "execution_count": null,
      "outputs": []
    },
    {
      "cell_type": "markdown",
      "source": [
        "#### 2. Lower Casing"
      ],
      "metadata": {
        "id": "WVIkgGqN3qsr"
      }
    },
    {
      "cell_type": "code",
      "source": [
        "# Lower Casing"
      ],
      "metadata": {
        "id": "88JnJ1jN3w7j"
      },
      "execution_count": null,
      "outputs": []
    },
    {
      "cell_type": "markdown",
      "source": [
        "#### 3. Removing Punctuations"
      ],
      "metadata": {
        "id": "XkPnILGE3zoT"
      }
    },
    {
      "cell_type": "code",
      "source": [
        "# Remove Punctuations"
      ],
      "metadata": {
        "id": "vqbBqNaA33c0"
      },
      "execution_count": null,
      "outputs": []
    },
    {
      "cell_type": "markdown",
      "source": [
        "#### 4. Removing URLs & Removing words and digits contain digits."
      ],
      "metadata": {
        "id": "Hlsf0x5436Go"
      }
    },
    {
      "cell_type": "code",
      "source": [
        "# Remove URLs & Remove words and digits contain digits"
      ],
      "metadata": {
        "id": "2sxKgKxu4Ip3"
      },
      "execution_count": null,
      "outputs": []
    },
    {
      "cell_type": "markdown",
      "source": [
        "#### 5. Removing Stopwords & Removing White spaces"
      ],
      "metadata": {
        "id": "mT9DMSJo4nBL"
      }
    },
    {
      "cell_type": "code",
      "source": [
        "# Remove Stopwords"
      ],
      "metadata": {
        "id": "T2LSJh154s8W"
      },
      "execution_count": null,
      "outputs": []
    },
    {
      "cell_type": "code",
      "source": [
        "# Remove White spaces"
      ],
      "metadata": {
        "id": "EgLJGffy4vm0"
      },
      "execution_count": null,
      "outputs": []
    },
    {
      "cell_type": "markdown",
      "source": [
        "#### 6. Rephrase Text"
      ],
      "metadata": {
        "id": "c49ITxTc407N"
      }
    },
    {
      "cell_type": "code",
      "source": [
        "# Rephrase Text"
      ],
      "metadata": {
        "id": "foqY80Qu48N2"
      },
      "execution_count": null,
      "outputs": []
    },
    {
      "cell_type": "markdown",
      "source": [
        "#### 7. Tokenization"
      ],
      "metadata": {
        "id": "OeJFEK0N496M"
      }
    },
    {
      "cell_type": "code",
      "source": [
        "# Tokenization"
      ],
      "metadata": {
        "id": "ijx1rUOS5CUU"
      },
      "execution_count": null,
      "outputs": []
    },
    {
      "cell_type": "markdown",
      "source": [
        "#### 8. Text Normalization"
      ],
      "metadata": {
        "id": "9ExmJH0g5HBk"
      }
    },
    {
      "cell_type": "code",
      "source": [
        "# Normalizing Text (i.e., Stemming, Lemmatization etc.)"
      ],
      "metadata": {
        "id": "AIJ1a-Zc5PY8"
      },
      "execution_count": null,
      "outputs": []
    },
    {
      "cell_type": "markdown",
      "source": [
        "##### Which text normalization technique have you used and why?"
      ],
      "metadata": {
        "id": "cJNqERVU536h"
      }
    },
    {
      "cell_type": "markdown",
      "source": [
        "Answer Here."
      ],
      "metadata": {
        "id": "Z9jKVxE06BC1"
      }
    },
    {
      "cell_type": "markdown",
      "source": [
        "#### 9. Part of speech tagging"
      ],
      "metadata": {
        "id": "k5UmGsbsOxih"
      }
    },
    {
      "cell_type": "code",
      "source": [
        "# POS Taging"
      ],
      "metadata": {
        "id": "btT3ZJBAO6Ik"
      },
      "execution_count": null,
      "outputs": []
    },
    {
      "cell_type": "markdown",
      "source": [
        "#### 10. Text Vectorization"
      ],
      "metadata": {
        "id": "T0VqWOYE6DLQ"
      }
    },
    {
      "cell_type": "code",
      "source": [
        "# Vectorizing Text"
      ],
      "metadata": {
        "id": "yBRtdhth6JDE"
      },
      "execution_count": null,
      "outputs": []
    },
    {
      "cell_type": "markdown",
      "source": [
        "##### Which text vectorization technique have you used and why?"
      ],
      "metadata": {
        "id": "qBMux9mC6MCf"
      }
    },
    {
      "cell_type": "markdown",
      "source": [
        "Answer Here."
      ],
      "metadata": {
        "id": "su2EnbCh6UKQ"
      }
    },
    {
      "cell_type": "markdown",
      "source": [
        "### 4. Feature Manipulation & Selection"
      ],
      "metadata": {
        "id": "-oLEiFgy-5Pf"
      }
    },
    {
      "cell_type": "markdown",
      "source": [
        "#### 1. Feature Manipulation"
      ],
      "metadata": {
        "id": "C74aWNz2AliB"
      }
    },
    {
      "cell_type": "code",
      "source": [
        "# Manipulate Features to minimize feature correlation and create new features\n",
        "\n",
        "# Function for converting Snowfall variable from numeric to categorical variable.\n",
        "def snow_cat(x):\n",
        "  if x==0:\n",
        "    return 0\n",
        "  # elif x>0 and x<=1:\n",
        "  #   return 1\n",
        "  # elif x>1 and x<=2.5:\n",
        "  #   return 2\n",
        "  else:\n",
        "    return 1"
      ],
      "metadata": {
        "id": "h1qC4yhBApWC"
      },
      "execution_count": null,
      "outputs": []
    },
    {
      "cell_type": "code",
      "source": [
        "# Function for converting rainfall variable from numeric to categorical variable.\n",
        "def rain_cat(x):\n",
        "  if x==0:\n",
        "    return 0\n",
        "  # elif x>0 and x<=1:\n",
        "  #   return 1\n",
        "  # elif x>1 and x<=2.5:\n",
        "  #   return 2\n",
        "  # else:\n",
        "  #   return 3\n",
        "\n",
        "  else:\n",
        "    return 1"
      ],
      "metadata": {
        "id": "Ofq-YxtnrN7Z"
      },
      "execution_count": null,
      "outputs": []
    },
    {
      "cell_type": "code",
      "source": [
        "df2['rain'] = df2['Rainfall(mm)'].apply(rain_cat)\n",
        "df2.drop(columns=['Rainfall(mm)'],inplace=True)\n",
        "df2['snow'] = df2['Snowfall (cm)'].apply(snow_cat)\n",
        "df2.drop(columns=['Snowfall (cm)'],inplace=True)\n",
        "df2 = pd.get_dummies(df2,columns=['rain'],prefix=None,drop_first=True)\n",
        "df2 = pd.get_dummies(df2,columns=['snow'],prefix=None,drop_first=True)\n"
      ],
      "metadata": {
        "id": "p3wAJILgrd5w"
      },
      "execution_count": null,
      "outputs": []
    },
    {
      "cell_type": "markdown",
      "source": [
        "Linear regression assumes that the relationship between the predictor variables and the outcome variable is linear. However, we can se that rainfall and snowfall, predictor variable has a curvilinear relationship with the Bikes rented outcome variable, then the linear regression model may not fit the data well and may produce biased or inefficient estimates.\n",
        "\n",
        "To deal with curvilinear variables I have transformed them into categorical variables, by dividing them into groups. After performing cross validation we found that converting rainfall and snowfall to binary variable has best results. \n",
        "\n",
        "Also I have earlier manuplated date column to extract month.\n",
        "\n",
        "I have also created weekday column from the date column."
      ],
      "metadata": {
        "id": "kWWno8mKhLV6"
      }
    },
    {
      "cell_type": "markdown",
      "source": [
        "#### 2. Feature Selection"
      ],
      "metadata": {
        "id": "2DejudWSA-a0"
      }
    },
    {
      "cell_type": "code",
      "source": [
        "# Dropping Constant and Quasi Constant Feature\n",
        "def dropping_constant(data):\n",
        "  from  sklearn.feature_selection import VarianceThreshold\n",
        "  var_thres= VarianceThreshold(threshold=0.04)\n",
        "  var_thres.fit(data)\n",
        "  concol = [column for column in data.columns \n",
        "          if column not in data.columns[var_thres.get_support()]]\n",
        "  if \"Rented Bike Count\" in concol:\n",
        "    concol.remove(\"Rented Bike Count\")\n",
        "  else:\n",
        "    pass\n",
        "  df_removed_var=data.drop(concol,axis=1)\n",
        "  return df_removed_var "
      ],
      "metadata": {
        "id": "ichmZWh0MQSh"
      },
      "execution_count": null,
      "outputs": []
    },
    {
      "cell_type": "markdown",
      "source": [
        "Tried Dropping constant variables. But resulted in poor performance of the model."
      ],
      "metadata": {
        "id": "wr_uWJEKjYN0"
      }
    },
    {
      "cell_type": "markdown",
      "source": [
        "So, Further we will be using VIF and correlation matrix for feature selection from continous variables and Two Way anova test for feature selection amongst categorical variables. "
      ],
      "metadata": {
        "id": "Q20JI_ejmcz7"
      }
    },
    {
      "cell_type": "code",
      "source": [
        "df2.columns"
      ],
      "metadata": {
        "id": "aFoBazaSn4JV"
      },
      "execution_count": null,
      "outputs": []
    },
    {
      "cell_type": "code",
      "source": [
        "# categorical Features list\n",
        "\n",
        "categorical_features = ['Holiday','Functioning Day','week_day','Seasons_Spring','Seasons_Summer','Seasons_Winter','month_2', 'month_3', 'month_4', 'month_5', 'month_6',\n",
        "       'month_7', 'month_8', 'month_9', 'month_10', 'month_11', 'month_12','Hour_1', 'Hour_2', 'Hour_3', 'Hour_4', 'Hour_5', 'Hour_6', 'Hour_7',\n",
        "       'Hour_8', 'Hour_9', 'Hour_10', 'Hour_11', 'Hour_12', 'Hour_13',\n",
        "       'Hour_14', 'Hour_15', 'Hour_16', 'Hour_17', 'Hour_18', 'Hour_19',\n",
        "       'Hour_20', 'Hour_21', 'Hour_22', 'Hour_23','rain_1','snow_1'] \n",
        "\n",
        "cols_not_to_used = categorical_features.copy()\n",
        "cont_cols_to_drop = []"
      ],
      "metadata": {
        "id": "77WYcXxfnJ0n"
      },
      "execution_count": null,
      "outputs": []
    },
    {
      "cell_type": "code",
      "source": [
        "# plotting correlation matrix for continous variables\n",
        "corr_df2 = df2.drop(columns=cols_not_to_used)\n",
        "\n",
        "# setting the size of the chart\n",
        "plt.figure(figsize=(15,6))\n",
        "# setting the axis for graph\n",
        "sns.heatmap(abs(corr_df2.corr()), cmap=\"YlGnBu\", annot=True)\n",
        "plt.show()"
      ],
      "metadata": {
        "id": "-HIMLyiDrui6"
      },
      "execution_count": null,
      "outputs": []
    },
    {
      "cell_type": "code",
      "source": [
        "# Function to calculate variance Inflation Factor (VIF) for the specified columns.\n",
        "def calc_vif(X):\n",
        "  vif=pd.DataFrame()\n",
        "  vif['variables'] = X.columns\n",
        "  vif['V_I_F'] = [VIF(X.values,i) for i in range(X.shape[1])]\n",
        "\n",
        "  return vif"
      ],
      "metadata": {
        "id": "Lwjy7-lbsDhV"
      },
      "execution_count": null,
      "outputs": []
    },
    {
      "cell_type": "code",
      "source": [
        "calc_vif(df2[[i for i in df2.describe().columns if i not in cols_not_to_used]])   #"
      ],
      "metadata": {
        "id": "_EpfNmrxsHi0"
      },
      "execution_count": null,
      "outputs": []
    },
    {
      "cell_type": "markdown",
      "source": [
        "From Correlation matrix we can see that there is highest collinearity(0.91) between Temperature and Dew point temperature which can effect our model predictions for linear models significantly.\n",
        "\n",
        "VIF is high for Temperature and Dew Point temperature. \n",
        "\n",
        "Also, Temperature has higher collinearity with output variable(Bikes rented). So, Dropping the column Dew Point Temperature and recalculating VIF and Correlation matrix."
      ],
      "metadata": {
        "id": "D8S_gi4Yo8As"
      }
    },
    {
      "cell_type": "code",
      "source": [
        "# append the column to cols_not_to_used and Columns_to_drop list\n",
        "cols_not_to_used.append('Dew point temperature(°C)')\n",
        "cont_cols_to_drop.append('Dew point temperature(°C)')"
      ],
      "metadata": {
        "id": "rbfhZcJ3o7lK"
      },
      "execution_count": null,
      "outputs": []
    },
    {
      "cell_type": "code",
      "source": [
        "# plotting correlation matrix for continous variables\n",
        "corr_df2 = df2.drop(columns=cols_not_to_used)\n",
        "\n",
        "# setting the size of the chart\n",
        "plt.figure(figsize=(15,6))\n",
        "# setting the axis for graph\n",
        "sns.heatmap(abs(corr_df2.corr()), cmap=\"YlGnBu\", annot=True)\n",
        "plt.show()"
      ],
      "metadata": {
        "id": "gQkjNL_Urx38"
      },
      "execution_count": null,
      "outputs": []
    },
    {
      "cell_type": "code",
      "source": [
        "calc_vif(df2[[i for i in df2.describe().columns if i not in cols_not_to_used]])   #"
      ],
      "metadata": {
        "id": "uXQm9udsr636"
      },
      "execution_count": null,
      "outputs": []
    },
    {
      "cell_type": "markdown",
      "source": [
        "VIF for all the continous variables is less than 6(which is the threshold value). But we can see that there is high collinearity(0.54) > threshold value(0.5) between Humidity and Visibility which can effect our model predictions for linear models significantly.\n",
        "\n",
        "Also, Visibility has higher collinearity with output variable(Bikes rented). So, Dropping the column Humidity and recalculating VIF and Correlation matrix."
      ],
      "metadata": {
        "id": "d-tLSRy3sLzc"
      }
    },
    {
      "cell_type": "code",
      "source": [
        "# append the column to cols_not_to_used and Columns_to_drop list\n",
        "cols_not_to_used.append('Humidity(%)')\n",
        "cont_cols_to_drop.append('Humidity(%)')"
      ],
      "metadata": {
        "id": "7YmvUWNctJMY"
      },
      "execution_count": null,
      "outputs": []
    },
    {
      "cell_type": "code",
      "source": [
        "corr_df2 = df2.drop(columns=cols_not_to_used)\n",
        "# corr_df2 = df_removed_var.drop(columns=['Dew point temperature(°C)'])\n",
        "# temp_df = corr_df2.drop(columns=['Date'])\n",
        "plt.figure(figsize=(15,6))\n",
        "# setting the axis for graph\n",
        "sns.heatmap(abs(corr_df2.corr()), cmap=\"YlGnBu\", annot=True)\n",
        "plt.show()"
      ],
      "metadata": {
        "id": "J6rHkvxvseWM"
      },
      "execution_count": null,
      "outputs": []
    },
    {
      "cell_type": "code",
      "source": [
        "calc_vif(df2[[i for i in df2.describe().columns if i not in cols_not_to_used]])   "
      ],
      "metadata": {
        "id": "Tqe7LLy6sl0n"
      },
      "execution_count": null,
      "outputs": []
    },
    {
      "cell_type": "code",
      "source": [
        "# Performing two-way ANOVA for categorical variables Month and Hour\n",
        "anova_df = df.copy()\n",
        "anova_df.rename(columns={'Rented Bike Count':'RBK'},inplace=True)\n",
        "model = ols('RBK ~ C(month) + C(Hour) +C(month):C(Hour)',data=anova_df).fit()\n",
        "result = sm.stats.anova_lm(model, type=2)\n",
        "  \n",
        "# Print the result\n",
        "print(result)"
      ],
      "metadata": {
        "id": "M2n0HdQPs561"
      },
      "execution_count": null,
      "outputs": []
    },
    {
      "cell_type": "markdown",
      "source": [
        "A two-way ANOVA was performed to analyze the effect of months and Hour on rented Bike count.\n",
        "\n",
        "The results showed that there was statistically significant interaction effect between months and seasons (p = 1.34e-295 , which is lower than the significance level of 0.05).This means that you can reject the null hypothesis of interaction effect between months and Hour rented bike count.\n",
        "\n",
        "Also, there was a statistically significant main effect of months on Rented bike count (p = 0.000, which is less than the significance level of 0.05).This means that you can reject the null hypothesis of no difference in mean values of the dependent variable among months.\n",
        "\n",
        "Also, there was a statistically significant main effect of Hour on Rented bike count (p = 0.000, which is less than the significance level of 0.05).This means that you can reject the null hypothesis of no difference in mean values of the dependent variable among hours.\n"
      ],
      "metadata": {
        "id": "nT2gKUT4vYue"
      }
    },
    {
      "cell_type": "code",
      "source": [
        "anova_df = df.copy()\n",
        "anova_df.rename(columns={'Rented Bike Count':'RBK'},inplace=True)\n",
        "model = ols('RBK ~ C(month) + C(Seasons) +C(month):C(Seasons)',data=anova_df).fit()\n",
        "result = sm.stats.anova_lm(model, type=2)\n",
        "  \n",
        "# Print the result\n",
        "print(result)"
      ],
      "metadata": {
        "id": "oXqhMrXotOKR"
      },
      "execution_count": null,
      "outputs": []
    },
    {
      "cell_type": "markdown",
      "source": [
        "A two-way ANOVA was performed to analyze the effect of months and seasons on rented Bike count.\n",
        "\n",
        "The results showed that there was no statistically significant interaction effect between months and seasons (p = 1.000, which is greater than the significance level of 0.05).This means that you cannot reject the null hypothesis of no interaction effect between months and seasonson rented bike count.\n",
        "\n",
        "However, there was a statistically significant main effect of months on Rented bike count (p = 0.000, which is less than the significance level of 0.05).This means that you can reject the null hypothesis of no difference in mean values of the dependent variable among months.\n",
        "\n",
        "while there was no statistically significant main effect of seasons on Rented bike count (p = 0.985, which is greater than the significance level of 0.05). This means that you cannot reject the null hypothesis of no difference in mean values of the dependent variable among seasons"
      ],
      "metadata": {
        "id": "tI__UrZRvELO"
      }
    },
    {
      "cell_type": "markdown",
      "source": [
        "Hence we can drop all the Season one hot encoded variables from our model prediction."
      ],
      "metadata": {
        "id": "25p8xWEzvI2V"
      }
    },
    {
      "cell_type": "code",
      "source": [
        "cat_col_to_drop = ['Seasons_Spring','Seasons_Summer','Seasons_Winter']"
      ],
      "metadata": {
        "id": "3c5lz1hMwjVD"
      },
      "execution_count": null,
      "outputs": []
    },
    {
      "cell_type": "code",
      "source": [
        "df2.drop(columns=cat_col_to_drop,inplace=True)\n",
        "df2.drop(columns=cont_cols_to_drop,inplace=True)\n",
        "df2.drop(columns=['Date'],inplace=True)"
      ],
      "metadata": {
        "id": "STVzEyRXtZ7z"
      },
      "execution_count": null,
      "outputs": []
    },
    {
      "cell_type": "code",
      "source": [
        "Final_feature_list = df2.columns.to_list()\n",
        "Final_feature_list.remove('Rented Bike Count')\n",
        "Final_feature_list"
      ],
      "metadata": {
        "id": "mcls_fGCuNFA"
      },
      "execution_count": null,
      "outputs": []
    },
    {
      "cell_type": "markdown",
      "source": [
        "##### What all feature selection methods have you used  and why?"
      ],
      "metadata": {
        "id": "pEMng2IbBLp7"
      }
    },
    {
      "cell_type": "markdown",
      "source": [
        "VIF and Correlation matrix for continous variables. Hypothesis tests and Two Way Anova test for categorical variables.\n",
        "\n",
        "* VIF and correlation matrix are two methods for detecting multicollinearity among the independent continuous variables in a regression model. \n",
        "** A correlation matrix shows the pairwise correlation coefficients between each pair of variables.\n",
        "** A variance inflation factor (VIF) measures how much the variance of an estimated coefficient is increased by the correlation among the independent variables. \n",
        "\n",
        "* Hypothesis testing on binary categorical variables to Determine whether a independent variable have a statistically significant relationship with an outcome variable.\n",
        "\n",
        "* Anova test on to determine the effect of two categorical variables on an outcome variable."
      ],
      "metadata": {
        "id": "rb2Lh6Z8BgGs"
      }
    },
    {
      "cell_type": "markdown",
      "source": [
        "##### Which all features you found important and why?"
      ],
      "metadata": {
        "id": "rAdphbQ9Bhjc"
      }
    },
    {
      "cell_type": "markdown",
      "source": [
        "Important Continous features are : Temperature(°C), Wind speed (m/s), Visibility (10m), Solar Radiation (MJ/m2)'.\n",
        "\n",
        "Continous feature droped are : Humidity and dew point temperature.\n",
        "\n",
        "I used VIF and Correlation matrix to find the important continous features.\n",
        "\n",
        "Important Categorical features are : Holiday, Functioning Day, Hour, Month and week_day.\n",
        "\n",
        "Dropped Categorical features: Seasons.\n",
        "\n",
        "Two way anova test on Month and Seasons had statistically significant result."
      ],
      "metadata": {
        "id": "fGgaEstsBnaf"
      }
    },
    {
      "cell_type": "markdown",
      "source": [
        "### 5. Data Transformation"
      ],
      "metadata": {
        "id": "TNVZ9zx19K6k"
      }
    },
    {
      "cell_type": "markdown",
      "source": [
        "#### Do you think that your data needs to be transformed? If yes, which transformation have you used. Explain Why?"
      ],
      "metadata": {
        "id": "nqoHp30x9hH9"
      }
    },
    {
      "cell_type": "markdown",
      "source": [
        "We will use dist plot and QQ plot to plot the distribution of Output variable number of bikes rented."
      ],
      "metadata": {
        "id": "jiJ7hFVc4WTy"
      }
    },
    {
      "cell_type": "code",
      "source": [
        "# Transform Your data\n",
        "\n",
        "fig, (ax1, ax2) = plt.subplots(1, 2,figsize=(12,5))\n",
        "\n",
        "sns.histplot(ax=ax1,data=df['Rented Bike Count'],kde=True)\n",
        "sk = round(df['Rented Bike Count'].skew(),2)\n",
        "ax1.set(title=f'Distribution, skew = {sk}')\n",
        "\n",
        " \n",
        "# adding visualizations to chart\n",
        "\n",
        "ax1.axvline(df['Rented Bike Count'].mean(),color='g',ls='--',lw=2.5,label='MEAN')\n",
        "ax1.axvline(df['Rented Bike Count'].median(),color='black',ls='--',lw=2.5,label='MEdian')\n",
        "\n",
        "sm.qqplot(np.log(df['Rented Bike Count']+1),line='45',fit=True,dist=norm,alpha=0.2,ax=ax2)\n",
        "\n",
        "ax1.grid(which='both',alpha=0.3,linestyle='--')\n",
        "ax1.minorticks_on()\n",
        "ax2.grid(which='both',alpha=0.3,linestyle='--')\n",
        "ax2.minorticks_on()\n",
        "\n",
        "plt.show()"
      ],
      "metadata": {
        "id": "I6quWQ1T9rtH"
      },
      "execution_count": null,
      "outputs": []
    },
    {
      "cell_type": "markdown",
      "source": [
        "As the value of skewness is 1.14 which is much higher than the threshold limit of 0.5 for approximately normal distributed data. \n",
        "\n",
        "Which we can also observe from distribution plot and QQ plot.\n",
        "\n",
        "So we try log transformation. For applying log transformation as the output variable has zero values we will add as constant 1 to all the values. "
      ],
      "metadata": {
        "id": "d14R7DyO4v0M"
      }
    },
    {
      "cell_type": "code",
      "source": [
        "fig, (ax1, ax2) = plt.subplots(1, 2,figsize=(12,5))\n",
        "\n",
        "sns.histplot(ax=ax1,data=np.log(df['Rented Bike Count']+1),kde=True)\n",
        "sk = round(np.log(df['Rented Bike Count']+1).skew(),2)\n",
        "ax1.set(title=f'log transformation, skew = {sk}')\n",
        "\n",
        " \n",
        "# adding visualizations to chart\n",
        "\n",
        "ax1.axvline(np.log(df['Rented Bike Count']+1).mean(),color='g',ls='--',lw=2.5,label='MEAN')\n",
        "ax1.axvline(np.log(df['Rented Bike Count']+1).median(),color='black',ls='--',lw=2.5,label='MEdian')\n",
        "\n",
        "sm.qqplot(np.log(df['Rented Bike Count']+1),line='45',fit=True,dist=norm,alpha=0.2,ax=ax2)\n",
        "\n",
        "\n",
        "ax1.grid(which='both',alpha=0.3,linestyle='--')\n",
        "ax1.minorticks_on()\n",
        "ax2.grid(which='both',alpha=0.3,linestyle='--')\n",
        "ax2.minorticks_on()\n",
        "\n",
        "plt.show()"
      ],
      "metadata": {
        "id": "T5rmPsrzfWCh"
      },
      "execution_count": null,
      "outputs": []
    },
    {
      "cell_type": "markdown",
      "source": [
        "After the log transformation value of skewness is -1.19 which is much lower than the threshold limit of -0.5 for approximately normal distributed data.\n",
        "\n",
        "Which we can also observe from distribution plot and QQ plot.\n",
        "\n",
        "So we should try Square root transformation."
      ],
      "metadata": {
        "id": "QodqeOTX5-ZS"
      }
    },
    {
      "cell_type": "code",
      "source": [
        "fig, (ax1, ax2) = plt.subplots(1, 2,figsize=(12,5))\n",
        "\n",
        "sns.histplot(ax=ax1,data=np.sqrt(df['Rented Bike Count']),kde=True)\n",
        "sk = round(np.sqrt(df['Rented Bike Count']).skew(),2)\n",
        "ax1.set(title=f'Square root transformation, skew = {sk}')\n",
        "\n",
        " \n",
        "# adding visualizations to chart\n",
        "\n",
        "ax1.axvline(np.sqrt(df['Rented Bike Count']).mean(),color='r',ls='--',lw=2.5,label='MEAN')\n",
        "ax1.axvline(np.sqrt(df['Rented Bike Count']).median(),color='black',ls='--',lw=2.5,label='MEdian')\n",
        "\n",
        "sm.qqplot(np.sqrt(df['Rented Bike Count']),line='45',fit=True,dist=norm,alpha=0.2,ax=ax2)\n",
        "\n",
        "\n",
        "ax1.grid(which='both',alpha=0.3,linestyle='--')\n",
        "ax1.minorticks_on()\n",
        "ax2.grid(which='both',alpha=0.3,linestyle='--')\n",
        "ax2.minorticks_on()\n",
        "\n",
        "plt.show()"
      ],
      "metadata": {
        "id": "dK-FpUMNgWAG"
      },
      "execution_count": null,
      "outputs": []
    },
    {
      "cell_type": "markdown",
      "source": [
        "For Square Root transformation the Skewness(0.23) of data is within the limit of approximately normal distributed data.\n",
        "\n",
        "Also we can see that mean and median lines are approximately equal each other.\n",
        "\n",
        "So, We will be applying Square root transformation for distance based model."
      ],
      "metadata": {
        "id": "2JbXoYi07O6Q"
      }
    },
    {
      "cell_type": "code",
      "source": [
        "# Appyling Square root transformation\n",
        "y = df2['Rented Bike Count'].apply(lambda x : np.sqrt(x))\n",
        "# y = y.values.reshape((-1, 1))"
      ],
      "metadata": {
        "id": "wUKFbGIvkFnQ"
      },
      "execution_count": null,
      "outputs": []
    },
    {
      "cell_type": "markdown",
      "source": [
        "### 6. Data Scaling"
      ],
      "metadata": {
        "id": "rMDnDkt2B6du"
      }
    },
    {
      "cell_type": "code",
      "source": [
        "# Scaling your data\n",
        "# Creating X as input variables array\n",
        "X = df2.copy()\n",
        "X.drop(columns=['Rented Bike Count'],inplace=True)\n",
        "\n",
        "# creating a object of standarad Scaler class\n",
        "scaler = StandardScaler()\n",
        "#applying transformation to input array\n",
        "X = scaler.fit_transform(X)"
      ],
      "metadata": {
        "id": "dL9LWpySC6x_"
      },
      "execution_count": null,
      "outputs": []
    },
    {
      "cell_type": "markdown",
      "source": [
        "##### Which method have you used to scale you data and why?"
      ],
      "metadata": {
        "id": "yiiVWRdJDDil"
      }
    },
    {
      "cell_type": "markdown",
      "source": [
        "A standard scaler is a data preprocessing technique that transforms the numerical features of a dataset to have a mean of zero and a standard deviation of one.\n",
        "\n",
        " which can improve the performance of linear regression, polynomial regrsiion and support vector machines.\n",
        "\n",
        " It scales the features to a common range, which can help compare different features and avoid dominance of some features over others due to their large magnitude\n"
      ],
      "metadata": {
        "id": "90nym67Q7_x3"
      }
    },
    {
      "cell_type": "markdown",
      "source": [
        "### 7. Dimesionality Reduction"
      ],
      "metadata": {
        "id": "1UUpS68QDMuG"
      }
    },
    {
      "cell_type": "markdown",
      "source": [
        "##### Do you think that dimensionality reduction is needed? Explain Why?"
      ],
      "metadata": {
        "id": "kexQrXU-DjzY"
      }
    },
    {
      "cell_type": "markdown",
      "source": [
        "After One Hot endoing on month and hour variable number of categorical input variables increasesd significantly to 35. So, tried PCA(principal component analysis) and MCA for dimensionality reduction but resulted in lowering the performance of model. So, no dimensionality reduction technique is used."
      ],
      "metadata": {
        "id": "GGRlBsSGDtTQ"
      }
    },
    {
      "cell_type": "code",
      "source": [
        "!pip install prince"
      ],
      "metadata": {
        "id": "OMDx_r7C1iHb"
      },
      "execution_count": null,
      "outputs": []
    },
    {
      "cell_type": "code",
      "source": [
        "# DImensionality Reduction (If needed)\n",
        "\n",
        "\n",
        "# from sklearn.decomposition import PCA\n",
        "# from sklearn.linear_model import LinearRegression\n",
        "# from prince import MCA\n",
        "\n",
        "# # Load data\n",
        "# # data = pd.read_csv(\"data.csv\")\n",
        "\n",
        "# # Separate numerical and categorical variables\n",
        "\n",
        "\n",
        "\n",
        "# num_vars = df2[['Temperature(°C)','Wind speed (m/s)', 'Visibility (10m)', 'Solar Radiation (MJ/m2)']]\n",
        "# cat_vars = df2[[ 'Holiday', 'Functioning Day', 'month_2', 'month_3', 'month_4', 'month_5', 'month_6', 'month_7', 'month_8', 'month_9', 'month_10', 'month_11', 'month_12', 'Hour_1', 'Hour_2', 'Hour_3', 'Hour_4', 'Hour_5', 'Hour_6', 'Hour_7', 'Hour_8', 'Hour_9', 'Hour_10', 'Hour_11', 'Hour_12', 'Hour_13', 'Hour_14', 'Hour_15', 'Hour_16', 'Hour_17', 'Hour_18', 'Hour_19', 'Hour_20', 'Hour_21', 'Hour_22', 'Hour_23', 'rain_1', 'snow_1']].columns.tolist()\n",
        "\n",
        "# # # Apply PCA on numerical variables\n",
        "# # pca = PCA(n_components=2) # choose number of components\n",
        "# # num_pca = pca.fit_transform(data[num_vars])\n",
        "# # num_pca = pd.DataFrame(num_pca, columns=[\"num_pca1\", \"num_pca2\"])\n",
        "\n",
        "# # Apply MCA on categorical variables\n",
        "# mca = MCA(n_components=35) # choose number of components\n",
        "# cat_mca = mca.fit_transform(df2[cat_vars])\n",
        "# cat_mca = pd.DataFrame(cat_mca)\n",
        "\n",
        "# # Combine reduced variables\n",
        "# X = pd.concat([num_vars, cat_mca], axis=1)\n",
        "\n",
        "# # Fit linear regression model\n",
        "# # model = LinearRegression()\n",
        "# # model.fit(reduced_data, data[\"target\"]) \n",
        "\n",
        "# numeric_var = ['Temperature(°C)',\n",
        "#  'Wind speed (m/s)',\n",
        "#  'Visibility (10m)',\n",
        "#  'Solar Radiation (MJ/m2)']\n",
        "\n",
        "# # scaler = StandardScaler()\n",
        "# # X = scaler.fit_transform(X)\n",
        "# y = df2['Rented Bike Count'].apply(lambda x : np.sqrt(x))\n",
        "\n",
        "# cat_vars = list(np.arange(0,35))\n",
        "\n",
        "# # Define a list of new names\n",
        "# new_names = ['month_2',\n",
        "#  'month_3',\n",
        "#  'month_4',\n",
        "#  'month_5',\n",
        "#  'month_6',\n",
        "#  'month_7',\n",
        "#  'month_8',\n",
        "#  'month_9',\n",
        "#  'month_10',\n",
        "#  'month_11',\n",
        "#  'month_12',\n",
        "#  'Hour_1',\n",
        "#  'Hour_2',\n",
        "#  'Hour_3',\n",
        "#  'Hour_4',\n",
        "#  'Hour_5',\n",
        "#  'Hour_6',\n",
        "#  'Hour_7',\n",
        "#  'Hour_8',\n",
        "#  'Hour_9',\n",
        "#  'Hour_10',\n",
        "#  'Hour_11',\n",
        "#  'Hour_12',\n",
        "#  'Hour_13',\n",
        "#  'Hour_14',\n",
        "#  'Hour_15',\n",
        "#  'Hour_16',\n",
        "#  'Hour_17',\n",
        "#  'Hour_18',\n",
        "#  'Hour_19',\n",
        "#  'Hour_20', 'Hour_21', 'Hour_22', 'Hour_23', 'rain_1', 'snow_1'] # change as needed\n",
        "\n",
        "# # Create a dictionary of old and new names\n",
        "# name_dict = dict(zip(cat_vars, new_names))\n",
        "\n",
        "# # Rename categorical variables\n",
        "# X = X.rename(columns=name_dict)\n",
        "\n",
        "# # y.reshape(1,-1)\n",
        "# # reshaping series \n",
        "# y = y.values.reshape((-1, 1))\n",
        "\n",
        "# scaler = StandardScaler()\n",
        "# X = scaler.fit_transform(X)\n",
        "# # y = scaler.fit_transform(y)\n",
        "\n",
        "# X_train, X_test, y_train, y_test = train_test_split( X,y , test_size = 0.25, random_state = 0) \n",
        "\n",
        "# # ML Model - 1 Implementation\n",
        "# lin_reg = LinearRegression()\n",
        "# # Fit the Algorithm\n",
        "# reg1 = lin_reg.fit(X_train, y_train)\n",
        "# # Predict on the model\n",
        "# y_pred_test = reg1.predict(X_test)\n",
        "\n",
        "# r2 = r2_score((y_test)**2,(y_pred_test)**2)\n",
        "# r2_adjusted = 1 - ((1 - r2) * (X_test.shape[0] - 1) / (X_test.shape[0] - X_test.shape[1] -1))\n",
        "# print(f\" R2_score : {r2} \\n R2_adjusted : {r2_adjusted}\")"
      ],
      "metadata": {
        "id": "kQfvxBBHDvCa"
      },
      "execution_count": null,
      "outputs": []
    },
    {
      "cell_type": "markdown",
      "source": [
        "##### Which dimensionality reduction technique have you used and why? (If dimensionality reduction done on dataset.)"
      ],
      "metadata": {
        "id": "T5CmagL3EC8N"
      }
    },
    {
      "cell_type": "markdown",
      "source": [
        "Answer Here."
      ],
      "metadata": {
        "id": "ZKr75IDuEM7t"
      }
    },
    {
      "cell_type": "markdown",
      "source": [
        "### 8. Data Splitting"
      ],
      "metadata": {
        "id": "BhH2vgX9EjGr"
      }
    },
    {
      "cell_type": "code",
      "source": [
        "# Split your data to train and test. Choose Splitting ratio wisely.\n",
        "X_train, X_test, y_train, y_test = train_test_split( X,y , test_size = 0.25,random_state=42) "
      ],
      "metadata": {
        "id": "0CTyd2UwEyNM"
      },
      "execution_count": null,
      "outputs": []
    },
    {
      "cell_type": "markdown",
      "source": [
        "##### What data splitting ratio have you used and why? "
      ],
      "metadata": {
        "id": "qjKvONjwE8ra"
      }
    },
    {
      "cell_type": "markdown",
      "source": [
        "The best train test split ratio depends on the size and complexity of your dataset, the type of machine learning problem you are solving.\n",
        "\n",
        "For small datasets (less than 10,000 samples), we can use a 60:40 or 70:30 split for train and test sets. So, we have used 75:25 ratio for train test split."
      ],
      "metadata": {
        "id": "Y2lJ8cobFDb_"
      }
    },
    {
      "cell_type": "markdown",
      "source": [
        "### 9. Handling Imbalanced Dataset"
      ],
      "metadata": {
        "id": "P1XJ9OREExlT"
      }
    },
    {
      "cell_type": "markdown",
      "source": [
        "##### Do you think the dataset is imbalanced? Explain Why."
      ],
      "metadata": {
        "id": "VFOzZv6IFROw"
      }
    },
    {
      "cell_type": "markdown",
      "source": [
        "Answer Here."
      ],
      "metadata": {
        "id": "GeKDIv7pFgcC"
      }
    },
    {
      "cell_type": "code",
      "source": [
        "# Handling Imbalanced Dataset (If needed)"
      ],
      "metadata": {
        "id": "nQsRhhZLFiDs"
      },
      "execution_count": null,
      "outputs": []
    },
    {
      "cell_type": "markdown",
      "source": [
        "##### What technique did you use to handle the imbalance dataset and why? (If needed to be balanced)"
      ],
      "metadata": {
        "id": "TIqpNgepFxVj"
      }
    },
    {
      "cell_type": "markdown",
      "source": [
        "Answer Here."
      ],
      "metadata": {
        "id": "qbet1HwdGDTz"
      }
    },
    {
      "cell_type": "markdown",
      "source": [
        "## ***7. ML Model Implementation***"
      ],
      "metadata": {
        "id": "VfCC591jGiD4"
      }
    },
    {
      "cell_type": "code",
      "source": [
        "# Code for evaluation matrix table\n",
        "eval_df = pd.DataFrame()\n",
        "\n",
        "def eval_matrix_reg(y_test,y_test_pred,X_test_shape):\n",
        "\n",
        "  MSE = round(mean_squared_error(y_test,y_test_pred),2)\n",
        "  print(f\"MSE                : {MSE}\")\n",
        "\n",
        "  RMSE = round(np.sqrt(MSE),2)\n",
        "  print(f\"RMSE               : {RMSE}\")\n",
        "\n",
        "  r_squared = round(r2_score(y_test,y_test_pred),2)\n",
        "  print(f\"r2                 : {r_squared}\")\n",
        "\n",
        "  Adjusted_r_squared = round(1 - ((1 - r_squared) * (X_test_shape[0] - 1) / (X_test_shape[0] - X_test_shape[1] -1)),2)\n",
        "  print(f\"Adjusted r squared : {Adjusted_r_squared}\")\n",
        "\n",
        "  return (MSE,RMSE,r_squared,Adjusted_r_squared)"
      ],
      "metadata": {
        "id": "kzTXorcV4VIT"
      },
      "execution_count": null,
      "outputs": []
    },
    {
      "cell_type": "markdown",
      "source": [
        "### ML Model - 1 OLS(Ordinary Least Square), Simple Linear regression, with Regularization"
      ],
      "metadata": {
        "id": "wF66uuyD2HZk"
      }
    },
    {
      "cell_type": "code",
      "source": [
        "# ML Model - 1 Implementation\n",
        "lin_reg = LinearRegression()\n",
        "\n",
        "# Fit the Algorithm\n",
        "reg_lin = lin_reg.fit(X_train, y_train)\n",
        "\n",
        "# Predict on the model\n",
        "y_pred_test = reg_lin.predict(X_test)\n"
      ],
      "metadata": {
        "id": "Bk5Qj5Cn2HZl"
      },
      "execution_count": null,
      "outputs": []
    },
    {
      "cell_type": "markdown",
      "source": [
        "#### 1. Explain the ML Model used and it's performance using Evaluation metric Score Chart."
      ],
      "metadata": {
        "id": "qzDxsXW42HZl"
      }
    },
    {
      "cell_type": "code",
      "source": [
        "# Visualizing evaluation Metric Score chart\n",
        "mse,rmse,r2,adjusted_r2 =  eval_matrix_reg((y_test)**2,(y_pred_test)**2,X_test.shape)\n",
        "\n",
        "# Creating A DataFrame to store Evaluation Metrics values for linear regression with and without regularization\n",
        "linear_eval_matrix = pd.DataFrame(columns=['Reg_name','Regularization','RMSE(Avg_error_in_prediction)','Adjusted_r2'])\n",
        "# Appending the evaluation Metric values in DataFrame\n",
        "linear_eval_matrix.loc[len(linear_eval_matrix.index)] =  ['OLS','none',rmse,adjusted_r2]\n",
        "\n",
        "\n",
        "# Creating A DataFrame to store Evaluation Metrics values for Different regression with best results after Hyperparameter Tuning and Regularization.\n",
        "eval_matrix = pd.DataFrame(columns=['Reg_name','RMSE(Avg_error_in_prediction)','Adjusted_r2'])\n",
        "# Appending the values in DataFrame\n",
        "eval_matrix.loc[len(eval_matrix.index)] =  ['OLS',rmse,adjusted_r2]"
      ],
      "metadata": {
        "id": "-c5rwDMK2HZl"
      },
      "execution_count": null,
      "outputs": []
    },
    {
      "cell_type": "code",
      "source": [
        "linear_eval_matrix"
      ],
      "metadata": {
        "id": "UxjfBvNv7kNx"
      },
      "execution_count": null,
      "outputs": []
    },
    {
      "cell_type": "markdown",
      "source": [
        "\n",
        "\n",
        "*   **MSE Mean Squared Error :** It measures the square of average error there is in the predictions. \n",
        "*   **RMSE Root Mean Squared Error :** It measures average error there is in the predictions. 300 is the average prediction error for a given Hour.\n",
        "* **r2 Coefficient of Determination :** Proportion of the variance in the actual values that is explained by the model. 78%  variance is explained by the model.\n",
        "* **Adjusted r squared :** It is a modified version of r2 that takes into account the number of predictors and the sample size. It penalizes the model for adding irrelevant predictors. 78% which is same as r2, This is a very unlikely scenario, as it means that the model perfectly explains all the variance in the actual values and has no error. In most cases, the adjusted r2 will be lower than the r2 for a model with 43 variables, unless the model has a very high explanatory power and a very low error. Also, we can interpret that there will not be much effect of regularization as r2 and adjusted r2 are same.\n",
        "\n"
      ],
      "metadata": {
        "id": "XNCU1RiS_UhM"
      }
    },
    {
      "cell_type": "markdown",
      "source": [
        "#### 2. Cross- Validation & Hyperparameter Tuning"
      ],
      "metadata": {
        "id": "HMG2unOe2HZl"
      }
    },
    {
      "cell_type": "code",
      "source": [
        "# ML Model - 1 Implementation with hyperparameter optimization techniques (i.e., GridSearch CV, RandomSearch CV, Bayesian Optimization etc.)\n",
        "\n",
        "# Creating a Object for Lasso Regression\n",
        "lasso = Lasso()\n",
        "# Creating Dictionary of Hyperparameters\n",
        "parameters = {'alpha': [1e-13,1e-10,1e-8,1e-5,1e-4,1e-3,1e-2,1e-1,1,5,10,20,30,40,45,50,55,60,100]}\n",
        "# Implementing the the regression with GridSearch CV  \n",
        "lasso_regressor = GridSearchCV(lasso, parameters, scoring='neg_mean_squared_error', cv=4)\n",
        "# Fitting the best model\n",
        "lasso_regressor.fit(X_train, y_train)\n",
        "\n",
        "# Predicting the Test Values\n",
        "y_pred_test_lasso = lasso_regressor.predict(X_test)\n",
        "# Visualizing evaluation Metric Score chart\n",
        "mse,rmse,r2,adjusted_r2 = eval_matrix_reg((y_test)**2,(y_pred_test_lasso)**2,X_test.shape)\n",
        "\n",
        "# Appending the values in the DataFrame\n",
        "linear_eval_matrix.loc[len(linear_eval_matrix.index)] =  ['Lasso','L1',rmse,adjusted_r2]"
      ],
      "metadata": {
        "id": "o5fzT9_wM-s5"
      },
      "execution_count": null,
      "outputs": []
    },
    {
      "cell_type": "code",
      "source": [
        "# Hyperprarameter tuning - Ridge Regression\n",
        "\n",
        "# Creating a Object for Ridge Regression\n",
        "ridge = Ridge()\n",
        "# Creating Dictionary of Hyperparameters\n",
        "parameters = {'alpha': [1e-15,1e-10,1e-8,1e-5,1e-4,1e-3,1e-2,1,5,10,20,30,40,45,50,55,60,100]}\n",
        "# Implementing the the regression with GridSearch CV  \n",
        "ridge_regressor = GridSearchCV(ridge, parameters, scoring='neg_mean_squared_error', cv=3)\n",
        "# Fitting the best model\n",
        "ridge_regressor.fit(X_train,y_train)\n",
        "\n",
        "# Predicting the Test Values\n",
        "y_pred_test = ridge_regressor.predict(X_test)\n",
        "# Visualizing evaluation Metric Score chart\n",
        "mse,rmse,r2,adjusted_r2 = eval_matrix_reg((y_test)**2,(y_pred_test)**2,X_test.shape)\n",
        "\n",
        "# Appending the values in the DataFrame\n",
        "linear_eval_matrix.loc[len(linear_eval_matrix.index)] =  ['Ridge','L2',rmse,adjusted_r2]"
      ],
      "metadata": {
        "id": "o_WfbiKFasqv"
      },
      "execution_count": null,
      "outputs": []
    },
    {
      "cell_type": "code",
      "source": [
        "# Hyperprarameter tuning - ElasticNet Regression\n",
        "\n",
        "# Creating a Object for ElasticNet Regression\n",
        "elastic = ElasticNet()\n",
        "# Creating Dictionary of Hyperparameters\n",
        "parameters = {'alpha': [1e-13,1e-10,1e-8,1e-5,1e-4,1e-3,1e-2,1e-1,1,5,10,20,30,40,45,50,55,60,100],'l1_ratio':np.linspace(0.1,1,10)}\n",
        "# Implementing the the regression with GridSearch CV  \n",
        "elastic_regressor = RandomizedSearchCV(elastic, parameters, scoring='neg_mean_squared_error',cv=4)\n",
        "# Fitting the best model\n",
        "elastic_regressor.fit(X_train, y_train)\n",
        "\n",
        "# Predicting the Test Values\n",
        "y_pred_test = elastic_regressor.predict(X_test)\n",
        "# Visualizing evaluation Metric Score chart\n",
        "mse,rmse,r2,adjusted_r2 = eval_matrix_reg((y_test)**2,(y_pred_test)**2,X_test.shape)\n",
        "\n",
        "# Appending the values in the DataFrame\n",
        "linear_eval_matrix.loc[len(linear_eval_matrix.index)] =  ['ElasticNet','L1 and L2',rmse,adjusted_r2]"
      ],
      "metadata": {
        "id": "TTej1x8wUjez"
      },
      "execution_count": null,
      "outputs": []
    },
    {
      "cell_type": "code",
      "source": [
        "lasso_regressor.best_params_"
      ],
      "metadata": {
        "id": "UAuKS2EDcfQL"
      },
      "execution_count": null,
      "outputs": []
    },
    {
      "cell_type": "code",
      "source": [
        "ridge_regressor.best_params_"
      ],
      "metadata": {
        "id": "13UyD6CWcW4c"
      },
      "execution_count": null,
      "outputs": []
    },
    {
      "cell_type": "code",
      "source": [
        "elastic_regressor.best_params_"
      ],
      "metadata": {
        "id": "Jwt94bqtcv9I"
      },
      "execution_count": null,
      "outputs": []
    },
    {
      "cell_type": "markdown",
      "source": [
        "##### Which hyperparameter optimization technique have you used and why?"
      ],
      "metadata": {
        "id": "WVmNi3ay2HZn"
      }
    },
    {
      "cell_type": "markdown",
      "source": [
        "I have applied Lasso, Ridge and Elasticnet Regressor.\n",
        "\n",
        "lasso regression - Initially  tried by applying L1 regularization and using GridSearchCV. Used Gridsearch CV as the Variables are less and also the variables are less so it wont be computaionally heavy. And comparing to Randomized Search CV we will get best results in first try.\n",
        "\n",
        "But the Best value of alpha has the same RMSE of 300. i.e. the error in prediction.\n",
        "\n",
        "Ridge Regression - Initially  tried by applying L2 regularization and using GridSearchCV. \n",
        "\n",
        "But the Best value of alpha has the same RMSE of 300. i.e. the error in prediction.\n",
        "\n",
        "Finally tried ElasticNet Regularization and that is L1 and L2 combine and did a gridsearch CV to find the best Parameters. and improve the accuracy. But the results were the same."
      ],
      "metadata": {
        "id": "-PXP86gN2HZn"
      }
    },
    {
      "cell_type": "markdown",
      "source": [
        "##### Have you seen any improvement? Note down the improvement with updates Evaluation metric Score Chart."
      ],
      "metadata": {
        "id": "goyQOb9l2HZn"
      }
    },
    {
      "cell_type": "code",
      "source": [
        "# Visualizing evaluation Metric Score chart\n",
        "linear_eval_matrix"
      ],
      "metadata": {
        "id": "ED0fI33e9Ntg"
      },
      "execution_count": null,
      "outputs": []
    },
    {
      "cell_type": "markdown",
      "source": [
        "There was No improvement. Ordinary least Square (Linear Regressor) without any Regularisation gave the best results. We will try Polynomial Regression For better Accuracy."
      ],
      "metadata": {
        "id": "XP5v9PSm2HZn"
      }
    },
    {
      "cell_type": "markdown",
      "source": [
        "### ML Model - 2 Polynomial Regression with Regularization"
      ],
      "metadata": {
        "id": "dJ2tPlVmpsJ0"
      }
    },
    {
      "cell_type": "markdown",
      "source": [
        "#### 1. Explain the ML Model used and it's performance using Evaluation metric Score Chart."
      ],
      "metadata": {
        "id": "JWYfwnehpsJ1"
      }
    },
    {
      "cell_type": "code",
      "source": [
        "# ML Model 2 Implementation\n",
        "\n",
        "# Creating Polynomial Features object with degree = 2\n",
        "poly_features = PolynomialFeatures(degree=2)\n",
        "\n",
        "# transforms the existing features to higher degree features.\n",
        "X_train_poly = poly_features.fit_transform(X_train)\n",
        "X_test_poly = poly_features.transform(X_test)\n",
        "\n",
        "# fit the transformed features to Linear Regression\n",
        "poly_model = LinearRegression()\n",
        "poly_model.fit(X_train_poly, y_train)\n",
        "\n",
        "# predicting on test data-set\n",
        "y_pred_test = poly_model.predict(X_test_poly)\n",
        "\n",
        "# Visualizing evaluation Metric Score chart\n",
        "mse,rmse,r2,adjusted_r2 = eval_matrix_reg((y_test)**2,(y_pred_test)**2,X_test_poly.shape)\n",
        "\n",
        "# Creating A DataFrame to store Evaluation Metrics values for Polynomial regression with and without regularization\n",
        "poly_eval_matrix = pd.DataFrame(columns=['Reg_name','Regularization','RMSE(Avg_error_in_prediction)','Adjusted_r2'])\n",
        "poly_eval_matrix.loc[len(poly_eval_matrix.index)] =  ['Polynomial','none',rmse,adjusted_r2]\n",
        "\n",
        "# eval_matrix = pd.DataFrame(columns=['Reg_name','RMSE(Avg_error_in_prediction)','Adjusted_r2'])\n",
        "eval_matrix.loc[len(eval_matrix.index)] =  ['polynomial',rmse,adjusted_r2]"
      ],
      "metadata": {
        "id": "yEl-hgQWpsJ1"
      },
      "execution_count": null,
      "outputs": []
    },
    {
      "cell_type": "markdown",
      "source": [
        "#### 2. Cross- Validation & Hyperparameter Tuning"
      ],
      "metadata": {
        "id": "-jK_YjpMpsJ2"
      }
    },
    {
      "cell_type": "code",
      "source": [
        "# ML Model - 2 Implementation with hyperparameter optimization techniques (i.e., GridSearch CV, RandomSearch CV, Bayesian Optimization etc.)\n",
        "\n",
        "# Creating a Object for ElasticNet Regression\n",
        "elastic_poly = ElasticNet(tol=0.1)\n",
        "# Creating Dictionary of Hyperparameters\n",
        "parameters = {'alpha': [1e-13,1e-10,1e-8,1e-5,1e-4,1e-3,1e-2,1e-1,1,5,10,20,30,40,45,50,55,60,100],'l1_ratio':np.linspace(0.1,1,10)}\n",
        "# Implementing the the regression with GridSearch CV  \n",
        "elastic_regressor_poly = RandomizedSearchCV(elastic_poly, parameters, scoring='neg_mean_squared_error',cv=4)\n",
        "# Fitting the best model\n",
        "elastic_regressor_poly.fit(X_train_poly, y_train)\n",
        "\n",
        "# Predicting the Test Values\n",
        "y_pred_test = elastic_regressor_poly.predict(X_test_poly)\n",
        "\n",
        "# Visualizing evaluation Metric Score chart\n",
        "mse,rmse,r2,adjusted_r2 = eval_matrix_reg((y_test)**2,(y_pred_test)**2,X_test_poly.shape)\n",
        "\n",
        "# Appending the values in the DataFrame\n",
        "poly_eval_matrix.loc[len(poly_eval_matrix.index)] =  ['Polynomial','none',rmse,adjusted_r2]"
      ],
      "metadata": {
        "id": "Dn0EOfS6psJ2"
      },
      "execution_count": null,
      "outputs": []
    },
    {
      "cell_type": "code",
      "source": [
        "elastic_regressor.best_params_"
      ],
      "metadata": {
        "id": "QMAhg1-emhqQ"
      },
      "execution_count": null,
      "outputs": []
    },
    {
      "cell_type": "code",
      "source": [
        "# ML Model - 2 Implementation with hyperparameter optimization techniques (i.e., GridSearch CV, RandomSearch CV, Bayesian Optimization etc.)\n",
        "\n",
        "# Creating a Object for Lasso Regression\n",
        "lasso = Lasso(tol=0.1)\n",
        "# Creating Dictionary of Hyperparameters\n",
        "parameters = {'alpha': [0.02,0.03,0.04,0.009,0.008,0.007]}\n",
        "# Implementing the the regression with GridSearch CV  \n",
        "elastic_regressor = GridSearchCV(lasso, parameters, scoring='neg_mean_squared_error',cv=4)\n",
        "# Fitting the best model\n",
        "elastic_regressor.fit(X_train_poly, y_train)\n",
        "\n",
        "# Predicting the Test Values\n",
        "y_pred_test = elastic_regressor.predict(X_test_poly)\n",
        "\n",
        "# Visualizing evaluation Metric Score chart\n",
        "mse,rmse,r2,adjusted_r2 = eval_matrix_reg((y_test)**2,(y_pred_test)**2,X_test_poly.shape)\n",
        "\n",
        "# Appending the values in the DataFrame\n",
        "poly_eval_matrix.loc[len(poly_eval_matrix.index)] =  ['Polynomial','Elasticnet l1 and l2',rmse,adjusted_r2]"
      ],
      "metadata": {
        "id": "BECDnVUlktPI"
      },
      "execution_count": null,
      "outputs": []
    },
    {
      "cell_type": "code",
      "source": [
        "elastic_regressor.best_params_"
      ],
      "metadata": {
        "id": "pDzt3rSmoCiR"
      },
      "execution_count": null,
      "outputs": []
    },
    {
      "cell_type": "markdown",
      "source": [
        "##### Which hyperparameter optimization technique have you used and why?"
      ],
      "metadata": {
        "id": "HAih1iBOpsJ2"
      }
    },
    {
      "cell_type": "markdown",
      "source": [
        "Regularization can help polynomial regression to avoid overfitting and improve its performance on new data, as it introduce bias and reduce variance.\n",
        "\n",
        "Elastic net regression: It adds a penalty term that is a combination of the L1 and L2 norms of the model parameters. Regularization can give worse results than polynomial regression when the data is not overfitted by the polynomial model or when the regularization parameter is too large. but as we peromed a grid search CV we can say that as the data is not overfitted. So, Normal Polynomial Regression Gives better result.\n",
        "\n",
        "I also Tried Lasso Regularization with polynomil regression but results were the same.\n",
        "\n",
        "Also as the number of inpu variables increases for Polynomial Regression we have applied RandomisedSearchCV as it will help us reduce the computaional time drastically.\n"
      ],
      "metadata": {
        "id": "9kBgjYcdpsJ2"
      }
    },
    {
      "cell_type": "markdown",
      "source": [
        "##### Have you seen any improvement? Note down the improvement with updates Evaluation metric Score Chart."
      ],
      "metadata": {
        "id": "zVGeBEFhpsJ2"
      }
    },
    {
      "cell_type": "markdown",
      "source": [
        "As we can see that Normal Polynomial Regression without any penalty gives the best result. 83% accuracy. Also the average error in prediction has Decreased to 192 compared to OLS regression.\n",
        "\n",
        "This is the best result from the distance base family of Regressor. I will Now try Tree based Models for better accuracy and lower error in our prediction as the error is Still high(192)."
      ],
      "metadata": {
        "id": "74yRdG6UpsJ3"
      }
    },
    {
      "cell_type": "markdown",
      "source": [
        "#### 3. Explain each evaluation metric's indication towards business and the business impact pf the ML model used."
      ],
      "metadata": {
        "id": "bmKjuQ-FpsJ3"
      }
    },
    {
      "cell_type": "code",
      "source": [
        "poly_eval_matrix"
      ],
      "metadata": {
        "id": "0TTWinTa_XfE"
      },
      "execution_count": null,
      "outputs": []
    },
    {
      "cell_type": "code",
      "source": [
        "eval_matrix"
      ],
      "metadata": {
        "id": "it0U8jjs_qm2"
      },
      "execution_count": null,
      "outputs": []
    },
    {
      "cell_type": "markdown",
      "source": [
        "Comparing the Ouptput of Two  Regression Models in the above table we can see that. RMSE (Avg Error in prediction) has significantly Decreased. So, The predictions made by Polynomial Regression will be much more accurate compared to Linear regresssion. \n",
        "\n",
        "Also the Variance explained by Polynomial Model is HIgh i.e. 83% , 5% higher than Linear regression. "
      ],
      "metadata": {
        "id": "BDKtOrBQpsJ3"
      }
    },
    {
      "cell_type": "markdown",
      "source": [
        "### ML Model - 3 Decision Tree Regressor"
      ],
      "metadata": {
        "id": "Fze-IPXLpx6K"
      }
    },
    {
      "cell_type": "markdown",
      "source": [
        "I have Already saved a data frame with name df3 as tree based algorithms do not require one hot encoding. So, it would unnecessarily increase the variables."
      ],
      "metadata": {
        "id": "j6_oWNRVLE9T"
      }
    },
    {
      "cell_type": "code",
      "source": [
        "# creating A copy of Dataframe in variable x to carry out regression\n",
        "x = df3.copy()\n",
        "# Dropping the target column and date column\n",
        "x.drop(columns=['Rented Bike Count'],inplace=True)\n",
        "x.drop(columns=['Date'],inplace=True)\n",
        "\n",
        "# Declaring the Target Variable and reahaping it\n",
        "y = df3['Rented Bike Count']\n",
        "y = y.values.reshape((-1, 1))\n",
        "\n",
        "# Splitting the Data into training and test set.\n",
        "# we will be using the same ratio and random state as used for Linear and Polynomial Regression. So, to compare the results.\n",
        "X_train, X_test, y_train, y_test = train_test_split( x,y , test_size = 0.25, random_state = 42) "
      ],
      "metadata": {
        "id": "FFrSXAtrpx6M"
      },
      "execution_count": null,
      "outputs": []
    },
    {
      "cell_type": "code",
      "source": [
        "# ML Model - 3 Implementation\n",
        "dt_reg = DecisionTreeRegressor(criterion='squared_error')    #max_leaf_nodes=20,min_samples_split=10\n",
        "\n",
        "# Fit the Algorithm\n",
        "dt_reg.fit(X_train,y_train)\n",
        "\n",
        "# Predict on the model\n",
        "y_test_preds = dt_reg.predict(X_test)"
      ],
      "metadata": {
        "id": "QZB12PrM5PAh"
      },
      "execution_count": null,
      "outputs": []
    },
    {
      "cell_type": "markdown",
      "source": [
        "#### 1. Explain the ML Model used and it's performance using Evaluation metric Score Chart."
      ],
      "metadata": {
        "id": "7AN1z2sKpx6M"
      }
    },
    {
      "cell_type": "code",
      "source": [
        "# Visualizing evaluation Metric Score chart\n",
        "mse,rmse,r2,adjusted_r2 = eval_matrix_reg((y_test),(y_test_preds),X_test.shape)\n",
        "\n",
        "# Appending the evaluation Metric values in DataFrame\n",
        "eval_matrix.loc[len(eval_matrix.index)] =  ['Decision Tree',rmse,adjusted_r2]"
      ],
      "metadata": {
        "id": "xIY4lxxGpx6M"
      },
      "execution_count": null,
      "outputs": []
    },
    {
      "cell_type": "markdown",
      "source": [
        "RMSE: Average Error in prediction is higher than polynomial regression, but less than Linear regression\n",
        "\n",
        "Adjusted r2 : Equivalent to Polynomial Regression. and higher than that of linear regression. That means Decision Tree Performs better at capturing the Variance."
      ],
      "metadata": {
        "id": "-3RTdXaslAKN"
      }
    },
    {
      "cell_type": "code",
      "source": [
        "eval_matrix"
      ],
      "metadata": {
        "id": "eKJkxkcFFxhx"
      },
      "execution_count": null,
      "outputs": []
    },
    {
      "cell_type": "markdown",
      "source": [
        "#### 2. Cross- Validation & Hyperparameter Tuning"
      ],
      "metadata": {
        "id": "9PIHJqyupx6M"
      }
    },
    {
      "cell_type": "code",
      "source": [
        "# ML Model - 3 Implementation with hyperparameter optimization techniques (i.e., GridSearch CV, RandomSearch CV, Bayesian Optimization etc.)\n",
        "\n",
        "# Creating a Object for DecisionTreeRegressor\n",
        "dt_gs_reg = DecisionTreeRegressor()\n",
        "\n",
        "# Creating Dictionary of Hyperparameters\n",
        "parameters = {'criterion': ['squared_error','absolute_error'],'max_depth': [4,5,6,7,8,9,10,11,12,15,20,30,40,50,70,90,120,150]}   #70\n",
        "\n",
        "# Implementing the the regression with Randomized CV  \n",
        "GS_CV_reg = RandomizedSearchCV(dt_gs_reg,parameters,cv=5)\n",
        "\n",
        "# Fit the Algorithm\n",
        "GS_CV_reg.fit(X_train,y_train)\n",
        "\n",
        "# Predict on the model\n",
        "y_pred_test = GS_CV_reg.predict(X_test)\n",
        "\n",
        "# Visualizing evaluation Metric Score chart\n",
        "eval_matrix_reg((y_test),(y_pred_test),X_test.shape)"
      ],
      "metadata": {
        "id": "eSVXuaSKpx6M"
      },
      "execution_count": null,
      "outputs": []
    },
    {
      "cell_type": "code",
      "source": [
        "GS_CV_reg.best_params_"
      ],
      "metadata": {
        "id": "x-u4cUcT4zUm"
      },
      "execution_count": null,
      "outputs": []
    },
    {
      "cell_type": "markdown",
      "source": [
        "##### Which hyperparameter optimization technique have you used and why?"
      ],
      "metadata": {
        "id": "_-qAgymDpx6N"
      }
    },
    {
      "cell_type": "markdown",
      "source": [
        "I have used max_depth as the parameter for Hyper parameter tuning. As the Decision Tree Regressor is a Greedy algorithm, I have used Randomized Search CV.\n",
        "\n",
        "As, We can see that Decision Tree with max-depth=12 average prediction error decreases by 4 to 233 and adjusted r2: increases by 0.01 to 0.87"
      ],
      "metadata": {
        "id": "lQMffxkwpx6N"
      }
    },
    {
      "cell_type": "markdown",
      "source": [
        "##### Have you seen any improvement? Note down the improvement with updates Evaluation metric Score Chart."
      ],
      "metadata": {
        "id": "Z-hykwinpx6N"
      }
    },
    {
      "cell_type": "markdown",
      "source": [
        "As, We can see that Decision Tree with max-depth=12 average prediction error increases to 230 and adjusted r2: increases by 0.04 to 0.87.\n",
        "\n",
        "Comparing to Polynomial Regression the error is Higher in prediction but on the other hand Decision tree can explain the variance better compared to Polynomial Regression."
      ],
      "metadata": {
        "id": "MzVzZC6opx6N"
      }
    },
    {
      "cell_type": "code",
      "source": [
        "eval_matrix"
      ],
      "metadata": {
        "id": "4iANhA5awke5"
      },
      "execution_count": null,
      "outputs": []
    },
    {
      "cell_type": "markdown",
      "source": [
        "### ML Model - 4 Random Forest Regressor"
      ],
      "metadata": {
        "id": "EUFZojc0vWq8"
      }
    },
    {
      "cell_type": "code",
      "source": [
        "# ML Model - 4 Implementation\n",
        "rf_reg = RandomForestRegressor(criterion='squared_error',random_state=1,n_estimators=100)\n",
        "\n",
        "# Fit the Algorithm\n",
        "rf_tree_reg = rf_reg.fit(X_train,np.ravel(y_train))\n",
        "\n",
        "# Predict on the model\n",
        "y_pred_test = rf_tree_reg.predict(X_test)"
      ],
      "metadata": {
        "id": "nvMFIBcqvWq9"
      },
      "execution_count": null,
      "outputs": []
    },
    {
      "cell_type": "markdown",
      "source": [
        "#### 1. Explain the ML Model used and it's performance using Evaluation metric Score Chart."
      ],
      "metadata": {
        "id": "2saz39ROvWq9"
      }
    },
    {
      "cell_type": "code",
      "source": [
        "# Visualizing evaluation Metric Score chart\n",
        "mse,rmse,r2,adjusted_r2 = eval_matrix_reg((y_test),(y_pred_test),X_test.shape)\n",
        "\n",
        "# Appending the evaluation Metric values in DataFrame\n",
        "eval_matrix.loc[len(eval_matrix.index)] =  ['Random Forest',rmse,adjusted_r2]"
      ],
      "metadata": {
        "id": "vVLbFR_wvWq9"
      },
      "execution_count": null,
      "outputs": []
    },
    {
      "cell_type": "markdown",
      "source": [
        "RMSE : average Eror in prediction is the least till now for Random forest. it is 166.\n",
        "\n",
        "Adjusted r2 : Variance captured by Random Forest regressor is also highest 93%"
      ],
      "metadata": {
        "id": "2D0HibYxneLA"
      }
    },
    {
      "cell_type": "code",
      "source": [
        "eval_matrix"
      ],
      "metadata": {
        "id": "_aBCuNiGGtn6"
      },
      "execution_count": null,
      "outputs": []
    },
    {
      "cell_type": "markdown",
      "source": [
        "#### 2. Cross- Validation & Hyperparameter Tuning"
      ],
      "metadata": {
        "id": "C718M0CqvWq-"
      }
    },
    {
      "cell_type": "code",
      "source": [
        "# ML Model - 3 Implementation with hyperparameter optimization techniques (i.e., GridSearch CV, RandomSearch CV, Bayesian Optimization etc.)\n",
        "\n",
        "# Fit the Algorithm\n",
        "\n",
        "# Predict on the model\n",
        "\n",
        "\n",
        "# Number of trees in random forest\n",
        "n_estimators = [int(x) for x in np.linspace(start = 80, stop = 150, num = 4)]\n",
        "# Maximum number of levels in tree\n",
        "max_depth = [10,12,15,18,20]\n",
        "# Minimum number of samples required to split a node\n",
        "min_samples_split = [2, 5]\n",
        "# Minimum number of samples required at each leaf node\n",
        "min_samples_leaf = [1, 2]\n",
        "\n",
        "# Creating Dictionary of Hyperparameters\n",
        "param_grid = {'n_estimators': n_estimators,\n",
        "               'max_depth': max_depth,\n",
        "              #  'min_samples_split': min_samples_split,}\n",
        "              #  'min_samples_leaf': min_samples_leaf,\n",
        "              #  'bootstrap': bootstrap}\n",
        "              'ccp_alpha' : [0,0.1,0.2]}\n",
        "\n",
        "# Creating a Object for RandomForestRegressor\n",
        "dt_RF_reg = RandomForestRegressor(criterion='squared_error',random_state=0)\n",
        "\n",
        "# Implementing the the regression with RandomizedSearchCV CV  \n",
        "rf_reg = RandomizedSearchCV(dt_RF_reg,param_grid,scoring='neg_mean_squared_error',cv=3,verbose=1, n_jobs = 4)\n",
        "\n",
        "# Fitting the best model\n",
        "rf_reg.fit(X_train,np.ravel(y_train))\n",
        "\n",
        "# Predicting the Test Values\n",
        "y_pred_test = rf_reg.predict(X_test)\n",
        "\n",
        "# Visualizing evaluation Metric Score chart\n",
        "eval_matrix_reg((y_test),(y_pred_test),X_test.shape)"
      ],
      "metadata": {
        "id": "t6LmHwDfvWq-"
      },
      "execution_count": null,
      "outputs": []
    },
    {
      "cell_type": "code",
      "source": [
        "rf_reg.best_params_"
      ],
      "metadata": {
        "id": "L76_hsHC2cxH"
      },
      "execution_count": null,
      "outputs": []
    },
    {
      "cell_type": "markdown",
      "source": [
        "##### Which hyperparameter optimization technique have you used and why?"
      ],
      "metadata": {
        "id": "eFKD0_dpvWq-"
      }
    },
    {
      "cell_type": "markdown",
      "source": [
        "Same like Decision Tree Regressor , Random Forest Regressor are also greedy algorithm. By Pruning and Hyper Parameter tuning I have found the best paramaters."
      ],
      "metadata": {
        "id": "Ud_aX8CgvWrB"
      }
    },
    {
      "cell_type": "markdown",
      "source": [
        "##### Have you seen any improvement? Note down the improvement with updates Evaluation metric Score Chart."
      ],
      "metadata": {
        "id": "bK9myfpwvWrB"
      }
    },
    {
      "cell_type": "code",
      "source": [
        "eval_matrix"
      ],
      "metadata": {
        "id": "PNauJyu26CNt"
      },
      "execution_count": null,
      "outputs": []
    },
    {
      "cell_type": "markdown",
      "source": [
        "We can easily observe the improvement by looking at the table.\n",
        "\n",
        "Error in the predictions have decreased drastically. Bedt result amoungst all the models.\n",
        "\n",
        "Also, the variance that can be explained by the model is highest 93%.\n",
        "\n",
        "So, Considering all the models Random Forest has best result for all the metrices."
      ],
      "metadata": {
        "id": "_b6UP1G9vWrB"
      }
    },
    {
      "cell_type": "markdown",
      "source": [
        "### ML Model - 5 Gradient Boost Regression"
      ],
      "metadata": {
        "id": "hE6VXY-A5HOU"
      }
    },
    {
      "cell_type": "code",
      "source": [
        "# ML Model - 5 Implementation\n",
        "gb_reg = GradientBoostingRegressor()\n",
        "\n",
        "# Fit the Algorithm\n",
        "gb_tree_reg = gb_reg.fit(X_train,np.ravel(y_train))\n",
        "\n",
        "# Predict on the model\n",
        "y_pred_test = gb_tree_reg.predict(X_test)"
      ],
      "metadata": {
        "id": "OG1Inmg05HOU"
      },
      "execution_count": null,
      "outputs": []
    },
    {
      "cell_type": "markdown",
      "source": [
        "#### 1. Explain the ML Model used and it's performance using Evaluation metric Score Chart."
      ],
      "metadata": {
        "id": "5sUBrMf_5HOU"
      }
    },
    {
      "cell_type": "code",
      "source": [
        "# Visualizing evaluation Metric Score chart\n",
        "eval_matrix_reg((y_test),(y_pred_test),X_test.shape)"
      ],
      "metadata": {
        "id": "rvmMrlSf5HOU"
      },
      "execution_count": null,
      "outputs": []
    },
    {
      "cell_type": "markdown",
      "source": [
        "#### 2. Cross- Validation & Hyperparameter Tuning"
      ],
      "metadata": {
        "id": "L9RCUEcZ5HOV"
      }
    },
    {
      "cell_type": "code",
      "source": [
        "# ML Model - 3 Implementation with hyperparameter optimization techniques (i.e., GridSearch CV, RandomSearch CV, Bayesian Optimization etc.)\n",
        "\n",
        "# Number of trees in random forest\n",
        "n_estimators = [int(x) for x in np.linspace(start = 80, stop = 150, num = 5)]\n",
        "# Maximum number of levels in tree\n",
        "max_depth = [2,4,6,8]\n",
        "# Minimum number of samples required to split a node\n",
        "min_samples_split = [2, 5]\n",
        "# Minimum number of samples required at each leaf node\n",
        "min_samples_leaf = [1, 2]\n",
        "# Method of selecting samples for training each tree\n",
        "bootstrap = [True, False]\n",
        "\n",
        "# Creating Dictionary of Hyperparameters\n",
        "param_grid = {'n_estimators': n_estimators,\n",
        "               'max_depth': max_depth,\n",
        "               'min_samples_split': min_samples_split,\n",
        "              'criterion':['squared_error','friedman_mse'],\n",
        "              'learning_rate':[0.1,0.2]}\n",
        "              #  'min_samples_leaf': min_samples_leaf,\n",
        "              #  'bootstrap': bootstrap}\n",
        "              # 'ccp_alpha' : [0,0.1,0.2]}\n",
        "\n",
        "# Creating a Object for GradientBoostingRegressor\n",
        "dt_gb_reg = GradientBoostingRegressor()\n",
        "\n",
        "# Implementing the the regression with RandomizedSearchCV CV  \n",
        "gb_reg = RandomizedSearchCV(dt_gb_reg,param_grid,scoring='neg_mean_squared_error',cv=3,verbose=1, n_jobs = 4)\n",
        "\n",
        "# Fitting the best model\n",
        "gb_reg.fit(X_train,np.ravel(y_train))\n",
        "\n",
        "# Predicting the Test Values\n",
        "y_pred_test = gb_reg.predict(X_test)\n",
        "\n",
        "# Visualizing evaluation Metric Score chart\n",
        "mse,rmse,r2,adjusted_r2 = eval_matrix_reg((y_test),(y_pred_test),X_test.shape)\n",
        "\n",
        "# Appending the values in the DataFrame\n",
        "eval_matrix.loc[len(eval_matrix.index)] =  ['Gradient boost',rmse,adjusted_r2]"
      ],
      "metadata": {
        "id": "UQ1e_rsy5HOV"
      },
      "execution_count": null,
      "outputs": []
    },
    {
      "cell_type": "code",
      "source": [
        "gb_reg.best_params_"
      ],
      "metadata": {
        "id": "uVde4iJ75HOV"
      },
      "execution_count": null,
      "outputs": []
    },
    {
      "cell_type": "markdown",
      "source": [
        "##### Which hyperparameter optimization technique have you used and why?"
      ],
      "metadata": {
        "id": "tEX4zAjq5HOV"
      }
    },
    {
      "cell_type": "markdown",
      "source": [
        "Initially we can see that without hyperparameter tuning the results had high error and also low adjusted r2 value. after Hyper Parameter tuning the error in prediction is reduced to 154 and also the varaince explainability is highest 94%.\n",
        "\n",
        "As there are many parameters to tune. I have used Random search for different parameters to find the best fit."
      ],
      "metadata": {
        "id": "XDcvWlVE5HOV"
      }
    },
    {
      "cell_type": "markdown",
      "source": [
        "##### Have you seen any improvement? Note down the improvement with updates Evaluation metric Score Chart."
      ],
      "metadata": {
        "id": "2__iwVjt5HOV"
      }
    },
    {
      "cell_type": "code",
      "source": [
        "eval_matrix"
      ],
      "metadata": {
        "id": "2CIGXU29H5gV"
      },
      "execution_count": null,
      "outputs": []
    },
    {
      "cell_type": "markdown",
      "source": [
        "From Table we can observe that there is slight improvement in our predictions where the avg error in our prediction has decreased. Which can be very significant for the business. Also there is 1% increase in explanation of variability of data which has increased to 94% which can be very help in prediction."
      ],
      "metadata": {
        "id": "KWoM84ghELbh"
      }
    },
    {
      "cell_type": "markdown",
      "source": [
        "### ML Model - 6 Xtreme Gradient Boost Regression"
      ],
      "metadata": {
        "id": "azRlBqxB7iHz"
      }
    },
    {
      "cell_type": "code",
      "source": [
        "# ML Model - 6 Implementation\n",
        "XXGB_reg = xgb.XGBRegressor()\n",
        "\n",
        "# Fit the Algorithm\n",
        "XXGB_reg.fit(X_train,y_train)\n",
        "\n",
        "# Predict on the model\n",
        "y_pred_test = XXGB_reg.predict(X_test)"
      ],
      "metadata": {
        "id": "0Ck5j3mv7iHz"
      },
      "execution_count": null,
      "outputs": []
    },
    {
      "cell_type": "markdown",
      "source": [
        "#### 1. Explain the ML Model used and it's performance using Evaluation metric Score Chart."
      ],
      "metadata": {
        "id": "1fl8tYgY7iHz"
      }
    },
    {
      "cell_type": "code",
      "source": [
        "# Visualizing evaluation Metric Score chart\n",
        "mse,rmse,r2,adjusted_r2 = eval_matrix_reg((y_test),(y_pred_test),X_test.shape)\n",
        "\n",
        "# Appending the evaluation Metric values in DataFrame\n",
        "eval_matrix.loc[len(eval_matrix.index)] =  ['Xtreme gradient Boost',rmse,adjusted_r2]"
      ],
      "metadata": {
        "id": "DwvYR6Ue7iHz"
      },
      "execution_count": null,
      "outputs": []
    },
    {
      "cell_type": "markdown",
      "source": [
        "#### 2. Cross- Validation & Hyperparameter Tuning"
      ],
      "metadata": {
        "id": "YE8yZkdb7iH0"
      }
    },
    {
      "cell_type": "code",
      "source": [
        "# ML Model - 3 Implementation with hyperparameter optimization techniques (i.e., GridSearch CV, RandomSearch CV, Bayesian Optimization etc.)\n",
        "\n",
        "# Number of trees in random forest\n",
        "n_estimators = [int(x) for x in np.linspace(start = 80, stop = 150, num = 5)]\n",
        "# Maximum number of levels in tree\n",
        "max_depth = [2,4,6,8]\n",
        "# Minimum number of samples required to split a node\n",
        "min_samples_split = [2, 5]\n",
        "# Minimum number of samples required at each leaf node\n",
        "min_samples_leaf = [1, 2]\n",
        "# Method of selecting samples for training each tree\n",
        "bootstrap = [True, False]\n",
        "\n",
        "# Creating Dictionary of Hyperparameters\n",
        "param_grid = {'n_estimators': n_estimators,\n",
        "               'max_depth': max_depth,\n",
        "               'min_samples_split': min_samples_split,\n",
        "              'reg':['squared_error','absolute_error'],\n",
        "              'learning_rate':[0.1,0.05]}\n",
        "              #  'min_samples_leaf': min_samples_leaf,\n",
        "              #  'bootstrap': bootstrap}\n",
        "              # 'ccp_alpha' : [0,0.1,0.2]}\n",
        "\n",
        "# Creating a Object for XGBRegressor\n",
        "XXGB_reg_param = xgb.XGBRegressor()\n",
        "\n",
        "# Implementing the the regression with RandomizedSearchCV CV  \n",
        "xgb_reg = RandomizedSearchCV(XXGB_reg_param,param_grid,scoring='neg_mean_squared_error',cv=3,verbose=1, n_jobs = 4)\n",
        "\n",
        "# Fitting the best model\n",
        "xgb_reg.fit(X_train,np.ravel(y_train))\n",
        "\n",
        "# Predicting the Test Values\n",
        "y_pred_test = xgb_reg.predict(X_test)\n",
        "\n",
        "# Visualizing evaluation Metric Score chart\n",
        "eval_matrix_reg((y_test),(y_pred_test),X_test.shape)"
      ],
      "metadata": {
        "id": "zvya7A9m7iH0"
      },
      "execution_count": null,
      "outputs": []
    },
    {
      "cell_type": "code",
      "source": [
        "xgb_reg.best_params_"
      ],
      "metadata": {
        "id": "-8pWQOPL7iH0"
      },
      "execution_count": null,
      "outputs": []
    },
    {
      "cell_type": "markdown",
      "source": [
        "##### Which hyperparameter optimization technique have you used and why?"
      ],
      "metadata": {
        "id": "_uyTkvm-7iH0"
      }
    },
    {
      "cell_type": "markdown",
      "source": [
        "Initially we can see that without hyperparameter tuning the results had high error and also low adjusted r2 value. after Hyper Parameter tuning the error in prediction is reduced to 151 and also the varaince explainability is highest 94%.\n",
        "\n",
        "As there are many parameters to tune. I have used Random search for different parameters to find the best fit."
      ],
      "metadata": {
        "id": "w5n-KRT_7iH0"
      }
    },
    {
      "cell_type": "markdown",
      "source": [
        "##### Have you seen any improvement? Note down the improvement with updates Evaluation metric Score Chart."
      ],
      "metadata": {
        "id": "w-pAe_Jt7iH0"
      }
    },
    {
      "cell_type": "code",
      "source": [
        "eval_matrix"
      ],
      "metadata": {
        "id": "rfSZsFGBIN8I"
      },
      "execution_count": null,
      "outputs": []
    },
    {
      "cell_type": "markdown",
      "source": [
        "Even After Hyper parameter tuning the result of both the matrices is lower than Gradient Boost Model. So, we will try one more model."
      ],
      "metadata": {
        "id": "CK66DHsr7iH0"
      }
    },
    {
      "cell_type": "markdown",
      "source": [
        "### ML Model - 7 Light Gradient Boost Regression"
      ],
      "metadata": {
        "id": "KXY0KO4880Qy"
      }
    },
    {
      "cell_type": "code",
      "source": [
        "# ML Model - 7 Implementation\n",
        "LGB_reg = LGBMRegressor()\n",
        "\n",
        "# Fit the Algorithm\n",
        "lgb_tree_reg = LGB_reg.fit(X_train,np.ravel(y_train))\n",
        "\n",
        "# Predict on the model\n",
        "y_pred_test = lgb_tree_reg.predict(X_test)"
      ],
      "metadata": {
        "id": "IJzRcizN80Qz"
      },
      "execution_count": null,
      "outputs": []
    },
    {
      "cell_type": "markdown",
      "source": [
        "#### 1. Explain the ML Model used and it's performance using Evaluation metric Score Chart."
      ],
      "metadata": {
        "id": "m3A0lXu380Qz"
      }
    },
    {
      "cell_type": "code",
      "source": [
        "# Visualizing evaluation Metric Score chart\n",
        "mse,rmse,r2,adjusted_r2 = eval_matrix_reg((y_test),(y_pred_test),X_test.shape)\n",
        "\n",
        "# Appending the evaluation Metric values in DataFrame\n",
        "eval_matrix.loc[len(eval_matrix.index)] =  ['Light Gradient Boost',rmse,adjusted_r2]"
      ],
      "metadata": {
        "id": "wj8BLecQ80Qz"
      },
      "execution_count": null,
      "outputs": []
    },
    {
      "cell_type": "markdown",
      "source": [
        "#### 2. Cross- Validation & Hyperparameter Tuning"
      ],
      "metadata": {
        "id": "OGRddthI80Qz"
      }
    },
    {
      "cell_type": "code",
      "source": [
        "# ML Model - 3 Implementation with hyperparameter optimization techniques (i.e., GridSearch CV, RandomSearch CV, Bayesian Optimization etc.)\n",
        "\n",
        "# Number of trees in random forest\n",
        "n_estimators = [int(x) for x in np.linspace(start = 80, stop = 150, num = 5)]\n",
        "# Maximum number of levels in tree\n",
        "max_depth = [4,6,8,10]\n",
        "# Minimum number of samples required to split a node\n",
        "min_samples_split = [2, 5]\n",
        "# Minimum number of samples required at each leaf node\n",
        "min_samples_leaf = [1, 2]\n",
        "# Method of selecting samples for training each tree\n",
        "bootstrap = [True, False]\n",
        "\n",
        "\n",
        "# Creating Dictionary of Hyperparameters\n",
        "param_grid = {'n_estimators': n_estimators,\n",
        "               'max_depth': max_depth,\n",
        "              'learning_rate':[0.1,0.05]}\n",
        "              #  'min_samples_leaf': min_samples_leaf,\n",
        "              #  'bootstrap': bootstrap}\n",
        "              # 'ccp_alpha' : [0,0.1,0.2]}\n",
        "\n",
        "# Creating a Object for LGBMRegressor\n",
        "LGB_reg_param = LGBMRegressor()\n",
        "\n",
        "# Implementing the the regression with RandomizedSearchCV CV  \n",
        "lgb_reg = RandomizedSearchCV(LGB_reg_param,param_grid,scoring='neg_mean_squared_error',cv=3,verbose=1, n_jobs = 4)\n",
        "\n",
        "# Fitting the best model\n",
        "lgb_reg.fit(X_train,np.ravel(y_train))\n",
        "\n",
        "# Predicting the Test Values\n",
        "y_pred_test = lgb_reg.predict(X_test)\n",
        "\n",
        "# Visualizing evaluation Metric Score chart\n",
        "eval_matrix_reg((y_test),(y_pred_test),X_test.shape)"
      ],
      "metadata": {
        "id": "0LoakYeL80Qz"
      },
      "execution_count": null,
      "outputs": []
    },
    {
      "cell_type": "code",
      "source": [
        "lgb_reg.best_params_"
      ],
      "metadata": {
        "id": "ThM2hpOB80Qz"
      },
      "execution_count": null,
      "outputs": []
    },
    {
      "cell_type": "markdown",
      "source": [
        "##### Which hyperparameter optimization technique have you used and why?"
      ],
      "metadata": {
        "id": "AxEr3n5H80Qz"
      }
    },
    {
      "cell_type": "markdown",
      "source": [
        "After Hyper Parameter tuning the error in prediction is reduced to 151 and also the varaince explainability is highest 94%.\n",
        "\n",
        "As there are many parameters to tune. I have used Random search for different parameters to find the best fit."
      ],
      "metadata": {
        "id": "YnLrUnQ980Qz"
      }
    },
    {
      "cell_type": "markdown",
      "source": [
        "##### Have you seen any improvement? Note down the improvement with updates Evaluation metric Score Chart."
      ],
      "metadata": {
        "id": "gL8AxYG980Qz"
      }
    },
    {
      "cell_type": "code",
      "source": [
        "eval_matrix"
      ],
      "metadata": {
        "id": "T2rBQ0B6I8_n"
      },
      "execution_count": null,
      "outputs": []
    },
    {
      "cell_type": "markdown",
      "source": [
        "Light Gradient boost with hyper parameter tuning gives lower error in prediction compared to Xtreme Gradient boost is slighty higher than Gradient Boost. and Explainability of variance is highest. "
      ],
      "metadata": {
        "id": "RQIqEha480Qz"
      }
    },
    {
      "cell_type": "markdown",
      "source": [
        "## **8** **Model Selection and Understanding**"
      ],
      "metadata": {
        "id": "V9PFM_2puiYl"
      }
    },
    {
      "cell_type": "markdown",
      "source": [
        "#### 1. Which Evaluation metrics did you consider for a positive business impact and why?"
      ],
      "metadata": {
        "id": "h_CCil-SKHpo"
      }
    },
    {
      "cell_type": "markdown",
      "source": [
        "Different metrics may be more suitable for different purposes and audiences. For example, some metrics may focus on the accuracy of predictions, while others may focus on the variability explained by the model. The Metrics used i  the Project are.\n",
        "\n",
        "*   **RMSE Root Mean Squared Error :** It measures average error there is in the predictions. 300 is the average prediction error for a given Hour.\n",
        "\n",
        "* **Adjusted r squared :** it measures the proportion of the variance in the response variable that is explained by the predictor variables, adjusted for the number of predictors. \n",
        "\n",
        "  It is a modified version of r2 that takes into account the number of predictors and the sample size. It penalizes the model for adding irrelevant predictors.\n"
      ],
      "metadata": {
        "id": "jHVz9hHDKFms"
      }
    },
    {
      "cell_type": "markdown",
      "source": [
        "**Best Results :** Gradient Boost and Light gradent Boost have Lowest values for RMSE i.e. 155 and Highest value for Adjusted r squared, i.e. 0.94 which means 94% variability can be explained using the model. "
      ],
      "metadata": {
        "id": "DrPDnZ7Eu9Fg"
      }
    },
    {
      "cell_type": "markdown",
      "source": [
        "#### 2. Which ML model did you choose from the above created models as your final prediction model and why?"
      ],
      "metadata": {
        "id": "cBFFvTBNJzUa"
      }
    },
    {
      "cell_type": "code",
      "source": [
        "eval_matrix"
      ],
      "metadata": {
        "id": "kIVMIMtvy_FE"
      },
      "execution_count": null,
      "outputs": []
    },
    {
      "cell_type": "markdown",
      "source": [
        "**Results :** Gradient Boost and Light gradent Boost have Lowest values for RMSE i.e. 155 and Highest value for Adjusted r squared, i.e. 0.94 which means 94% variability can be explained using the model. "
      ],
      "metadata": {
        "id": "6ksF5Q1LKTVm"
      }
    },
    {
      "cell_type": "code",
      "source": [
        "\n",
        "ax = plt.figure(figsize=(15,5))\n",
        "\n",
        "# setting the axis label for chart\n",
        "ax= sns.lineplot(data=eval_matrix, x=\"Reg_name\", y=\"RMSE(Avg_error_in_prediction)\")\n",
        "\n",
        "ax.set(title=f'Bike Rent hourly Count Distribution')\n",
        "\n",
        "# adding visualizations to chart\n",
        "plt.minorticks_on()\n",
        "plt.grid(which='both',alpha=0.3,linestyle='--')\n",
        "plt.show()"
      ],
      "metadata": {
        "id": "XBS9VcMpilqI"
      },
      "execution_count": null,
      "outputs": []
    },
    {
      "cell_type": "code",
      "source": [
        "ax = plt.figure(figsize=(15,5))\n",
        "\n",
        "# setting the axis label for chart\n",
        "ax= sns.barplot(data=eval_matrix, x=\"Reg_name\", y=\"Adjusted_r2\")\n",
        "\n",
        "ax.set(title=f'Bike Rent hourly Count Distribution')\n",
        "\n",
        "# adding visualizations to chart\n",
        "plt.minorticks_on()\n",
        "plt.grid(which='both',alpha=0.3,linestyle='--')\n",
        "plt.show()"
      ],
      "metadata": {
        "id": "VPRxoV3ujqKT"
      },
      "execution_count": null,
      "outputs": []
    },
    {
      "cell_type": "markdown",
      "source": [
        "#### 3. Explain the model which you have used and the feature importance using any model explainability tool?"
      ],
      "metadata": {
        "id": "HvGl1hHyA_VK"
      }
    },
    {
      "cell_type": "markdown",
      "source": [
        "SHAP (SHapley Additive exPlanations) leverages the idea of Shapley values for model feature influence scoring. The technical definition of a Shapley value is the “average marginal contribution of a feature value over all possible coalitions”.\n",
        "\n",
        "SHAP feature dependence might be the simplest global interpretation plot. It involves picking a feature and for each data instance, plotting a point with the feature value on the x-axis and the corresponding Shapley value on the y-axis2.\n",
        "\n",
        "The main advantage of SHAP over partial dependence plots and LIME is that it guarantees that the prediction is fairly distributed across different features. SHAP can compute the global interpretation by computing the Shapley values for a whole dataset and combine them."
      ],
      "metadata": {
        "id": "VEO_NY5dH_z1"
      }
    },
    {
      "cell_type": "code",
      "source": [
        "shap.initjs()\n",
        "\n",
        "# Explainer Object for light Gradient Boost Regressor\n",
        "explainer = shap.Explainer(lgb_reg.predict, X_train)\n",
        "# Genrating the shapley values for the model.\n",
        "shap_values = explainer(X_test)"
      ],
      "metadata": {
        "id": "UDMZ2KW3zlIT"
      },
      "execution_count": null,
      "outputs": []
    },
    {
      "cell_type": "code",
      "source": [
        "# Creating a Function for displaying Waterfall and condensed plot for a given data:\n",
        "def sample_feature_importance(idx, type='condensed'):\n",
        "    if type == 'condensed':\n",
        "        return shap.plots.force(shap_values[idx], matplotlib=True)\n",
        "        \n",
        "    elif type == 'waterfall':\n",
        "        return shap.plots.waterfall(shap_values[idx])\n",
        "    \n",
        "    else:\n",
        "        return \"Return valid visual ('condensed', 'waterfall')\""
      ],
      "metadata": {
        "id": "1_PQwWdsZPJk"
      },
      "execution_count": null,
      "outputs": []
    },
    {
      "cell_type": "code",
      "source": [
        "# Plotting the feature importance plot\n",
        "# shap_values = explainer(X_train)\n",
        "shap.plots.bar(shap_values)"
      ],
      "metadata": {
        "id": "0ltgaMv-292f"
      },
      "execution_count": null,
      "outputs": []
    },
    {
      "cell_type": "markdown",
      "source": [
        "* The idea behind SHAP feature importance is simple: Features with large absolute Shapley values are important. \n",
        "\n",
        "* Since we want the global importance, we average the absolute Shapley values per feature across the data\n",
        "\n",
        "* The feature importance plot is useful, but contains no information beyond the importances. For a more informative plot, we will next look at the summary plot."
      ],
      "metadata": {
        "id": "dYAq0h-vRYZF"
      }
    },
    {
      "cell_type": "markdown",
      "source": [
        "The summary plot combines feature importance with feature effects. Each point on the summary plot is a Shapley value for a feature and an instance\n",
        "\n",
        "we get a sense of the distribution of the Shapley values per feature. The features are ordered according to their importance.\n",
        "\n"
      ],
      "metadata": {
        "id": "DZSJ9BM-SGTp"
      }
    },
    {
      "cell_type": "code",
      "source": [
        "# Plotting the Summary Plot for Shapley values\n",
        "shap.summary_plot(shap_values, X_test)"
      ],
      "metadata": {
        "id": "1kf8myzq0SeK"
      },
      "execution_count": null,
      "outputs": []
    },
    {
      "cell_type": "code",
      "source": [
        "shap.plots.beeswarm(shap_values)"
      ],
      "metadata": {
        "id": "1NdCwX3baryh"
      },
      "execution_count": null,
      "outputs": []
    },
    {
      "cell_type": "markdown",
      "source": [
        "**Explaining A Single Output**\n",
        "\n",
        "The baseline for Shapley values is the average of all predictions. In the plot, each Shapley value is an arrow that pushes to increase (positive value) or decrease (negative value) the prediction. These forces balance each other out at the actual prediction of the data instance."
      ],
      "metadata": {
        "id": "dD-4tuMETXhH"
      }
    },
    {
      "cell_type": "code",
      "source": [
        "# plotting the condensed plot for and sample\n",
        "sample_feature_importance(1,'condensed')"
      ],
      "metadata": {
        "id": "WlojWI3oPn75"
      },
      "execution_count": null,
      "outputs": []
    },
    {
      "cell_type": "code",
      "source": [
        "# plotting the Waterfall plot for and sample\n",
        "sample_feature_importance(1,'waterfall')"
      ],
      "metadata": {
        "id": "nbm9CILR0P0_"
      },
      "execution_count": null,
      "outputs": []
    },
    {
      "cell_type": "markdown",
      "source": [
        "## ***9.*** ***Future Work (Optional)***"
      ],
      "metadata": {
        "id": "EyNgTHvd2WFk"
      }
    },
    {
      "cell_type": "markdown",
      "source": [
        "### 1. Save the best performing ml model in a pickle file or joblib file format for deployment process.\n"
      ],
      "metadata": {
        "id": "KH5McJBi2d8v"
      }
    },
    {
      "cell_type": "code",
      "source": [
        "from sklearn.compose import ColumnTransformer\n",
        "from sklearn.preprocessing import OneHotEncoder,LabelEncoder,FunctionTransformer,OrdinalEncoder\n",
        "\n",
        "# Function to extract month from date\n",
        "def extract_month(df):\n",
        "    return pd.DatetimeIndex(df['Date']).month.values.reshape(-1, 1)\n",
        "\n",
        "# function To extract week_day from Date\n",
        "def extract_week_day(df):\n",
        "    # return pd.DatetimeIndex(df['Date']).day_of_week.values.reshape(-1, 1)\n",
        "    weekday_list =  pd.DatetimeIndex(df['Date']).day_of_week.values.reshape(-1, 1)\n",
        "    return np.array([1 if any([x==5,x==6]) else 0 for x in weekday_list]).reshape(-1, 1)\n",
        "\n",
        "# .apply(lambda x : 0 if any([x==5,x==6]) else 1)\n",
        "# Transformer 1 : creating month and weekday column from Date     \n",
        "trf1 =  ColumnTransformer([('month', FunctionTransformer(extract_month, validate=False), [0]),\n",
        "                           ('week_day', FunctionTransformer(extract_week_day, validate=False), [0])\n",
        "                           ],remainder='passthrough')\n",
        "\n",
        "# Transformer 2 : Ordinal Encoding of Seasons Column\n",
        "trf2 = ColumnTransformer([('oe_season',OrdinalEncoder(),[11])],remainder='passthrough')\n",
        "\n",
        "# Transformer 3 : One Hot Encoding of Holiday and Functional day Columns\n",
        "trf3 = ColumnTransformer([('ohe_holiday_functioing',OneHotEncoder(drop='first'),[12,13])],remainder='passthrough')\n",
        "\n",
        "# Transformer 4 : Applying ML model with best parameters\n",
        "trf4 = GradientBoostingRegressor(n_estimators=132, min_samples_split= 2, max_depth= 6, learning_rate= 0.1, criterion= 'squared_error')"
      ],
      "metadata": {
        "id": "TXxt3NCIvVyW"
      },
      "execution_count": null,
      "outputs": []
    },
    {
      "cell_type": "code",
      "source": [
        "from sklearn.pipeline import Pipeline\n",
        "\n",
        "# Creating a pipeline function\n",
        "pipe = Pipeline([\n",
        "    ('trf1',trf1),\n",
        "    ('trf2',trf2),\n",
        "    ('trf3',trf3),\n",
        "    ('trf4',trf4)\n",
        "    ])"
      ],
      "metadata": {
        "id": "5TZsedRx4tTg"
      },
      "execution_count": null,
      "outputs": []
    },
    {
      "cell_type": "code",
      "source": [
        "# Splitting the data with same ratio and same random state\n",
        "X_train,X_test,y_train,y_test = train_test_split(dataset.drop(columns=['Rented Bike Count']),\n",
        "                                                 dataset['Rented Bike Count'],\n",
        "                                                 test_size=0.25,\n",
        "                                                random_state=42)"
      ],
      "metadata": {
        "id": "qa-0_BTc7Fa4"
      },
      "execution_count": null,
      "outputs": []
    },
    {
      "cell_type": "code",
      "source": [
        "# fitting the model created with pipeline\n",
        "pipe.fit(X_train,y_train)"
      ],
      "metadata": {
        "id": "bJEwJqV240LY"
      },
      "execution_count": null,
      "outputs": []
    },
    {
      "cell_type": "code",
      "source": [
        "import pickle\n",
        "\n",
        "# crating a function to save a pickle file\n",
        "def save_pipeline(pipeline, filename):\n",
        "    with open(filename, 'wb') as file:\n",
        "        pickle.dump(pipeline, file)"
      ],
      "metadata": {
        "id": "uqwhKFdSLFKS"
      },
      "execution_count": null,
      "outputs": []
    },
    {
      "cell_type": "code",
      "source": [
        "# Saving the Model in a pickle file\n",
        "# pipeline = pipeline_function(pipe_df)\n",
        "save_pipeline(pipe, 'pipe.pkl')"
      ],
      "metadata": {
        "id": "YMiwCI4FLUa_"
      },
      "execution_count": null,
      "outputs": []
    },
    {
      "cell_type": "markdown",
      "source": [
        "### 2. Again Load the saved model file and try to predict unseen data for a sanity check.\n"
      ],
      "metadata": {
        "id": "iW_Lq9qf2h6X"
      }
    },
    {
      "cell_type": "code",
      "source": [
        "# Load the File and predict unseen data.\n",
        "\n",
        "# Function for loading the pipeline\n",
        "def load_pipeline(filename):\n",
        "    with open(filename, 'rb') as file:\n",
        "        pipeline = pickle.load(file)\n",
        "    return pipeline"
      ],
      "metadata": {
        "id": "oEXk9ydD2nVC"
      },
      "execution_count": null,
      "outputs": []
    },
    {
      "cell_type": "code",
      "source": [
        "# loading the Model in pipeline\n",
        "pipeline = load_pipeline('pipe.pkl')"
      ],
      "metadata": {
        "id": "I_oRDkn5WPNI"
      },
      "execution_count": null,
      "outputs": []
    },
    {
      "cell_type": "code",
      "source": [
        "# predicting the unseen data\n",
        "unseen_data = X_test.copy()\n",
        "y_pred = pipeline.predict(unseen_data)\n",
        "\n",
        "# evaluating the performance\n",
        "eval_matrix_reg(y_test,pipe.predict(X_test),X_test.shape)"
      ],
      "metadata": {
        "id": "mXn0JRonNwnU"
      },
      "execution_count": null,
      "outputs": []
    },
    {
      "cell_type": "markdown",
      "source": [
        "### ***Congrats! Your model is successfully created and ready for deployment on a live server for a real user interaction !!!***"
      ],
      "metadata": {
        "id": "-Kee-DAl2viO"
      }
    },
    {
      "cell_type": "markdown",
      "source": [
        "# **Conclusion**"
      ],
      "metadata": {
        "id": "gCX9965dhzqZ"
      }
    },
    {
      "cell_type": "markdown",
      "source": [
        "Prediction Of Bike Sharing Demand is mainly dependent upon factors like:\n",
        "\n",
        "1. Temperature: Higher demand for bike sharing tends to occur during warmer, drier, and sunnier times when riding is more comfortable and enjoyable for users. Lower demand for bike sharing tends to occur during colder, wetter, and times when riding is less comfortable and enjoyable for users. \n",
        "\n",
        "2. Hour : Time of the day is second most important factor. As it follows the same trend most of the days. \n",
        "\n",
        "3. Month : Monthly Trend can help business stratify the growth plan.\n",
        "\n",
        "4. Slightest of Rainfall and Snowfall effects the average significatly.\n",
        "\n",
        "5. Holiday Effect : Demand tends to decrease on Holiday. Incentives or discounts should be provided for such days.\n",
        "\n",
        "6. Predictions can be done far better using month data instead of seasons data.\n",
        "\n",
        "7. about models."
      ],
      "metadata": {
        "id": "Fjb1IsQkh3yE"
      }
    },
    {
      "cell_type": "markdown",
      "source": [
        "### ***Hurrah! You have successfully completed your Machine Learning Capstone Project !!!***"
      ],
      "metadata": {
        "id": "gIfDvo9L0UH2"
      }
    }
  ]
}